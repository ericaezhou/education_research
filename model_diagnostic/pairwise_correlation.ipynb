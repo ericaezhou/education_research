{
 "cells": [
  {
   "cell_type": "code",
   "execution_count": 6,
   "id": "7492981a",
   "metadata": {},
   "outputs": [],
   "source": [
    "import pandas as pd\n",
    "import numpy as np\n",
    "from scipy.stats import pearsonr"
   ]
  },
  {
   "cell_type": "code",
   "execution_count": 18,
   "id": "551c1c63",
   "metadata": {},
   "outputs": [],
   "source": [
    "def pairwise_cor(data, col1, col2):\n",
    "    df = len(data) - 2\n",
    "    standard_error = 1 / np.sqrt(df)\n",
    "    margin_of_error = 1.96 * standard_error\n",
    "    coef, p_value = pearsonr(data[col1], data[col2])\n",
    "    lower_bound = coef - margin_of_error\n",
    "    upper_bound = coef + margin_of_error\n",
    "    print(\"Correlation for:\", col1, col2)\n",
    "    print(\"Correlation coefficient:\", coef)\n",
    "    print(\"P-value:\", p_value)\n",
    "    print(\"95% Confidence Interval: [{}, {}]\".format(lower_bound, upper_bound))"
   ]
  },
  {
   "cell_type": "markdown",
   "id": "fc99d36f",
   "metadata": {},
   "source": [
    "# Math Proficiency Rate"
   ]
  },
  {
   "cell_type": "code",
   "execution_count": 19,
   "id": "4d6850ac",
   "metadata": {},
   "outputs": [
    {
     "name": "stdout",
     "output_type": "stream",
     "text": [
      "Correlation for: black virtualper\n",
      "Correlation coefficient: 0.6142517607774214\n",
      "P-value: 2.1774219603356488e-132\n",
      "95% Confidence Interval: [0.5591660169001258, 0.669337504654717]\n",
      "Correlation for: black hybridper\n",
      "Correlation coefficient: 0.028737962746147525\n",
      "P-value: 0.30652932483738554\n",
      "95% Confidence Interval: [-0.02634778113114806, 0.0838237066234431]\n",
      "Correlation for: hispanic virtualper\n",
      "Correlation coefficient: 0.5089536930093206\n",
      "P-value: 1.680148697889769e-84\n",
      "95% Confidence Interval: [0.453867949132025, 0.5640394368866162]\n",
      "Correlation for: hispanic hybridper\n",
      "Correlation coefficient: 0.042441513688547566\n",
      "P-value: 0.13091858674040052\n",
      "95% Confidence Interval: [-0.012644230188748017, 0.09752725756584316]\n",
      "Correlation for: lowincome virtualper\n",
      "Correlation coefficient: 0.5230728323802093\n",
      "P-value: 5.669061131537828e-90\n",
      "95% Confidence Interval: [0.4679870885029137, 0.5781585762575049]\n",
      "Correlation for: lowincome hybridper\n",
      "Correlation coefficient: -0.0007555531582081167\n",
      "P-value: 0.9785570786765726\n",
      "95% Confidence Interval: [-0.0558412970355037, 0.054330190719087464]\n"
     ]
    }
   ],
   "source": [
    "drop = pd.read_csv('math_drop.csv').math_drop.to_list()\n",
    "in_math = pd.read_csv('indiana_mathpass.csv')\n",
    "il = pd.read_csv('illinois_all.csv')\n",
    "wi = pd.read_csv('wisconsin_all.csv')\n",
    "data = pd.concat([in_math, il, wi]).loc[:, ['year', 'mergecode', 'state', 'totaltest', 'mathpass',\n",
    "                                            'virtualper', 'hybridper', 'black', 'hispanic',\n",
    "                                            'white', 'lowincome']]\n",
    "data['year'] = data['year'].astype('str')\n",
    "\n",
    "data = data.loc[~data['mergecode'].isin(drop), :].reset_index().drop(columns = 'index')\n",
    "data = data[data['year'] == '21']\n",
    "\n",
    "pairwise_cor(data, 'black', 'virtualper')\n",
    "pairwise_cor(data, 'black', 'hybridper')\n",
    "pairwise_cor(data, 'hispanic', 'virtualper')\n",
    "pairwise_cor(data, 'hispanic', 'hybridper')\n",
    "pairwise_cor(data, 'lowincome', 'virtualper')\n",
    "pairwise_cor(data, 'lowincome', 'hybridper')"
   ]
  },
  {
   "cell_type": "markdown",
   "id": "5a514fa5",
   "metadata": {},
   "source": [
    "# ELA Proficiency Rate"
   ]
  },
  {
   "cell_type": "code",
   "execution_count": 20,
   "id": "51b9ae45",
   "metadata": {},
   "outputs": [
    {
     "name": "stdout",
     "output_type": "stream",
     "text": [
      "Correlation for: black virtualper\n",
      "Correlation coefficient: 0.595176258445419\n",
      "P-value: 4.911718443320368e-127\n",
      "95% Confidence Interval: [0.5411265699977251, 0.6492259468931129]\n",
      "Correlation for: black hybridper\n",
      "Correlation coefficient: 0.006620275726282778\n",
      "P-value: 0.8103088753083838\n",
      "95% Confidence Interval: [-0.04742941272141112, 0.06066996417397668]\n",
      "Correlation for: hispanic virtualper\n",
      "Correlation coefficient: 0.5359653485741352\n",
      "P-value: 8.224737800960214e-99\n",
      "95% Confidence Interval: [0.4819156601264413, 0.5900150370218291]\n",
      "Correlation for: hispanic hybridper\n",
      "Correlation coefficient: 0.02629333408135847\n",
      "P-value: 0.3403586324684938\n",
      "95% Confidence Interval: [-0.02775635436633543, 0.08034302252905237]\n",
      "Correlation for: lowincome virtualper\n",
      "Correlation coefficient: 0.5128806182321658\n",
      "P-value: 2.973751421660141e-89\n",
      "95% Confidence Interval: [0.4588309297844719, 0.5669303066798597]\n",
      "Correlation for: lowincome hybridper\n",
      "Correlation coefficient: -0.04148506071159548\n",
      "P-value: 0.13239309377095362\n",
      "95% Confidence Interval: [-0.09553474915928939, 0.01256462773609842]\n"
     ]
    }
   ],
   "source": [
    "drop = pd.read_csv('ela_inf_remove.csv').ela_drop.to_list()\n",
    "in_ela = pd.read_csv('indiana_elapass.csv')\n",
    "il = pd.read_csv('illinois_all.csv')\n",
    "wi = pd.read_csv('wisconsin_all.csv')\n",
    "data = pd.concat([in_ela, il, wi]).loc[:, ['year', 'mergecode', 'state', 'totaltest', 'mathpass',\n",
    "                                            'virtualper', 'hybridper', 'black', 'hispanic',\n",
    "                                            'white', 'lowincome']]\n",
    "data['year'] = data['year'].astype('str')\n",
    "\n",
    "data = data.loc[~data['mergecode'].isin(drop), :].reset_index().drop(columns = 'index')\n",
    "data = data[data['year'] == '21']\n",
    "\n",
    "pairwise_cor(data, 'black', 'virtualper')\n",
    "pairwise_cor(data, 'black', 'hybridper')\n",
    "pairwise_cor(data, 'hispanic', 'virtualper')\n",
    "pairwise_cor(data, 'hispanic', 'hybridper')\n",
    "pairwise_cor(data, 'lowincome', 'virtualper')\n",
    "pairwise_cor(data, 'lowincome', 'hybridper')"
   ]
  },
  {
   "cell_type": "markdown",
   "id": "94f31a48",
   "metadata": {},
   "source": [
    "# Dropout Rate"
   ]
  },
  {
   "cell_type": "code",
   "execution_count": 21,
   "id": "22e8efdf",
   "metadata": {},
   "outputs": [
    {
     "name": "stdout",
     "output_type": "stream",
     "text": [
      "Correlation for: black virtualper\n",
      "Correlation coefficient: 0.4369616731457225\n",
      "P-value: 2.897908209425087e-60\n",
      "95% Confidence Interval: [0.3818759292684269, 0.4920474170230181]\n",
      "Correlation for: black hybridper\n",
      "Correlation coefficient: -0.1346953249053259\n",
      "P-value: 1.4824660521242653e-06\n",
      "95% Confidence Interval: [-0.1897810687826215, -0.07960958102803031]\n",
      "Correlation for: hispanic virtualper\n",
      "Correlation coefficient: 0.39415341743701887\n",
      "P-value: 2.1741235421379714e-48\n",
      "95% Confidence Interval: [0.3390676735597233, 0.44923916131431446]\n",
      "Correlation for: hispanic hybridper\n",
      "Correlation coefficient: 0.17085265154701607\n",
      "P-value: 9.185134793719629e-10\n",
      "95% Confidence Interval: [0.11576690766972048, 0.22593839542431166]\n",
      "Correlation for: lowincome virtualper\n",
      "Correlation coefficient: 0.4130987653647204\n",
      "P-value: 1.966968916530988e-53\n",
      "95% Confidence Interval: [0.3580130214874248, 0.468184509242016]\n",
      "Correlation for: lowincome hybridper\n",
      "Correlation coefficient: -0.0670479139315365\n",
      "P-value: 0.016947674676416214\n",
      "95% Confidence Interval: [-0.12213365780883209, -0.011962170054240918]\n"
     ]
    }
   ],
   "source": [
    "drop = pd.read_csv('drop_inf_remove.csv').drop_drop.to_list() + ['644-0500georgia',\n",
    " '4412-90822arizona',\n",
    " '4403-6264arizona',\n",
    " '4320-90159arizona',\n",
    " '4221-90064arizona',\n",
    " '4196-92913arizona',\n",
    " '79874-78813arizona',\n",
    " '1010-5146colorado',\n",
    " '0870-2155colorado',\n",
    " '772-0110georgia',\n",
    " '4431-5877arizona']\n",
    "az = pd.read_csv('arizona_dropout.csv')\n",
    "co = pd.read_csv('colorado_dropout.csv')\n",
    "ga = pd.read_csv('georgia_dropout.csv')\n",
    "wi = pd.read_csv('wisconsin_all.csv')\n",
    "data = pd.concat([az, co, ga, wi]).loc[:, ['year', 'mergecode', 'state', 'totalenroll', 'droprate',\n",
    "                                            'virtualper', 'hybridper', 'black', 'hispanic',\n",
    "                                            'white', 'lowincome']]\n",
    "\n",
    "data = data.loc[~data['mergecode'].isin(drop), :].reset_index().drop(columns = 'index')\n",
    "data['year'] = data['year'].astype('str')\n",
    "data = data[data['year'] == '21']\n",
    "\n",
    "pairwise_cor(data, 'black', 'virtualper')\n",
    "pairwise_cor(data, 'black', 'hybridper')\n",
    "pairwise_cor(data, 'hispanic', 'virtualper')\n",
    "pairwise_cor(data, 'hispanic', 'hybridper')\n",
    "pairwise_cor(data, 'lowincome', 'virtualper')\n",
    "pairwise_cor(data, 'lowincome', 'hybridper')"
   ]
  },
  {
   "cell_type": "code",
   "execution_count": null,
   "id": "c9c5f179",
   "metadata": {},
   "outputs": [],
   "source": []
  }
 ],
 "metadata": {
  "kernelspec": {
   "display_name": "Python 3 (ipykernel)",
   "language": "python",
   "name": "python3"
  },
  "language_info": {
   "codemirror_mode": {
    "name": "ipython",
    "version": 3
   },
   "file_extension": ".py",
   "mimetype": "text/x-python",
   "name": "python",
   "nbconvert_exporter": "python",
   "pygments_lexer": "ipython3",
   "version": "3.9.7"
  }
 },
 "nbformat": 4,
 "nbformat_minor": 5
}
