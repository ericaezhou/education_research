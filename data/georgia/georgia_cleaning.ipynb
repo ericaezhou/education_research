{
 "cells": [
  {
   "cell_type": "code",
   "execution_count": 1,
   "id": "15884c19",
   "metadata": {},
   "outputs": [],
   "source": [
    "import pandas as pd"
   ]
  },
  {
   "cell_type": "markdown",
   "id": "6a25bc51",
   "metadata": {},
   "source": [
    "# Data: https://gosa.georgia.gov/dashboards-data-report-card/downloadable-data"
   ]
  },
  {
   "cell_type": "code",
   "execution_count": 2,
   "id": "e6173838",
   "metadata": {},
   "outputs": [],
   "source": [
    "year = ['17', '18', '19', '21']"
   ]
  },
  {
   "cell_type": "code",
   "execution_count": 3,
   "id": "0b39fb95",
   "metadata": {},
   "outputs": [],
   "source": [
    "def code_change(x):\n",
    "    code_len = len(str(x))\n",
    "    if code_len != 4:\n",
    "        add_0 = 4 - code_len\n",
    "        return add_0 * '0' + str(x)\n",
    "    else:\n",
    "        return str(x)\n",
    "\n",
    "def dropout_clean(x, year):\n",
    "    data = pd.read_csv(x).rename(columns = {'LONG_SCHOOL_YEAR':'year', 'DETAIL_LVL_DESC':'level', \n",
    "                        'SCHOOL_DSTRCT_CD':'districtcode', 'SCHOOL_DSTRCT_NM':'districtname', \n",
    "                        'INSTN_NUMBER':'schoolcode','INSTN_NAME':'schoolname', \n",
    "                        'LABEL_LVL_1_DESC':'droplabel', 'PROGRAM_PERCENT':'droprate',\n",
    "                        'PROGRAM_TOTAL':'dropnum'})\n",
    "    data = data[((data['level'] == 'School') & (data['droplabel'] == '9-12 Drop Outs -ALL Students'))]\n",
    "    data['schoolcode'] = data['schoolcode'].apply(lambda x: code_change(x))\n",
    "    data['districtcode'] = data['districtcode'].apply(lambda x: str(x))\n",
    "    data['mergecode'] = data['districtcode'] + '-' + data['schoolcode']\n",
    "    data = data[data['droprate'] != 'TFS']\n",
    "    data = data[((data['dropnum'] != 'TFS') & (data['dropnum'].notna()))]\n",
    "    data['dropnum'] = data['dropnum'].astype('int')\n",
    "    data['droprate'] = data['droprate'].astype('float')\n",
    "    data['totalenroll'] = round(data['dropnum'] / (data['droprate'] / 100))\n",
    "    data['droprate'] = round(data['droprate'].fillna(0).astype('float'), 2)\n",
    "    data['year'] = year\n",
    "    data.loc[:, ['year', 'mergecode', 'droprate', 'totalenroll']].set_index(\n",
    "        'year').to_csv(f'dropout_clean_{year}.csv')\n",
    "    "
   ]
  },
  {
   "cell_type": "code",
   "execution_count": 4,
   "id": "a0fab32b",
   "metadata": {},
   "outputs": [],
   "source": [
    "for i in year:\n",
    "    dropout_clean(f'drop{i}.csv', i)"
   ]
  },
  {
   "cell_type": "code",
   "execution_count": 5,
   "id": "232c9d0b",
   "metadata": {},
   "outputs": [],
   "source": [
    "data21 = set(list(pd.read_csv('dropout_clean_21.csv').mergecode))\n",
    "data19 = set(list(pd.read_csv('dropout_clean_19.csv').mergecode))\n",
    "data18 = set(list(pd.read_csv('dropout_clean_18.csv').mergecode))\n",
    "data17 = set(list(pd.read_csv('dropout_clean_17.csv').mergecode))\n",
    "\n",
    "mutual_code = list(data21.intersection(data19).intersection(data18).intersection(data17))"
   ]
  },
  {
   "cell_type": "code",
   "execution_count": 6,
   "id": "240b69cd",
   "metadata": {},
   "outputs": [],
   "source": [
    "all_data_drop = pd.DataFrame()\n",
    "for i in year:\n",
    "    data = pd.read_csv(f'dropout_clean_{i}.csv')\n",
    "    data = data.loc[data['mergecode'].isin(mutual_code)]\n",
    "    all_data_drop = pd.concat([all_data_drop, data])"
   ]
  },
  {
   "cell_type": "code",
   "execution_count": 7,
   "id": "b2c315b7",
   "metadata": {},
   "outputs": [],
   "source": [
    "def enroll_clean(x, year):\n",
    "    data = pd.read_csv(x).rename(columns = {'LONG_SCHOOL_YEAR':'year', 'DETAIL_LVL_DESC':'level', \n",
    "                        'SCHOOL_DSTRCT_CD':'districtcode', 'SCHOOL_DSTRCT_NM':'districtname', \n",
    "                        'INSTN_NUMBER':'schoolcode','INSTN_NAME':'schoolname', \n",
    "                        'ENROLL_PERCENT_BLACK':'black','ENROLL_PERCENT_HISPANIC':'hispanic', \n",
    "                        'ENROLL_PERCENT_WHITE':'white','ENROLL_PERCENT_ED':'lowincome'}).loc[:, \n",
    "                        ['year', 'level','districtcode','schoolcode', 'districtname', 'schoolname', \n",
    "                        'black', 'hispanic', 'white', 'lowincome']]\n",
    "    data = data[data['level'] == 'School']\n",
    "    data['schoolcode'] = data['schoolcode'].apply(lambda x: code_change(x))\n",
    "    data['districtcode'] = data['districtcode'].apply(lambda x: str(x))\n",
    "    data['mergecode'] = data['districtcode'] + '-' + data['schoolcode']\n",
    "    data = data.loc[data['mergecode'].isin(mutual_code)]\n",
    "    data = data.loc[:, ['year', 'mergecode', 'districtcode', 'black', 'hispanic', 'white', 'lowincome']]\n",
    "    data['year'] = year\n",
    "    data.set_index('year').fillna(0).to_csv(f'enrollment_clean_{year}.csv')\n",
    "    "
   ]
  },
  {
   "cell_type": "code",
   "execution_count": 8,
   "id": "54be5ce8",
   "metadata": {},
   "outputs": [],
   "source": [
    "for i in year:\n",
    "    enroll_clean(f'enrollment{i}.csv', i)"
   ]
  },
  {
   "cell_type": "code",
   "execution_count": 9,
   "id": "3490ec43",
   "metadata": {},
   "outputs": [],
   "source": [
    "all_data_enroll = pd.DataFrame()\n",
    "for i in year:\n",
    "    data = pd.read_csv(f'enrollment_clean_{i}.csv')\n",
    "    data = data.loc[data['mergecode'].isin(mutual_code)]\n",
    "    all_data_enroll = pd.concat([all_data_enroll, data])"
   ]
  },
  {
   "cell_type": "code",
   "execution_count": 10,
   "id": "8fdf5ba0",
   "metadata": {},
   "outputs": [],
   "source": [
    "mode = pd.read_csv('learning_mode.csv')\n",
    "mode = mode[mode['LearningModel']!='Closed']\n",
    "\n",
    "charter = mode.loc[:, ['StateAssignedSchoolID', 'Charter']].drop_duplicates().rename(\n",
    "    columns = {'StateAssignedSchoolID':'mergecode', 'Charter':'charter'})\n",
    "charter_map = {'No':0, 'Yes':1}\n",
    "charter['charter'] = charter['charter'].map(charter_map)\n",
    "\n",
    "mode = mode.groupby(['StateAssignedSchoolID', 'NCESSchoolID'])['LearningModel'].value_counts(\n",
    "    normalize = True).to_frame().rename(columns = {'LearningModel':'normalized'}).reset_index().rename(\n",
    "columns = {'StateAssignedSchoolID':'mergecode'})\n",
    "\n",
    "mode = mode.pivot(columns = 'LearningModel', values = 'normalized', \n",
    "index = ['mergecode', 'NCESSchoolID']).reset_index().fillna(0).loc[:, ['mergecode', 'NCESSchoolID',\n",
    "                                                                'Hybrid', 'Virtual', 'In-person']].rename(\n",
    "columns = {'Hybrid':'hybridper', 'Virtual':'virtualper', 'In-person':'inpersonper'})\n",
    "\n",
    "mode['schoolmode'] = 1 * mode['virtualper'] + 0.5 * mode['hybridper']\n",
    "\n",
    "mode.loc[:, ['hybridper', 'virtualper', 'inpersonper', 'schoolmode']] = round(\n",
    "    mode.loc[:, ['hybridper', 'virtualper', 'inpersonper', 'schoolmode']], 2)\n",
    "\n",
    "mode['NCESSchoolID'] = mode['NCESSchoolID'].astype('str')"
   ]
  },
  {
   "cell_type": "code",
   "execution_count": 11,
   "id": "3ee262b3",
   "metadata": {},
   "outputs": [],
   "source": [
    "csv = all_data_enroll.merge(all_data_drop, on = ['year', 'mergecode']).merge(\n",
    "    charter, on = 'mergecode').merge(mode, on = 'mergecode')\n",
    "\n",
    "csv['state'] = 'georgia'\n",
    "csv['mergecode'] = csv['mergecode'] + csv['state']\n",
    "csv['districtcode'] = csv['districtcode'].astype('str') + csv['state']\n",
    "csv.loc[csv['year']!=21, ['hybridper', 'virtualper', 'schoolmode']] = 0\n",
    "csv.loc[csv['year']!=21, ['inpersonper']] = 1\n",
    "csv['year_21'] = 1\n",
    "csv.loc[csv['year']!=21, ['year_21']] = 0\n",
    "csv['totalenroll'] = csv['totalenroll'].astype('int')\n",
    "csv.set_index('year').to_csv('georgia_dropout.csv')"
   ]
  },
  {
   "cell_type": "code",
   "execution_count": null,
   "id": "b19defb2",
   "metadata": {},
   "outputs": [],
   "source": []
  }
 ],
 "metadata": {
  "kernelspec": {
   "display_name": "Python 3 (ipykernel)",
   "language": "python",
   "name": "python3"
  },
  "language_info": {
   "codemirror_mode": {
    "name": "ipython",
    "version": 3
   },
   "file_extension": ".py",
   "mimetype": "text/x-python",
   "name": "python",
   "nbconvert_exporter": "python",
   "pygments_lexer": "ipython3",
   "version": "3.9.7"
  }
 },
 "nbformat": 4,
 "nbformat_minor": 5
}
