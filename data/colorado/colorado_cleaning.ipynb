{
 "cells": [
  {
   "cell_type": "code",
   "execution_count": 1,
   "id": "fd5cd59b",
   "metadata": {},
   "outputs": [],
   "source": [
    "import pandas as pd"
   ]
  },
  {
   "cell_type": "markdown",
   "id": "3c2098f6",
   "metadata": {},
   "source": [
    "# Data: https://www.cde.state.co.us/cdereval"
   ]
  },
  {
   "cell_type": "code",
   "execution_count": 2,
   "id": "57ce1680",
   "metadata": {},
   "outputs": [],
   "source": [
    "year = ['17', '18', '19', '21']"
   ]
  },
  {
   "cell_type": "code",
   "execution_count": 3,
   "id": "76e8bc3f",
   "metadata": {},
   "outputs": [],
   "source": [
    "def dropout_clean(x, year):\n",
    "    data = pd.read_csv(x).rename(columns = \n",
    "    {'Org. Code':'districtcode', 'Organization Name':'districtname', 'School Code':'schoolcode', \n",
    "     'School Name / Category (include or exclude alternative schools)':'schoolname', \n",
    "     'Total Pupil Count':'totalenroll', 'Total Dropout Rate':'droprate',\n",
    "    'Black Or Aftican American Pupil Count':'black', 'Hispanic or Latino Pupil Count':'hispanic',\n",
    "    'White Pupil Count':'white'}).loc[:, ['districtcode','districtname', 'schoolcode', 'schoolname', \n",
    "    'totalenroll', 'droprate', 'black', 'hispanic', 'white']]\n",
    "    data = data[((data['districtcode'].notna()) & (data['schoolcode'].notna()) \n",
    "                 & (data['totalenroll']!=0) & (data['schoolcode']!='DDRP'))]\n",
    "    data.loc[:, ['districtcode', 'schoolcode']] = data.loc[:, ['districtcode', \n",
    "                                                               'schoolcode']].astype('int').astype('str')\n",
    "    data['mergecode'] = data['districtcode'] + '-' + data['schoolcode']\n",
    "    data = data[~data['schoolname'].str.contains('DISTRICT|STATE')]\n",
    "    data['year'] = year\n",
    "    data['droprate'] = round(data['droprate'].astype('float') * 100, 2)\n",
    "    data.loc[:, ['black', 'hispanic', 'white']] = data.loc[:, ['black', 'hispanic', 'white']].astype('int')\n",
    "    data['black'] = round((data['black'] / data['totalenroll'])*100, 2)\n",
    "    data['hispanic'] = round((data['hispanic'] / data['totalenroll'])*100, 2)\n",
    "    data['white'] = round((data['white'] / data['totalenroll'])*100, 2)\n",
    "    data = data[data['schoolcode']!='0']\n",
    "    data['totalenroll'] = data['totalenroll'].astype('int')\n",
    "    data.loc[:, ['mergecode', 'schoolcode', 'districtcode', 'year', 'droprate', 'black', 'white', 'hispanic',\n",
    "                'totalenroll']].set_index('year').to_csv(f'dropout_clean_{year}.csv')"
   ]
  },
  {
   "cell_type": "code",
   "execution_count": 4,
   "id": "e0db3dbe",
   "metadata": {},
   "outputs": [],
   "source": [
    "for i in year:\n",
    "    dropout_clean(f'drop{i}.csv', i)"
   ]
  },
  {
   "cell_type": "code",
   "execution_count": 5,
   "id": "2dd8bed3",
   "metadata": {},
   "outputs": [],
   "source": [
    "data21 = set(list(pd.read_csv('dropout_clean_21.csv').mergecode))\n",
    "data19 = set(list(pd.read_csv('dropout_clean_19.csv').mergecode))\n",
    "data18 = set(list(pd.read_csv('dropout_clean_18.csv').mergecode))\n",
    "data17 = set(list(pd.read_csv('dropout_clean_17.csv').mergecode))\n",
    "\n",
    "mutual_code = list(data21.intersection(data19).intersection(data18).intersection(data17))"
   ]
  },
  {
   "cell_type": "code",
   "execution_count": 6,
   "id": "5bbd8fdc",
   "metadata": {},
   "outputs": [],
   "source": [
    "all_data_drop = pd.DataFrame()\n",
    "for i in year:\n",
    "    data = pd.read_csv(f'dropout_clean_{i}.csv')\n",
    "    data = data.loc[data['mergecode'].isin(mutual_code)]\n",
    "    all_data_drop = pd.concat([all_data_drop, data])"
   ]
  },
  {
   "cell_type": "code",
   "execution_count": 7,
   "id": "d3e61707",
   "metadata": {},
   "outputs": [
    {
     "name": "stderr",
     "output_type": "stream",
     "text": [
      "/opt/anaconda3/lib/python3.9/site-packages/IPython/core/interactiveshell.py:3444: DtypeWarning: Columns (0,2,4,5,6,7,8,9,10,11,12,13,14,15,17,18,20,21,23,24,26,27,29,30,32,33,35,36,38,39,41,42,43,44,45,46,47,48,49,50,51,52,53,54,55,56,57,58,59,60,62,65,68,69,71,72,74,75,77,78) have mixed types.Specify dtype option on import or set low_memory=False.\n",
      "  exec(code_obj, self.user_global_ns, self.user_ns)\n"
     ]
    }
   ],
   "source": [
    "grade_check = pd.read_csv('grade_check.csv').loc[:, ['Org. Code', 'School Code', 'Grade',\n",
    "'School Name / Category (include or exclude alternative schools)']].dropna().rename(\n",
    "columns = {'Org. Code':'districtcode', 'School Code':'schoolcode', 'School Name':'schoolname',\n",
    "          'School Name / Category (include or exclude alternative schools)':'schoolname'})\n",
    "grade_check.loc[:, ['districtcode', 'schoolcode']] = grade_check.loc[\n",
    "    :, ['districtcode', 'schoolcode']].astype('int').astype('str')\n",
    "grade_check = grade_check[~grade_check['schoolname'].str.contains('DISTRICT|STATE')]\n",
    "grade_check[grade_check['Grade'] != 'ALL']\n",
    "grade_check['mergecode'] = grade_check['districtcode'] + '-' + grade_check['schoolcode']\n",
    "grade_check = grade_check.loc[:,['mergecode', 'Grade', 'schoolname']].pivot(\n",
    "    columns = 'Grade', index = 'mergecode', values = 'schoolname')\n",
    "middle = grade_check[((grade_check[' 9'].isna()) & (grade_check['10'].isna()) \n",
    "             & (grade_check['11'].isna()) & (grade_check['12'].isna()))].reset_index().mergecode.to_list()\n",
    "all_data_drop = all_data_drop[~all_data_drop.mergecode.isin(middle)]"
   ]
  },
  {
   "cell_type": "code",
   "execution_count": 8,
   "id": "1181346b",
   "metadata": {},
   "outputs": [],
   "source": [
    "def frpm_clean(x, year):\n",
    "    data = pd.read_csv(x).rename(columns = {'DISTRICT CODE':'districtcode', \n",
    "                        'DISTRICT NAME\\t':'districtname', 'SCHOOL CODE':'schoolcode',\n",
    "                        'SCHOOL NAME':'schoolname', '% FREE AND REDUCED':'lowincome'}).loc[:, [\n",
    "        'districtcode', 'districtname', 'schoolcode', 'schoolname', 'lowincome'\n",
    "    ]].dropna()\n",
    "    data = data[data['lowincome'] != '*']\n",
    "    data.loc[:, ['districtcode', 'schoolcode']] = data.loc[:, ['districtcode', \n",
    "                                                               'schoolcode']].astype('int').astype('str')\n",
    "    data['mergecode'] = data['districtcode'] + '-' + data['schoolcode']\n",
    "    data['year'] = year\n",
    "    data.lowincome = round(data.lowincome.astype('float') * 100, 2)\n",
    "    data.loc[:, ['year', 'mergecode', 'lowincome']].set_index('year').to_csv(f'frpm_clean_{year}.csv')"
   ]
  },
  {
   "cell_type": "code",
   "execution_count": 9,
   "id": "c48b73c5",
   "metadata": {},
   "outputs": [],
   "source": [
    "for i in year:\n",
    "    frpm_clean(f'frpm{i}.csv', i)"
   ]
  },
  {
   "cell_type": "code",
   "execution_count": 10,
   "id": "ca24ec79",
   "metadata": {},
   "outputs": [],
   "source": [
    "data21 = set(list(pd.read_csv('frpm_clean_21.csv').mergecode))\n",
    "data19 = set(list(pd.read_csv('frpm_clean_19.csv').mergecode))\n",
    "data18 = set(list(pd.read_csv('frpm_clean_18.csv').mergecode))\n",
    "data17 = set(list(pd.read_csv('frpm_clean_17.csv').mergecode))\n",
    "\n",
    "mutual_code_frpm = list(data21.intersection(data19).intersection(data18).intersection(data17))"
   ]
  },
  {
   "cell_type": "code",
   "execution_count": 11,
   "id": "7cc72111",
   "metadata": {},
   "outputs": [],
   "source": [
    "all_data_frpm = pd.DataFrame()\n",
    "for i in year:\n",
    "    data = pd.read_csv(f'frpm_clean_{i}.csv')\n",
    "    data = data.loc[((data['mergecode'].isin(mutual_code_frpm)) & (data['mergecode'].isin(mutual_code)))]\n",
    "    all_data_frpm = pd.concat([all_data_frpm, data])"
   ]
  },
  {
   "cell_type": "code",
   "execution_count": 12,
   "id": "6831274f",
   "metadata": {},
   "outputs": [],
   "source": [
    "all_data = all_data_drop.merge(all_data_frpm, on = ['year', 'mergecode'])\n",
    "\n",
    "all_data['totalenroll'] = all_data['totalenroll'].astype('int')\n",
    "\n",
    "def code_change(x):\n",
    "    code_len = len(str(x))\n",
    "    if code_len != 4:\n",
    "        add_0 = 4 - code_len\n",
    "        return add_0 * '0' + str(x)\n",
    "    else:\n",
    "        return str(x)\n",
    "    \n",
    "all_data['schoolcode'] = all_data['schoolcode'].apply(lambda x: code_change(x))\n",
    "all_data['districtcode'] = all_data['districtcode'].apply(lambda x: code_change(x))\n",
    "all_data['mergecode'] = all_data['districtcode'] + '-' + all_data['schoolcode']\n",
    "\n",
    "all_data = all_data.drop(columns = 'schoolcode')"
   ]
  },
  {
   "cell_type": "code",
   "execution_count": 13,
   "id": "9434b1c9",
   "metadata": {},
   "outputs": [],
   "source": [
    "mode = pd.read_csv('learning_mode.csv')\n",
    "mode = mode[mode['LearningModel']!='Closed']\n",
    "\n",
    "charter = mode.loc[:, ['StateAssignedSchoolID', 'Charter']].drop_duplicates().rename(\n",
    "    columns = {'StateAssignedSchoolID':'mergecode', 'Charter':'charter'})\n",
    "charter_map = {'No':0, 'Yes':1}\n",
    "charter['charter'] = charter['charter'].map(charter_map)\n",
    "\n",
    "mode = mode.groupby(['StateAssignedSchoolID', 'NCESSchoolID'])['LearningModel'].value_counts(\n",
    "    normalize = True).to_frame().rename(columns = {'LearningModel':'normalized'}).reset_index().rename(\n",
    "columns = {'StateAssignedSchoolID':'mergecode'})\n",
    "\n",
    "mode = mode.pivot(columns = 'LearningModel', values = 'normalized', \n",
    "index = ['mergecode', 'NCESSchoolID']).reset_index().fillna(0).loc[:, ['mergecode', 'NCESSchoolID',\n",
    "                                                                'Hybrid', 'Virtual', 'In-person']].rename(\n",
    "columns = {'Hybrid':'hybridper', 'Virtual':'virtualper', 'In-person':'inpersonper'})\n",
    "\n",
    "mode['schoolmode'] = 1 * mode['virtualper'] + 0.5 * mode['hybridper']\n",
    "\n",
    "mode.loc[:, ['hybridper', 'virtualper', 'inpersonper', 'schoolmode']] = round(\n",
    "    mode.loc[:, ['hybridper', 'virtualper', 'inpersonper', 'schoolmode']], 2)\n",
    "\n",
    "mode['NCESSchoolID'] = mode['NCESSchoolID'].astype('str')"
   ]
  },
  {
   "cell_type": "code",
   "execution_count": 14,
   "id": "c2ed0fc4",
   "metadata": {},
   "outputs": [],
   "source": [
    "csv = all_data.merge(charter, on = 'mergecode').merge(mode, on = 'mergecode')\n",
    "csv['state'] = 'colorado'\n",
    "csv['mergecode'] = csv['mergecode'] + csv['state']\n",
    "csv['districtcode'] = csv['districtcode'].astype('str') + csv['state']\n",
    "csv.loc[csv['year']!=21, ['hybridper', 'virtualper', 'schoolmode']] = 0\n",
    "csv.loc[csv['year']!=21, ['inpersonper']] = 1\n",
    "csv['year_21'] = 1\n",
    "csv.loc[csv['year']!=21, ['year_21']] = 0\n",
    "csv.set_index('year').to_csv('colorado_dropout.csv')"
   ]
  },
  {
   "cell_type": "code",
   "execution_count": null,
   "id": "a5dcd146",
   "metadata": {},
   "outputs": [],
   "source": []
  }
 ],
 "metadata": {
  "kernelspec": {
   "display_name": "Python 3 (ipykernel)",
   "language": "python",
   "name": "python3"
  },
  "language_info": {
   "codemirror_mode": {
    "name": "ipython",
    "version": 3
   },
   "file_extension": ".py",
   "mimetype": "text/x-python",
   "name": "python",
   "nbconvert_exporter": "python",
   "pygments_lexer": "ipython3",
   "version": "3.9.7"
  }
 },
 "nbformat": 4,
 "nbformat_minor": 5
}
