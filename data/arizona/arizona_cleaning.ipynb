{
 "cells": [
  {
   "cell_type": "code",
   "execution_count": 1,
   "id": "fbbf2deb",
   "metadata": {},
   "outputs": [],
   "source": [
    "import pandas as pd"
   ]
  },
  {
   "cell_type": "markdown",
   "id": "fd0a1ef8",
   "metadata": {},
   "source": [
    "# Data: https://www.azed.gov/accountability-research/data"
   ]
  },
  {
   "cell_type": "code",
   "execution_count": 2,
   "id": "ac3fcbfb",
   "metadata": {},
   "outputs": [],
   "source": [
    "year = ['17', '18', '19', '21']"
   ]
  },
  {
   "cell_type": "code",
   "execution_count": 3,
   "id": "6f0e938a",
   "metadata": {},
   "outputs": [],
   "source": [
    "def enrollment_clean(x, year):\n",
    "    data = pd.read_csv(x).rename(columns = {'LEA Name':'districtname', \n",
    "    'LEA Entity ID':'districtcode','School Name':'schoolname', 'School Entity ID':'schoolcode'}).loc[:, \n",
    "    ['districtcode', 'districtname', 'schoolcode','schoolname', 'Subgroup', 'EthnicBlackAfricanAmerican', \n",
    "     'EthnicHispanicLatino','EthnicWhite', 'Total']].dropna()\n",
    "    data.loc[:, ['districtcode', 'schoolcode']] = data.loc[:, \n",
    "                                    ['districtcode', 'schoolcode']].astype('int').astype('str')\n",
    "    data = data[data['Subgroup'] == 'All Students'].replace('*', 0)\n",
    "    data['Total'] = data['Total'].astype('int')\n",
    "    data = data[data['Total'] > 0]\n",
    "    data.loc[:, ['EthnicBlackAfricanAmerican', 'EthnicHispanicLatino','EthnicWhite']] = data.loc[:, \n",
    "    ['EthnicBlackAfricanAmerican', 'EthnicHispanicLatino','EthnicWhite']].astype('int')\n",
    "    \n",
    "    data['black'] = round((data['EthnicBlackAfricanAmerican'] / data['Total']) * 100, 2)\n",
    "    data['hispanic'] = round((data['EthnicHispanicLatino'] / data['Total']) * 100, 2)\n",
    "    data['white'] = round((data['EthnicWhite'] / data['Total']) * 100, 2)\n",
    "    \n",
    "    data['mergecode'] = data['districtcode'] + '-' + data['schoolcode']\n",
    "    data['year'] = year\n",
    "    data = data.rename(columns = {'Total':'totalenroll'})\n",
    "    \n",
    "    data = data.loc[:, ['year', 'mergecode', 'districtcode', 'schoolcode', 'black', 'hispanic', 'white',\n",
    "                       'totalenroll']].set_index('year').to_csv(f'enrollment_clean_{year}.csv')"
   ]
  },
  {
   "cell_type": "code",
   "execution_count": 4,
   "id": "9739cb3f",
   "metadata": {},
   "outputs": [],
   "source": [
    "for i in year:\n",
    "    enrollment_clean(f'enrollment{i}.csv', i)"
   ]
  },
  {
   "cell_type": "code",
   "execution_count": 5,
   "id": "76cf7b3d",
   "metadata": {},
   "outputs": [],
   "source": [
    "data21 = set(list(pd.read_csv('enrollment_clean_21.csv').mergecode))\n",
    "data19 = set(list(pd.read_csv('enrollment_clean_19.csv').mergecode))\n",
    "data18 = set(list(pd.read_csv('enrollment_clean_18.csv').mergecode))\n",
    "data17 = set(list(pd.read_csv('enrollment_clean_17.csv').mergecode))\n",
    "\n",
    "mutual_code = list(data21.intersection(data19).intersection(data18).intersection(data17))"
   ]
  },
  {
   "cell_type": "code",
   "execution_count": 6,
   "id": "853b4e7a",
   "metadata": {},
   "outputs": [],
   "source": [
    "all_data_enroll = pd.DataFrame()\n",
    "for i in year:\n",
    "    data = pd.read_csv(f'enrollment_clean_{i}.csv')\n",
    "    data = data.loc[data['mergecode'].isin(mutual_code)]\n",
    "    all_data_enroll = pd.concat([all_data_enroll, data])"
   ]
  },
  {
   "cell_type": "code",
   "execution_count": 7,
   "id": "45c3b94c",
   "metadata": {},
   "outputs": [],
   "source": [
    "grade = pd.read_csv('school_grade.csv')\n",
    "grade = grade.loc[(grade['9'] == '*') & (grade['10'] == '*') & (grade['11'] == '*') & (grade['12'] == '*')\n",
    "         & (grade['SchoolEntityID'].notna())].rename(\n",
    "    columns = {'DistrictofResidenceEntityID':'districtcode','SchoolEntityID':'schoolcode'}).loc[\n",
    "    :, ['districtcode', 'schoolcode']]\n",
    "grade.loc[:, ['districtcode', 'schoolcode']] = grade.loc[:, \n",
    "                                    ['districtcode', 'schoolcode']].astype('int').astype('str')\n",
    "grade['mergecode'] = grade['districtcode'] + '-' + grade['schoolcode']\n",
    "all_data_enroll = all_data_enroll.loc[\n",
    "    ~all_data_enroll.mergecode.isin(grade['mergecode'].to_list())]\n"
   ]
  },
  {
   "cell_type": "code",
   "execution_count": 8,
   "id": "ccefba40",
   "metadata": {},
   "outputs": [],
   "source": [
    "def frpm_clean(x, year):\n",
    "    data = pd.read_csv(x).rename(columns ={'SponsorEntityID':'districtcode', \n",
    "                                               'SiteEntityID':'schoolcode'}).dropna()\n",
    "    data = data[data['lowincome'] != '#VALUE!']\n",
    "    data.loc[:, ['districtcode', 'schoolcode']] = data.loc[:, ['districtcode', \n",
    "                                                               'schoolcode']].astype('int').astype('str')\n",
    "    data['lowincome'] = data['lowincome'].astype('float')\n",
    "    data['mergecode'] = data['districtcode'] + '-' + data['schoolcode']\n",
    "    data['lowincome'] = round(data['lowincome'] * 100, 2)\n",
    "    data['year'] = year\n",
    "    data.loc[:,['year', 'mergecode', 'lowincome']].set_index('year').to_csv(f'frpm_clean_{year}.csv')"
   ]
  },
  {
   "cell_type": "code",
   "execution_count": 9,
   "id": "64f43588",
   "metadata": {},
   "outputs": [],
   "source": [
    "for i in year:\n",
    "    frpm_clean(f'frpm{i}.csv', i)"
   ]
  },
  {
   "cell_type": "code",
   "execution_count": 10,
   "id": "524a8741",
   "metadata": {},
   "outputs": [],
   "source": [
    "data21 = set(list(pd.read_csv('frpm_clean_21.csv').mergecode))\n",
    "data19 = set(list(pd.read_csv('frpm_clean_19.csv').mergecode))\n",
    "data18 = set(list(pd.read_csv('frpm_clean_18.csv').mergecode))\n",
    "data17 = set(list(pd.read_csv('frpm_clean_17.csv').mergecode))\n",
    "\n",
    "mutual_code = list(data21.intersection(data19).intersection(data18).intersection(data17))"
   ]
  },
  {
   "cell_type": "code",
   "execution_count": 11,
   "id": "7c6fb6b2",
   "metadata": {},
   "outputs": [],
   "source": [
    "all_data_frpm = pd.DataFrame()\n",
    "for i in year:\n",
    "    data = pd.read_csv(f'frpm_clean_{i}.csv')\n",
    "    data = data.loc[data['mergecode'].isin(mutual_code)]\n",
    "    all_data_frpm = pd.concat([all_data_frpm, data])"
   ]
  },
  {
   "cell_type": "code",
   "execution_count": 12,
   "id": "06a56c64",
   "metadata": {},
   "outputs": [],
   "source": [
    "def dropout_clean(x, year):\n",
    "    data = pd.read_csv(x).rename(columns = {'LEA ID':'districtcode', 'School Entity ID':'schoolcode',\n",
    "                                           'Dropout Rate':'droprate'}).dropna()\n",
    "    data.loc[:, ['districtcode', 'schoolcode']] = data.loc[\n",
    "        :, ['districtcode', 'schoolcode']].astype('int').astype('str')\n",
    "    data['mergecode'] = data['districtcode'] + '-' + data['schoolcode']\n",
    "    data['year'] = year\n",
    "    data.loc[:, ['year', 'mergecode', 'droprate']].set_index('year').to_csv(f'dropout_clean_{year}.csv')"
   ]
  },
  {
   "cell_type": "code",
   "execution_count": 13,
   "id": "9a7daddb",
   "metadata": {},
   "outputs": [],
   "source": [
    "for i in year:\n",
    "    dropout_clean(f'drop{i}.csv', i)"
   ]
  },
  {
   "cell_type": "code",
   "execution_count": 14,
   "id": "fa98ef28",
   "metadata": {},
   "outputs": [],
   "source": [
    "data21 = set(list(pd.read_csv('dropout_clean_21.csv').mergecode))\n",
    "data19 = set(list(pd.read_csv('dropout_clean_19.csv').mergecode))\n",
    "data18 = set(list(pd.read_csv('dropout_clean_18.csv').mergecode))\n",
    "data17 = set(list(pd.read_csv('dropout_clean_17.csv').mergecode))\n",
    "\n",
    "mutual_code = list(data21.intersection(data19).intersection(data18).intersection(data17))"
   ]
  },
  {
   "cell_type": "code",
   "execution_count": 15,
   "id": "f06041f4",
   "metadata": {},
   "outputs": [],
   "source": [
    "all_data_drop = pd.DataFrame()\n",
    "for i in year:\n",
    "    data = pd.read_csv(f'dropout_clean_{i}.csv')\n",
    "    data = data.loc[data['mergecode'].isin(mutual_code)]\n",
    "    all_data_drop = pd.concat([all_data_drop, data])"
   ]
  },
  {
   "cell_type": "code",
   "execution_count": 16,
   "id": "89785135",
   "metadata": {},
   "outputs": [],
   "source": [
    "mode = pd.read_csv('learning_mode.csv')\n",
    "\n",
    "mode['mergecode'] = mode['StateAssignedDistrictID'\n",
    "                        ].astype('int').astype('str') + '-' + mode['StateAssignedSchoolID'].astype('str')\n",
    "\n",
    "charter = mode.loc[:, ['mergecode', 'Charter']].drop_duplicates().rename(columns = {'Charter':'charter'})\n",
    "charter_map = {'No':0, 'Yes':1}\n",
    "charter['charter'] = charter['charter'].map(charter_map)\n",
    "\n",
    "mode = mode[mode['LearningModel']!='Closed']\n",
    "\n",
    "mode = mode.groupby(['mergecode', 'NCESSchoolID'])['LearningModel'].value_counts(\n",
    "    normalize = True).to_frame().rename(columns = {'LearningModel':'normalized'}).reset_index()\n",
    "\n",
    "mode = mode.pivot(columns = 'LearningModel', values = 'normalized', \n",
    "index = ['mergecode', 'NCESSchoolID']).reset_index().fillna(0).loc[:, ['mergecode', 'NCESSchoolID',\n",
    "                                                                'Hybrid', 'Virtual', 'In-person']].rename(\n",
    "columns = {'Hybrid':'hybridper', 'Virtual':'virtualper', 'In-person':'inpersonper'})\n",
    "\n",
    "mode['schoolmode'] = 1 * mode['virtualper'] + 0.5 * mode['hybridper']\n",
    "\n",
    "mode.loc[:, ['hybridper', 'virtualper', 'inpersonper', 'schoolmode']] = round(\n",
    "    mode.loc[:, ['hybridper', 'virtualper', 'inpersonper', 'schoolmode']], 2)\n",
    "\n",
    "mode['NCESSchoolID'] = mode['NCESSchoolID'].astype('str')"
   ]
  },
  {
   "cell_type": "code",
   "execution_count": 17,
   "id": "e07ae2fd",
   "metadata": {},
   "outputs": [],
   "source": [
    "csv = all_data_enroll.merge(all_data_frpm, on = ['year', 'mergecode']).merge(all_data_drop, \n",
    "on = ['year', 'mergecode']).merge(mode, on = 'mergecode').merge(charter, on = 'mergecode').drop(\n",
    "    columns = 'schoolcode')\n",
    "csv['state'] = 'arizona'\n",
    "csv['mergecode'] = csv['mergecode'] + csv['state']\n",
    "csv['districtcode'] = csv['districtcode'].astype('str') + csv['state']\n",
    "csv.loc[csv['year']!=21, ['hybridper', 'virtualper', 'schoolmode']] = 0\n",
    "csv.loc[csv['year']!=21, ['inpersonper']] = 1\n",
    "csv['year_21'] = 1\n",
    "csv.loc[csv['year']!=21, ['year_21']] = 0\n",
    "csv.set_index('year').to_csv('arizona_dropout.csv')"
   ]
  },
  {
   "cell_type": "code",
   "execution_count": null,
   "id": "fccba004",
   "metadata": {},
   "outputs": [],
   "source": []
  }
 ],
 "metadata": {
  "kernelspec": {
   "display_name": "Python 3 (ipykernel)",
   "language": "python",
   "name": "python3"
  },
  "language_info": {
   "codemirror_mode": {
    "name": "ipython",
    "version": 3
   },
   "file_extension": ".py",
   "mimetype": "text/x-python",
   "name": "python",
   "nbconvert_exporter": "python",
   "pygments_lexer": "ipython3",
   "version": "3.9.7"
  }
 },
 "nbformat": 4,
 "nbformat_minor": 5
}
