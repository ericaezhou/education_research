{
 "cells": [
  {
   "cell_type": "code",
   "execution_count": 1,
   "id": "fbf202cb",
   "metadata": {},
   "outputs": [],
   "source": [
    "import pandas as pd"
   ]
  },
  {
   "cell_type": "markdown",
   "id": "d7cf5681",
   "metadata": {},
   "source": [
    "# Data: https://dpi.wi.gov/wisedash/download-files/type?field_wisedash_upload_type_value=All"
   ]
  },
  {
   "cell_type": "code",
   "execution_count": 2,
   "id": "5db0dbe5",
   "metadata": {},
   "outputs": [],
   "source": [
    "year = ['17', '18', '19', '21']"
   ]
  },
  {
   "cell_type": "code",
   "execution_count": 3,
   "id": "3e2a923b",
   "metadata": {},
   "outputs": [],
   "source": [
    "def enrollment_clean(x, year):\n",
    "    data = pd.read_csv(x).rename(columns = {'DISTRICT_CODE':'districtcode', 'SCHOOL_CODE':'schoolcode'})\n",
    "    data = data[((data['GROUP_BY_VALUE'].isin(['Econ Disadv', 'Black', 'Hispanic', 'White'])) & \n",
    "                (data['schoolcode'].notna()))].loc[:, ['districtcode', 'schoolcode', 'GROUP_BY_VALUE', \n",
    "                'PERCENT_OF_GROUP']].pivot(index = ['districtcode', 'schoolcode'], columns = 'GROUP_BY_VALUE',\n",
    "                                          values = 'PERCENT_OF_GROUP').reset_index().fillna(0)\n",
    "    data = data[data['Econ Disadv'] != '*']\n",
    "    data = data.rename(columns = {'Econ Disadv':'lowincome', 'Black':'black', 'Hispanic':'hispanic',\n",
    "                          'White':'white'})\n",
    "    data.loc[:, ['districtcode', 'schoolcode']] = data.loc[:, ['districtcode', \n",
    "                                                               'schoolcode']].astype('int').astype('str')\n",
    "    data.loc[:, ['lowincome', 'black', 'hispanic', 'white']] = round(data.loc[:, \n",
    "    ['lowincome', 'black', 'hispanic', 'white']].astype('float'), 2)\n",
    "    data['mergecode'] = data['districtcode'] + '-' + data['schoolcode']\n",
    "    data['year'] = year\n",
    "    data.set_index('year').to_csv(f'enrollment_clean_{year}.csv')"
   ]
  },
  {
   "cell_type": "code",
   "execution_count": 4,
   "id": "0aae30b6",
   "metadata": {},
   "outputs": [],
   "source": [
    "for i in year:\n",
    "    enrollment_clean(f'enrollment{i}.csv', i)"
   ]
  },
  {
   "cell_type": "code",
   "execution_count": 5,
   "id": "b48e092f",
   "metadata": {},
   "outputs": [],
   "source": [
    "data21 = set(list(pd.read_csv('enrollment_clean_21.csv').mergecode))\n",
    "data19 = set(list(pd.read_csv('enrollment_clean_19.csv').mergecode))\n",
    "data18 = set(list(pd.read_csv('enrollment_clean_18.csv').mergecode))\n",
    "data17 = set(list(pd.read_csv('enrollment_clean_17.csv').mergecode))\n",
    "\n",
    "mutual_code = list(data21.intersection(data19).intersection(data18).intersection(data17))"
   ]
  },
  {
   "cell_type": "code",
   "execution_count": 6,
   "id": "5087fee0",
   "metadata": {},
   "outputs": [],
   "source": [
    "all_data_enroll = pd.DataFrame()\n",
    "for i in year:\n",
    "    data = pd.read_csv(f'enrollment_clean_{i}.csv')\n",
    "    data = data.loc[data['mergecode'].isin(mutual_code)]\n",
    "    all_data_enroll = pd.concat([all_data_enroll, data])"
   ]
  },
  {
   "cell_type": "code",
   "execution_count": 7,
   "id": "c4ce24d8",
   "metadata": {},
   "outputs": [],
   "source": [
    "def dropout_clean(x, year):\n",
    "    data = pd.read_csv(x).rename(columns = {'SCHOOL_CODE':'schoolcode', 'DISTRICT_CODE':'districtcode',\n",
    "                                           'DROPOUT_RATE':'droprate', 'STUDENT_COUNT':'totalenroll'})\n",
    "    data = data[((data['GROUP_BY_VALUE'] == 'All Students') & (data['schoolcode'].notna()) & \n",
    "                (data['GRADE_GROUP'] == 'High School'))].loc[:, ['districtcode', 'schoolcode', \n",
    "                                                                 'droprate', 'totalenroll']]\n",
    "    data.loc[:, ['districtcode', 'schoolcode']] = data.loc[:, ['districtcode', \n",
    "                                                               'schoolcode']].astype('int').astype('str')\n",
    "    data['mergecode'] = data['districtcode'] + '-' + data['schoolcode']\n",
    "    data['year'] = year\n",
    "    data.set_index('year').to_csv(f'dropout_clean_{year}.csv')"
   ]
  },
  {
   "cell_type": "code",
   "execution_count": 8,
   "id": "d0d79a4a",
   "metadata": {},
   "outputs": [],
   "source": [
    "for i in year:\n",
    "    dropout_clean(f'drop{i}.csv', i)"
   ]
  },
  {
   "cell_type": "code",
   "execution_count": 9,
   "id": "c4d134fb",
   "metadata": {},
   "outputs": [],
   "source": [
    "data21 = set(list(pd.read_csv('dropout_clean_21.csv').mergecode))\n",
    "data19 = set(list(pd.read_csv('dropout_clean_19.csv').mergecode))\n",
    "data18 = set(list(pd.read_csv('dropout_clean_18.csv').mergecode))\n",
    "data17 = set(list(pd.read_csv('dropout_clean_17.csv').mergecode))\n",
    "\n",
    "mutual_code = list(data21.intersection(data19).intersection(data18).intersection(data17))"
   ]
  },
  {
   "cell_type": "code",
   "execution_count": 10,
   "id": "c2ef1f0a",
   "metadata": {},
   "outputs": [],
   "source": [
    "all_data_drop = pd.DataFrame()\n",
    "for i in year:\n",
    "    data = pd.read_csv(f'dropout_clean_{i}.csv')\n",
    "    data = data.loc[data['mergecode'].isin(mutual_code)]\n",
    "    all_data_drop = pd.concat([all_data_drop, data])"
   ]
  },
  {
   "cell_type": "code",
   "execution_count": 11,
   "id": "aae2cc07",
   "metadata": {},
   "outputs": [],
   "source": [
    "drop = all_data_drop.loc[:, ['year', 'mergecode', 'totalenroll', 'droprate']].merge(\n",
    "all_data_enroll,on = ['year', 'mergecode'])"
   ]
  },
  {
   "cell_type": "code",
   "execution_count": 12,
   "id": "f729e1d9",
   "metadata": {},
   "outputs": [],
   "source": [
    "def test_clean(x, year):\n",
    "\n",
    "    data = pd.read_csv(x).rename(columns = {'SCHOOL_CODE':'schoolcode', 'DISTRICT_CODE':'districtcode'})\n",
    "    data = data[((data['TEST_RESULT'].isin(['Proficient', 'Advanced'])) & (data['schoolcode'].notna()) & \n",
    "                 (data['TEST_SUBJECT'].isin(['ELA', 'Mathematics'])) & (data['TEST_GROUP'] == 'ACT') \n",
    "                 & (data['GROUP_BY'] == 'All Students'))].loc[:, ['districtcode', 'schoolcode',\n",
    "                 'TEST_SUBJECT', 'STUDENT_COUNT', 'GROUP_COUNT']]\n",
    "    totaltest = data.loc[:, ['districtcode', 'schoolcode', 'GROUP_COUNT']].drop_duplicates().rename(\n",
    "        columns = {'GROUP_COUNT':'totaltest'})\n",
    "    totaltest['totaltest'] = totaltest['totaltest'].astype('int')\n",
    "    data['STUDENT_COUNT'] = data['STUDENT_COUNT'].astype('int')\n",
    "    data = data.groupby(['districtcode', 'schoolcode', 'TEST_SUBJECT']).sum().loc[\n",
    "    :, ['STUDENT_COUNT']].reset_index()\n",
    "    data = data.merge(totaltest, on = ['districtcode', 'schoolcode'])\n",
    "    data['passrate'] = round((data['STUDENT_COUNT'] / data['totaltest']) * 100, 2)\n",
    "    data = data.loc[:, ['districtcode', 'schoolcode', 'TEST_SUBJECT', 'passrate']].pivot(\n",
    "    index = ['districtcode', 'schoolcode'], columns = 'TEST_SUBJECT', values = 'passrate').reset_index()\n",
    "    data = data.merge(totaltest, on = ['districtcode', 'schoolcode']).rename(columns = {'ELA':'elapass',\n",
    "    'Mathematics':'mathpass'})\n",
    "    data.loc[:, ['districtcode', 'schoolcode']] = data.loc[:, ['districtcode', \n",
    "                                                               'schoolcode']].astype('int').astype('str')\n",
    "    data['mergecode'] = data['districtcode'] + '-' + data['schoolcode']\n",
    "    data['year'] = year\n",
    "    data.set_index('year').to_csv(f'act_clean_{year}.csv')\n",
    "    "
   ]
  },
  {
   "cell_type": "code",
   "execution_count": 13,
   "id": "376b55aa",
   "metadata": {},
   "outputs": [],
   "source": [
    "for i in year:\n",
    "    test_clean(f'act{i}.csv', i)"
   ]
  },
  {
   "cell_type": "code",
   "execution_count": 14,
   "id": "2ae864a5",
   "metadata": {},
   "outputs": [],
   "source": [
    "data21 = set(list(pd.read_csv('act_clean_21.csv').mergecode))\n",
    "data19 = set(list(pd.read_csv('act_clean_19.csv').mergecode))\n",
    "data18 = set(list(pd.read_csv('act_clean_18.csv').mergecode))\n",
    "data17 = set(list(pd.read_csv('act_clean_17.csv').mergecode))\n",
    "\n",
    "mutual_code = list(data21.intersection(data19).intersection(data18).intersection(data17))"
   ]
  },
  {
   "cell_type": "code",
   "execution_count": 15,
   "id": "82cc9ade",
   "metadata": {},
   "outputs": [],
   "source": [
    "all_data_act = pd.DataFrame()\n",
    "for i in year:\n",
    "    data = pd.read_csv(f'act_clean_{i}.csv')\n",
    "    data = data.loc[data['mergecode'].isin(mutual_code)]\n",
    "    all_data_act = pd.concat([all_data_act, data]).fillna(0)"
   ]
  },
  {
   "cell_type": "code",
   "execution_count": 16,
   "id": "eb0a9350",
   "metadata": {},
   "outputs": [],
   "source": [
    "test = all_data_act.loc[:, ['year', 'mergecode', 'totaltest', 'mathpass', 'elapass']].merge(\n",
    "all_data_enroll,on = ['year', 'mergecode']).merge(all_data_drop.loc[:, ['year', 'mergecode', 'totalenroll']],\n",
    "                                                 on = ['year', 'mergecode'])"
   ]
  },
  {
   "cell_type": "code",
   "execution_count": 17,
   "id": "a0b327d1",
   "metadata": {},
   "outputs": [],
   "source": [
    "all_data = all_data_act.loc[:, ['year', 'mergecode', 'totaltest', 'mathpass', 'elapass']].merge(\n",
    "drop, on = ['year', 'mergecode'])"
   ]
  },
  {
   "cell_type": "code",
   "execution_count": 18,
   "id": "ae1c6431",
   "metadata": {},
   "outputs": [],
   "source": [
    "# clean learning mode data\n",
    "mode = pd.read_csv('learning_mode1.csv').rename(columns = {\n",
    "    'StateAssignedSchoolID':'schoolcode', 'StateAssignedDistrictID':'districtcode'\n",
    "})\n",
    "\n",
    "mode.loc[:, ['schoolcode', 'districtcode']] = mode.loc[:, \n",
    "            ['schoolcode', 'districtcode']].astype('int').astype('str')\n",
    "\n",
    "mode['mergecode'] = mode['districtcode'] + '-' + mode['schoolcode']\n",
    "\n",
    "# remove closed period\n",
    "mode = mode[mode['LearningModel']!='Closed']\n",
    "\n",
    "# compute the charter status of schools\n",
    "charter = mode.loc[:, ['mergecode', 'Charter']].drop_duplicates().rename(\n",
    "    columns = {'Charter':'charter'})\n",
    "charter_map = {'No':0, 'Yes':1}\n",
    "charter['charter'] = charter['charter'].map(charter_map)\n",
    "\n",
    "mode = mode.groupby(['mergecode', 'NCESSchoolID'])['LearningModel'].value_counts(\n",
    "    normalize = True).to_frame().rename(columns = {'LearningModel':'normalized'}).reset_index()\n",
    "\n",
    "mode = mode.pivot(columns = 'LearningModel', values = 'normalized', \n",
    "index = ['mergecode', 'NCESSchoolID']).reset_index().fillna(0).loc[:, ['mergecode', 'NCESSchoolID',\n",
    "                                                                'Hybrid', 'Virtual', 'In-person']].rename(\n",
    "columns = {'Hybrid':'hybridper', 'Virtual':'virtualper', 'In-person':'inpersonper'})\n",
    "\n",
    "mode['schoolmode'] = 1 * mode['virtualper'] + 0.5 * mode['hybridper']\n",
    "\n",
    "mode.loc[:, ['hybridper', 'virtualper', 'inpersonper', 'schoolmode']] = round(\n",
    "    mode.loc[:, ['hybridper', 'virtualper', 'inpersonper', 'schoolmode']], 2)\n",
    "\n",
    "mode['NCESSchoolID'] = mode['NCESSchoolID'].astype('str')"
   ]
  },
  {
   "cell_type": "code",
   "execution_count": 19,
   "id": "e48293a8",
   "metadata": {},
   "outputs": [],
   "source": [
    "all_mode = mode.merge(all_data, on = ['mergecode'])\n",
    "all_mode.loc[all_mode['year']!=21, ['hybridper', 'virtualper', 'schoolmode']] = 0\n",
    "all_mode.loc[all_mode['year'] != 21, ['inpersonper']] = 1\n",
    "all_mode['year_21'] = 1\n",
    "all_mode.loc[all_mode['year'] != 21, ['year_21']] = 0\n",
    "all_mode.loc[:, ['districtcode', 'year']] = all_mode.loc[:, ['districtcode', 'year']].astype('str')\n",
    "all_mode['state'] = 'wisconsin'\n",
    "all_mode['districtcode'] = all_mode['districtcode'].astype('str') + all_mode['state']\n",
    "all_mode['mergecode'] = all_mode['mergecode'] + all_mode['state']\n",
    "all_mode = all_mode.drop(columns = 'schoolcode')\n",
    "all_mode.set_index('year').to_csv('wisconsin_all.csv')"
   ]
  },
  {
   "cell_type": "code",
   "execution_count": null,
   "id": "f42d5a7c",
   "metadata": {},
   "outputs": [],
   "source": []
  }
 ],
 "metadata": {
  "kernelspec": {
   "display_name": "Python 3 (ipykernel)",
   "language": "python",
   "name": "python3"
  },
  "language_info": {
   "codemirror_mode": {
    "name": "ipython",
    "version": 3
   },
   "file_extension": ".py",
   "mimetype": "text/x-python",
   "name": "python",
   "nbconvert_exporter": "python",
   "pygments_lexer": "ipython3",
   "version": "3.9.7"
  }
 },
 "nbformat": 4,
 "nbformat_minor": 5
}
