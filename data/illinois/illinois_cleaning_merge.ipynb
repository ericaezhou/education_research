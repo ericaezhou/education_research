{
 "cells": [
  {
   "cell_type": "code",
   "execution_count": 3,
   "id": "6e62d987",
   "metadata": {},
   "outputs": [],
   "source": [
    "import pandas as pd\n",
    "drop = pd.read_csv('illinois_dropout.csv')\n",
    "ela = pd.read_csv('illinois_elapass.csv')\n",
    "math = pd.read_csv('illinois_mathpass.csv')\n",
    "\n",
    "math.loc[:, ['year', 'mergecode', 'mathpass']].merge(ela, on = ['year', 'mergecode']).loc[\n",
    "    :, ['year', 'mergecode', 'mathpass', 'elapass', 'totaltest']].merge(\n",
    "    drop, on = ['year', 'mergecode']).drop(columns = 'charter').set_index('year').to_csv('illinois_all.csv')"
   ]
  },
  {
   "cell_type": "code",
   "execution_count": null,
   "id": "3d706637",
   "metadata": {},
   "outputs": [],
   "source": []
  }
 ],
 "metadata": {
  "kernelspec": {
   "display_name": "Python 3 (ipykernel)",
   "language": "python",
   "name": "python3"
  },
  "language_info": {
   "codemirror_mode": {
    "name": "ipython",
    "version": 3
   },
   "file_extension": ".py",
   "mimetype": "text/x-python",
   "name": "python",
   "nbconvert_exporter": "python",
   "pygments_lexer": "ipython3",
   "version": "3.9.7"
  }
 },
 "nbformat": 4,
 "nbformat_minor": 5
}
