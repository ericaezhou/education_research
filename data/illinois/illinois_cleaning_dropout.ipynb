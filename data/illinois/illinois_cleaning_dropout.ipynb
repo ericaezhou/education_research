{
 "cells": [
  {
   "cell_type": "code",
   "execution_count": 1,
   "id": "530d8495",
   "metadata": {},
   "outputs": [],
   "source": [
    "import pandas as pd"
   ]
  },
  {
   "cell_type": "markdown",
   "id": "abb750a6",
   "metadata": {},
   "source": [
    "## Year 2021"
   ]
  },
  {
   "cell_type": "markdown",
   "id": "ecc5c042",
   "metadata": {},
   "source": [
    "### Drop-out Data"
   ]
  },
  {
   "cell_type": "markdown",
   "id": "09cf289b",
   "metadata": {},
   "source": [
    "https://www.isbe.net/_layouts/Download.aspx?SourceUrl=/Documents/2021-RC-Pub-Data-Set.xlsx"
   ]
  },
  {
   "cell_type": "code",
   "execution_count": 2,
   "id": "ed391065",
   "metadata": {},
   "outputs": [
    {
     "name": "stderr",
     "output_type": "stream",
     "text": [
      "/opt/anaconda3/lib/python3.9/site-packages/IPython/core/interactiveshell.py:3444: DtypeWarning: Columns (766,767,780,781,794,795,808,809,816,817,822,823,824,825,826,827,828,829,830,831,832,833,834,835,836,837,838,839,840,841,842,843) have mixed types.Specify dtype option on import or set low_memory=False.\n",
      "  exec(code_obj, self.user_global_ns, self.user_ns)\n"
     ]
    }
   ],
   "source": [
    "data = pd.read_csv('enr21.csv')\n",
    "data = data[data['Type'] == 'School']"
   ]
  },
  {
   "cell_type": "code",
   "execution_count": 3,
   "id": "2da2e988",
   "metadata": {},
   "outputs": [],
   "source": [
    "col_name = ['RCDTS', '# Student Enrollment', \n",
    "            '% Student Enrollment - White', \n",
    "            '% Student Enrollment - Black or African American', \n",
    "            '% Student Enrollment - Hispanic or Latino',\n",
    "           '% Student Enrollment - Low Income',\n",
    "           'High School Dropout Rate - Total']"
   ]
  },
  {
   "cell_type": "code",
   "execution_count": 4,
   "id": "ca7bd550",
   "metadata": {},
   "outputs": [
    {
     "data": {
      "text/html": [
       "<div>\n",
       "<style scoped>\n",
       "    .dataframe tbody tr th:only-of-type {\n",
       "        vertical-align: middle;\n",
       "    }\n",
       "\n",
       "    .dataframe tbody tr th {\n",
       "        vertical-align: top;\n",
       "    }\n",
       "\n",
       "    .dataframe thead th {\n",
       "        text-align: right;\n",
       "    }\n",
       "</style>\n",
       "<table border=\"1\" class=\"dataframe\">\n",
       "  <thead>\n",
       "    <tr style=\"text-align: right;\">\n",
       "      <th></th>\n",
       "      <th>schoolcode</th>\n",
       "      <th>totalenrolled</th>\n",
       "      <th>white</th>\n",
       "      <th>black</th>\n",
       "      <th>hispanic</th>\n",
       "      <th>lowincome</th>\n",
       "      <th>dropout</th>\n",
       "    </tr>\n",
       "  </thead>\n",
       "  <tbody>\n",
       "    <tr>\n",
       "      <th>1</th>\n",
       "      <td>010010010260001</td>\n",
       "      <td>241</td>\n",
       "      <td>96.3</td>\n",
       "      <td>0.0</td>\n",
       "      <td>0.0</td>\n",
       "      <td>36.9</td>\n",
       "      <td>4.6</td>\n",
       "    </tr>\n",
       "    <tr>\n",
       "      <th>4</th>\n",
       "      <td>010010020260001</td>\n",
       "      <td>270</td>\n",
       "      <td>95.2</td>\n",
       "      <td>0.0</td>\n",
       "      <td>0.0</td>\n",
       "      <td>22.2</td>\n",
       "      <td>2.2</td>\n",
       "    </tr>\n",
       "    <tr>\n",
       "      <th>7</th>\n",
       "      <td>010010030260001</td>\n",
       "      <td>257</td>\n",
       "      <td>96.9</td>\n",
       "      <td>0.0</td>\n",
       "      <td>0.0</td>\n",
       "      <td>39.3</td>\n",
       "      <td>2.7</td>\n",
       "    </tr>\n",
       "    <tr>\n",
       "      <th>12</th>\n",
       "      <td>010010040260001</td>\n",
       "      <td>176</td>\n",
       "      <td>96.6</td>\n",
       "      <td>0.0</td>\n",
       "      <td>0.0</td>\n",
       "      <td>34.7</td>\n",
       "      <td>3.4</td>\n",
       "    </tr>\n",
       "    <tr>\n",
       "      <th>16</th>\n",
       "      <td>010011720220003</td>\n",
       "      <td>1852</td>\n",
       "      <td>79.9</td>\n",
       "      <td>6.9</td>\n",
       "      <td>3.3</td>\n",
       "      <td>46.1</td>\n",
       "      <td>5.5</td>\n",
       "    </tr>\n",
       "  </tbody>\n",
       "</table>\n",
       "</div>"
      ],
      "text/plain": [
       "         schoolcode  totalenrolled  white  black  hispanic  lowincome  dropout\n",
       "1   010010010260001            241   96.3    0.0       0.0       36.9      4.6\n",
       "4   010010020260001            270   95.2    0.0       0.0       22.2      2.2\n",
       "7   010010030260001            257   96.9    0.0       0.0       39.3      2.7\n",
       "12  010010040260001            176   96.6    0.0       0.0       34.7      3.4\n",
       "16  010011720220003           1852   79.9    6.9       3.3       46.1      5.5"
      ]
     },
     "execution_count": 4,
     "metadata": {},
     "output_type": "execute_result"
    }
   ],
   "source": [
    "demo = data.loc[((data['# Student Enrollment'] > 0) \n",
    "                 & (data['High School Dropout Rate - Total'].notnull())), col_name].rename(\n",
    "    columns = {'RCDTS':'schoolcode', '# Student Enrollment':'totalenrolled', \n",
    "              '% Student Enrollment - White':'white',\n",
    "              '% Student Enrollment - Black or African American':'black',\n",
    "              '% Student Enrollment - Hispanic or Latino':'hispanic',\n",
    "              '% Student Enrollment - Low Income':'lowincome',\n",
    "              'High School Dropout Rate - Total':'dropout'}).fillna(0)\n",
    "\n",
    "demo.loc[:, ['white', 'black', 'hispanic', 'lowincome', 'dropout']] = round(demo.loc[:, \n",
    "['white', 'black', 'hispanic', 'lowincome', 'dropout']], 2)\n",
    "\n",
    "demo.head()"
   ]
  },
  {
   "cell_type": "code",
   "execution_count": 23,
   "id": "f7b5ae4f",
   "metadata": {},
   "outputs": [],
   "source": [
    "drop21 = demo\n",
    "drop21['year'] = '2021'"
   ]
  },
  {
   "cell_type": "markdown",
   "id": "0fd0cf8b",
   "metadata": {},
   "source": [
    "## Year 2019"
   ]
  },
  {
   "cell_type": "markdown",
   "id": "ead6e0f9",
   "metadata": {},
   "source": [
    "https://www.isbe.net/_layouts/Download.aspx?SourceUrl=/Documents/2019-Report-Card-Public-Data-Set.xlsx"
   ]
  },
  {
   "cell_type": "markdown",
   "id": "650ec0df",
   "metadata": {},
   "source": [
    "### Drop-out Data"
   ]
  },
  {
   "cell_type": "code",
   "execution_count": 24,
   "id": "e41038f9",
   "metadata": {},
   "outputs": [
    {
     "name": "stderr",
     "output_type": "stream",
     "text": [
      "/opt/anaconda3/lib/python3.9/site-packages/IPython/core/interactiveshell.py:3444: DtypeWarning: Columns (2,8,9,10,11,12,773,774,787,788,801,802,815,816,823,824,825,826,827,828,829,830,831,832,833,834,835,836,837,838,839,840,841,843,844,845,846,847,848,849,850) have mixed types.Specify dtype option on import or set low_memory=False.\n",
      "  exec(code_obj, self.user_global_ns, self.user_ns)\n"
     ]
    }
   ],
   "source": [
    "data = pd.read_csv('enr19.csv')\n",
    "data = data[data['Type'] == 'School']"
   ]
  },
  {
   "cell_type": "code",
   "execution_count": 25,
   "id": "fd5f5483",
   "metadata": {},
   "outputs": [],
   "source": [
    "col_name = ['RCDTS', '# Student Enrollment', \n",
    "            '% Student Enrollment - White', \n",
    "            '% Student Enrollment - Black or African American', \n",
    "            '% Student Enrollment - Hispanic or Latino',\n",
    "           '% Student Enrollment - Low Income',\n",
    "           'High School Dropout Rate - Total']"
   ]
  },
  {
   "cell_type": "code",
   "execution_count": 26,
   "id": "2db31ce4",
   "metadata": {},
   "outputs": [
    {
     "data": {
      "text/html": [
       "<div>\n",
       "<style scoped>\n",
       "    .dataframe tbody tr th:only-of-type {\n",
       "        vertical-align: middle;\n",
       "    }\n",
       "\n",
       "    .dataframe tbody tr th {\n",
       "        vertical-align: top;\n",
       "    }\n",
       "\n",
       "    .dataframe thead th {\n",
       "        text-align: right;\n",
       "    }\n",
       "</style>\n",
       "<table border=\"1\" class=\"dataframe\">\n",
       "  <thead>\n",
       "    <tr style=\"text-align: right;\">\n",
       "      <th></th>\n",
       "      <th>schoolcode</th>\n",
       "      <th>totalenrolled</th>\n",
       "      <th>white</th>\n",
       "      <th>black</th>\n",
       "      <th>hispanic</th>\n",
       "      <th>lowincome</th>\n",
       "      <th>dropout</th>\n",
       "    </tr>\n",
       "  </thead>\n",
       "  <tbody>\n",
       "    <tr>\n",
       "      <th>0</th>\n",
       "      <td>010010010260001</td>\n",
       "      <td>239</td>\n",
       "      <td>95.4</td>\n",
       "      <td>0.0</td>\n",
       "      <td>0.4</td>\n",
       "      <td>46.4</td>\n",
       "      <td>0.6</td>\n",
       "    </tr>\n",
       "    <tr>\n",
       "      <th>2</th>\n",
       "      <td>010010020260001</td>\n",
       "      <td>288</td>\n",
       "      <td>97.6</td>\n",
       "      <td>0.3</td>\n",
       "      <td>0.0</td>\n",
       "      <td>20.5</td>\n",
       "      <td>3.0</td>\n",
       "    </tr>\n",
       "    <tr>\n",
       "      <th>4</th>\n",
       "      <td>010010030260001</td>\n",
       "      <td>237</td>\n",
       "      <td>98.3</td>\n",
       "      <td>0.0</td>\n",
       "      <td>0.0</td>\n",
       "      <td>42.2</td>\n",
       "      <td>3.7</td>\n",
       "    </tr>\n",
       "    <tr>\n",
       "      <th>8</th>\n",
       "      <td>010010040260001</td>\n",
       "      <td>200</td>\n",
       "      <td>98.5</td>\n",
       "      <td>0.0</td>\n",
       "      <td>1.0</td>\n",
       "      <td>34.0</td>\n",
       "      <td>1.5</td>\n",
       "    </tr>\n",
       "    <tr>\n",
       "      <th>11</th>\n",
       "      <td>010011720220003</td>\n",
       "      <td>1742</td>\n",
       "      <td>81.7</td>\n",
       "      <td>6.7</td>\n",
       "      <td>3.5</td>\n",
       "      <td>48.7</td>\n",
       "      <td>2.4</td>\n",
       "    </tr>\n",
       "  </tbody>\n",
       "</table>\n",
       "</div>"
      ],
      "text/plain": [
       "         schoolcode  totalenrolled  white  black  hispanic  lowincome  dropout\n",
       "0   010010010260001            239   95.4    0.0       0.4       46.4      0.6\n",
       "2   010010020260001            288   97.6    0.3       0.0       20.5      3.0\n",
       "4   010010030260001            237   98.3    0.0       0.0       42.2      3.7\n",
       "8   010010040260001            200   98.5    0.0       1.0       34.0      1.5\n",
       "11  010011720220003           1742   81.7    6.7       3.5       48.7      2.4"
      ]
     },
     "execution_count": 26,
     "metadata": {},
     "output_type": "execute_result"
    }
   ],
   "source": [
    "demo = data.loc[((data['# Student Enrollment'] > 0) \n",
    "                 & (data['High School Dropout Rate - Total'].notnull())), col_name].rename(\n",
    "    columns = {'RCDTS':'schoolcode', '# Student Enrollment':'totalenrolled', \n",
    "              '% Student Enrollment - White':'white',\n",
    "              '% Student Enrollment - Black or African American':'black',\n",
    "              '% Student Enrollment - Hispanic or Latino':'hispanic',\n",
    "              '% Student Enrollment - Low Income':'lowincome',\n",
    "              'High School Dropout Rate - Total':'dropout'}).fillna(0)\n",
    "\n",
    "demo.loc[:, ['white', 'black', 'hispanic', 'lowincome', 'dropout']] = round(demo.loc[:, \n",
    "['white', 'black', 'hispanic', 'lowincome', 'dropout']], 2)\n",
    "\n",
    "demo.head()"
   ]
  },
  {
   "cell_type": "code",
   "execution_count": 27,
   "id": "6d65de26",
   "metadata": {},
   "outputs": [],
   "source": [
    "drop19 = demo\n",
    "drop19['year'] = '2019'"
   ]
  },
  {
   "cell_type": "markdown",
   "id": "34ff955d",
   "metadata": {},
   "source": [
    "## Year 2018"
   ]
  },
  {
   "cell_type": "markdown",
   "id": "e18d16b1",
   "metadata": {},
   "source": [
    "https://www.isbe.net/_layouts/Download.aspx?SourceUrl=/Documents/Report-Card-Public-Data-Set.xlsx"
   ]
  },
  {
   "cell_type": "markdown",
   "id": "7bcbde5f",
   "metadata": {},
   "source": [
    "### Drop-out Data"
   ]
  },
  {
   "cell_type": "code",
   "execution_count": 28,
   "id": "280d47ba",
   "metadata": {},
   "outputs": [
    {
     "name": "stderr",
     "output_type": "stream",
     "text": [
      "/opt/anaconda3/lib/python3.9/site-packages/IPython/core/interactiveshell.py:3444: DtypeWarning: Columns (0) have mixed types.Specify dtype option on import or set low_memory=False.\n",
      "  exec(code_obj, self.user_global_ns, self.user_ns)\n"
     ]
    }
   ],
   "source": [
    "data = pd.read_csv('enr18.csv')\n",
    "data = data[data['Type'] == 'School']"
   ]
  },
  {
   "cell_type": "code",
   "execution_count": 29,
   "id": "6b3de883",
   "metadata": {},
   "outputs": [],
   "source": [
    "col_name = ['RCDTS', 'Student Enrollment - Total', \n",
    "            'Student Enrollment - White %', \n",
    "            'Student Enrollment - Black or African American %', \n",
    "            'Student Enrollment - Hispanic or Latino %',\n",
    "           'Student Enrollment - Low Income %',\n",
    "           'High School Dropout Rate - Total']"
   ]
  },
  {
   "cell_type": "code",
   "execution_count": 30,
   "id": "44c8abb4",
   "metadata": {},
   "outputs": [
    {
     "data": {
      "text/html": [
       "<div>\n",
       "<style scoped>\n",
       "    .dataframe tbody tr th:only-of-type {\n",
       "        vertical-align: middle;\n",
       "    }\n",
       "\n",
       "    .dataframe tbody tr th {\n",
       "        vertical-align: top;\n",
       "    }\n",
       "\n",
       "    .dataframe thead th {\n",
       "        text-align: right;\n",
       "    }\n",
       "</style>\n",
       "<table border=\"1\" class=\"dataframe\">\n",
       "  <thead>\n",
       "    <tr style=\"text-align: right;\">\n",
       "      <th></th>\n",
       "      <th>schoolcode</th>\n",
       "      <th>totalenrolled</th>\n",
       "      <th>white</th>\n",
       "      <th>black</th>\n",
       "      <th>hispanic</th>\n",
       "      <th>lowincome</th>\n",
       "      <th>dropout</th>\n",
       "    </tr>\n",
       "  </thead>\n",
       "  <tbody>\n",
       "    <tr>\n",
       "      <th>1</th>\n",
       "      <td>10010010260001</td>\n",
       "      <td>246.0</td>\n",
       "      <td>96.7</td>\n",
       "      <td>0.0</td>\n",
       "      <td>0.0</td>\n",
       "      <td>43.9</td>\n",
       "      <td>0.0</td>\n",
       "    </tr>\n",
       "    <tr>\n",
       "      <th>2</th>\n",
       "      <td>10010010262002</td>\n",
       "      <td>311.0</td>\n",
       "      <td>93.9</td>\n",
       "      <td>0.0</td>\n",
       "      <td>0.0</td>\n",
       "      <td>52.7</td>\n",
       "      <td>0.0</td>\n",
       "    </tr>\n",
       "    <tr>\n",
       "      <th>4</th>\n",
       "      <td>10010020260001</td>\n",
       "      <td>281.0</td>\n",
       "      <td>98.6</td>\n",
       "      <td>0.0</td>\n",
       "      <td>0.0</td>\n",
       "      <td>22.4</td>\n",
       "      <td>0.5</td>\n",
       "    </tr>\n",
       "    <tr>\n",
       "      <th>5</th>\n",
       "      <td>10010020262002</td>\n",
       "      <td>318.0</td>\n",
       "      <td>96.9</td>\n",
       "      <td>0.0</td>\n",
       "      <td>0.0</td>\n",
       "      <td>26.7</td>\n",
       "      <td>0.0</td>\n",
       "    </tr>\n",
       "    <tr>\n",
       "      <th>7</th>\n",
       "      <td>10010030260001</td>\n",
       "      <td>245.0</td>\n",
       "      <td>96.3</td>\n",
       "      <td>0.0</td>\n",
       "      <td>0.0</td>\n",
       "      <td>42.0</td>\n",
       "      <td>1.2</td>\n",
       "    </tr>\n",
       "  </tbody>\n",
       "</table>\n",
       "</div>"
      ],
      "text/plain": [
       "       schoolcode  totalenrolled  white  black  hispanic  lowincome  dropout\n",
       "1  10010010260001          246.0   96.7    0.0       0.0       43.9      0.0\n",
       "2  10010010262002          311.0   93.9    0.0       0.0       52.7      0.0\n",
       "4  10010020260001          281.0   98.6    0.0       0.0       22.4      0.5\n",
       "5  10010020262002          318.0   96.9    0.0       0.0       26.7      0.0\n",
       "7  10010030260001          245.0   96.3    0.0       0.0       42.0      1.2"
      ]
     },
     "execution_count": 30,
     "metadata": {},
     "output_type": "execute_result"
    }
   ],
   "source": [
    "demo = data.loc[data['Student Enrollment - Total'] > 0, col_name].rename(\n",
    "    columns = {'RCDTS':'schoolcode', 'Student Enrollment - Total':'totalenrolled', \n",
    "              'Student Enrollment - White %':'white',\n",
    "              'Student Enrollment - Black or African American %':'black',\n",
    "              'Student Enrollment - Hispanic or Latino %':'hispanic',\n",
    "              'Student Enrollment - Low Income %':'lowincome',\n",
    "              'High School Dropout Rate - Total':'dropout'}).fillna(0)\n",
    "\n",
    "demo.loc[:, ['white', 'black', 'hispanic', 'lowincome', 'dropout']] = round(demo.loc[:, \n",
    "['white', 'black', 'hispanic', 'lowincome', 'dropout']], 2)\n",
    "\n",
    "demo.head()"
   ]
  },
  {
   "cell_type": "code",
   "execution_count": 32,
   "id": "6d7416fc",
   "metadata": {},
   "outputs": [],
   "source": [
    "drop18 = demo\n",
    "        \n",
    "for i in list(drop18.schoolcode):\n",
    "    if len(str(i)) != 15:\n",
    "        drop18.loc[drop18.schoolcode == i, 'schoolcode'] = '0' + str(i)\n",
    "        \n",
    "drop18.schoolcode = drop18.schoolcode.astype('str')\n",
    "\n",
    "drop18['year'] = '2018'"
   ]
  },
  {
   "cell_type": "markdown",
   "id": "282ee06c",
   "metadata": {},
   "source": [
    "## Year 2017"
   ]
  },
  {
   "cell_type": "markdown",
   "id": "13f03633",
   "metadata": {},
   "source": [
    "https://www.isbe.net/_layouts/Download.aspx?SourceUrl=/Documents/2017_PARCC_SAT_ACT_enrollment.xlsx"
   ]
  },
  {
   "cell_type": "markdown",
   "id": "4b985ad0",
   "metadata": {},
   "source": [
    "### Drop-out Data"
   ]
  },
  {
   "cell_type": "code",
   "execution_count": 44,
   "id": "975a875f",
   "metadata": {},
   "outputs": [],
   "source": [
    "demo = pd.read_csv('enr17.csv')\n",
    "demo = demo.loc[demo['dropout']!='     ', :]\n",
    "\n",
    "drop17 = demo\n",
    "drop17['year'] = '2017'"
   ]
  },
  {
   "cell_type": "markdown",
   "id": "b61fc8ad",
   "metadata": {},
   "source": [
    "## Merge Data (2017 - 2021)"
   ]
  },
  {
   "cell_type": "code",
   "execution_count": 46,
   "id": "bcce25c1",
   "metadata": {},
   "outputs": [],
   "source": [
    "mutual_school = list(set(drop17.schoolcode).intersection(set(drop18.schoolcode)).intersection(\n",
    "    set(drop19.schoolcode)).intersection(set(drop21.schoolcode)))\n",
    "\n",
    "mutual_drop17 = drop17.loc[drop17['schoolcode'].isin(mutual_school)]\n",
    "mutual_drop18 = drop18.loc[drop18['schoolcode'].isin(mutual_school)]\n",
    "mutual_drop19 = drop19.loc[drop19['schoolcode'].isin(mutual_school)]\n",
    "mutual_drop21 = drop21.loc[drop21['schoolcode'].isin(mutual_school)]"
   ]
  },
  {
   "cell_type": "code",
   "execution_count": 48,
   "id": "fe7c0932",
   "metadata": {},
   "outputs": [],
   "source": [
    "all_year = pd.concat([mutual_drop17,mutual_drop18,mutual_drop19,mutual_drop21])\n",
    "all_year['totalenrolled'] = all_year['totalenrolled'].astype('int')\n",
    "\n",
    "all_year.to_csv('dropout_il_17_21.csv')"
   ]
  },
  {
   "cell_type": "markdown",
   "id": "2968abb5",
   "metadata": {},
   "source": [
    "### Pandemic Instruction Modality Data"
   ]
  },
  {
   "cell_type": "code",
   "execution_count": 5,
   "id": "f0ef987e",
   "metadata": {},
   "outputs": [],
   "source": [
    "mode = pd.read_csv('schoolmode_il.csv')"
   ]
  },
  {
   "cell_type": "code",
   "execution_count": 6,
   "id": "9f18abf4",
   "metadata": {},
   "outputs": [
    {
     "data": {
      "text/html": [
       "<div>\n",
       "<style scoped>\n",
       "    .dataframe tbody tr th:only-of-type {\n",
       "        vertical-align: middle;\n",
       "    }\n",
       "\n",
       "    .dataframe tbody tr th {\n",
       "        vertical-align: top;\n",
       "    }\n",
       "\n",
       "    .dataframe thead th {\n",
       "        text-align: right;\n",
       "    }\n",
       "</style>\n",
       "<table border=\"1\" class=\"dataframe\">\n",
       "  <thead>\n",
       "    <tr style=\"text-align: right;\">\n",
       "      <th></th>\n",
       "      <th>schoolcode</th>\n",
       "      <th>charter</th>\n",
       "    </tr>\n",
       "  </thead>\n",
       "  <tbody>\n",
       "    <tr>\n",
       "      <th>0</th>\n",
       "      <td>80432100260002</td>\n",
       "      <td>0</td>\n",
       "    </tr>\n",
       "    <tr>\n",
       "      <th>11</th>\n",
       "      <td>80432100261001</td>\n",
       "      <td>0</td>\n",
       "    </tr>\n",
       "    <tr>\n",
       "      <th>22</th>\n",
       "      <td>80432100262003</td>\n",
       "      <td>0</td>\n",
       "    </tr>\n",
       "    <tr>\n",
       "      <th>33</th>\n",
       "      <td>11012004C260001</td>\n",
       "      <td>0</td>\n",
       "    </tr>\n",
       "    <tr>\n",
       "      <th>44</th>\n",
       "      <td>11012004C262003</td>\n",
       "      <td>0</td>\n",
       "    </tr>\n",
       "  </tbody>\n",
       "</table>\n",
       "</div>"
      ],
      "text/plain": [
       "         schoolcode  charter\n",
       "0    80432100260002        0\n",
       "11   80432100261001        0\n",
       "22   80432100262003        0\n",
       "33  11012004C260001        0\n",
       "44  11012004C262003        0"
      ]
     },
     "execution_count": 6,
     "metadata": {},
     "output_type": "execute_result"
    }
   ],
   "source": [
    "charter_mode = mode.loc[:, ['StateAssignedSchoolID', 'Charter']].drop_duplicates().rename(columns = {'StateAssignedSchoolID':\n",
    "             'schoolcode', 'Charter':'charter'})\n",
    "charter_map = {'No':0, 'Yes':1}\n",
    "charter_mode['charter'] = charter_mode['charter'].map(charter_map)\n",
    "charter_mode.head()"
   ]
  },
  {
   "cell_type": "code",
   "execution_count": 6,
   "id": "0ef6aed0",
   "metadata": {},
   "outputs": [
    {
     "data": {
      "text/html": [
       "<div>\n",
       "<style scoped>\n",
       "    .dataframe tbody tr th:only-of-type {\n",
       "        vertical-align: middle;\n",
       "    }\n",
       "\n",
       "    .dataframe tbody tr th {\n",
       "        vertical-align: top;\n",
       "    }\n",
       "\n",
       "    .dataframe thead th {\n",
       "        text-align: right;\n",
       "    }\n",
       "</style>\n",
       "<table border=\"1\" class=\"dataframe\">\n",
       "  <thead>\n",
       "    <tr style=\"text-align: right;\">\n",
       "      <th></th>\n",
       "      <th>schoolcode</th>\n",
       "      <th>NCESSchoolID</th>\n",
       "      <th>hybridper</th>\n",
       "      <th>virtualper</th>\n",
       "      <th>inpersonper</th>\n",
       "      <th>schoolmode</th>\n",
       "      <th>charter</th>\n",
       "    </tr>\n",
       "  </thead>\n",
       "  <tbody>\n",
       "    <tr>\n",
       "      <th>0</th>\n",
       "      <td>04101205025201C</td>\n",
       "      <td>173451006077</td>\n",
       "      <td>0.00</td>\n",
       "      <td>0.00</td>\n",
       "      <td>1.00</td>\n",
       "      <td>0.00</td>\n",
       "      <td>1</td>\n",
       "    </tr>\n",
       "    <tr>\n",
       "      <th>1</th>\n",
       "      <td>04101205025202C</td>\n",
       "      <td>173451006044</td>\n",
       "      <td>0.18</td>\n",
       "      <td>0.09</td>\n",
       "      <td>0.73</td>\n",
       "      <td>0.18</td>\n",
       "      <td>1</td>\n",
       "    </tr>\n",
       "    <tr>\n",
       "      <th>2</th>\n",
       "      <td>04101205025203C</td>\n",
       "      <td>173451006154</td>\n",
       "      <td>0.00</td>\n",
       "      <td>0.00</td>\n",
       "      <td>1.00</td>\n",
       "      <td>0.00</td>\n",
       "      <td>1</td>\n",
       "    </tr>\n",
       "    <tr>\n",
       "      <th>3</th>\n",
       "      <td>07016113A021002</td>\n",
       "      <td>170729001933</td>\n",
       "      <td>0.70</td>\n",
       "      <td>0.00</td>\n",
       "      <td>0.30</td>\n",
       "      <td>0.35</td>\n",
       "      <td>0</td>\n",
       "    </tr>\n",
       "    <tr>\n",
       "      <th>4</th>\n",
       "      <td>07016113A022002</td>\n",
       "      <td>170729002507</td>\n",
       "      <td>0.50</td>\n",
       "      <td>0.20</td>\n",
       "      <td>0.30</td>\n",
       "      <td>0.45</td>\n",
       "      <td>0</td>\n",
       "    </tr>\n",
       "  </tbody>\n",
       "</table>\n",
       "</div>"
      ],
      "text/plain": [
       "        schoolcode  NCESSchoolID  hybridper  virtualper  inpersonper  \\\n",
       "0  04101205025201C  173451006077       0.00        0.00         1.00   \n",
       "1  04101205025202C  173451006044       0.18        0.09         0.73   \n",
       "2  04101205025203C  173451006154       0.00        0.00         1.00   \n",
       "3  07016113A021002  170729001933       0.70        0.00         0.30   \n",
       "4  07016113A022002  170729002507       0.50        0.20         0.30   \n",
       "\n",
       "   schoolmode  charter  \n",
       "0        0.00        1  \n",
       "1        0.18        1  \n",
       "2        0.00        1  \n",
       "3        0.35        0  \n",
       "4        0.45        0  "
      ]
     },
     "execution_count": 6,
     "metadata": {},
     "output_type": "execute_result"
    }
   ],
   "source": [
    "mode = mode[mode['LearningModel']!='Closed']\n",
    "\n",
    "il_mode = mode.groupby(['StateAssignedSchoolID', 'NCESSchoolID'])['LearningModel'].value_counts(\n",
    "    normalize = True).to_frame().rename(columns = {'LearningModel':'normalized'}).reset_index().rename(\n",
    "columns = {'StateAssignedSchoolID':'schoolcode'})\n",
    "\n",
    "il_mode = il_mode.pivot(columns = 'LearningModel', values = 'normalized', \n",
    "index = ['schoolcode','NCESSchoolID']).reset_index().fillna(0).loc[:, \n",
    "        ['schoolcode', 'NCESSchoolID', 'Hybrid', 'Virtual', 'In-person']].rename(\n",
    "columns = {'Hybrid':'hybridper', 'Virtual':'virtualper', 'In-person':'inpersonper'})\n",
    "\n",
    "il_mode['schoolmode'] = 1 * il_mode['virtualper'] + 0.5 * il_mode['hybridper']\n",
    "\n",
    "il_mode.loc[:, ['hybridper', 'virtualper', 'inpersonper', 'schoolmode']] = round(\n",
    "    il_mode.loc[:, ['hybridper', 'virtualper', 'inpersonper', 'schoolmode']], 2)\n",
    "\n",
    "il_mode = il_mode.merge(charter_mode, on = 'schoolcode')\n",
    "\n",
    "for i in list(il_mode.schoolcode):\n",
    "    if len(str(i)) != 15:\n",
    "        il_mode.loc[il_mode.schoolcode == i, 'schoolcode'] = '0' + str(i)\n",
    "        \n",
    "il_mode['schoolcode'] = il_mode['schoolcode'].astype('str')\n",
    "\n",
    "il_mode.head()"
   ]
  },
  {
   "cell_type": "code",
   "execution_count": 8,
   "id": "328d34e9",
   "metadata": {},
   "outputs": [],
   "source": [
    "drop_mode = pd.read_csv('dropout_il_17_21.csv').iloc[:, 1:].merge(il_mode, \n",
    "on = 'schoolcode')\n",
    "\n",
    "drop_mode['countycode'] = drop_mode['schoolcode'].apply(lambda x: x[:4]) + 'il'\n",
    "drop_mode['districtcode'] = drop_mode['schoolcode'].apply(lambda x: x[:-4]) + 'il'\n",
    "drop_mode['state'] = 'il'\n",
    "\n",
    "drop_mode.year = drop_mode.year.astype('str')\n",
    "\n",
    "drop_mode.loc[drop_mode['year'] != '2021', ['hybridper', 'virtualper', 'schoolmode']] = 0\n",
    "drop_mode.loc[drop_mode['year'] != '2021', ['inpersonper']] = 1\n",
    "drop_mode['year_21'] = 1\n",
    "drop_mode.loc[drop_mode['year'] != '2021', 'year_21'] = 0\n",
    "\n",
    "il = drop_mode.iloc[:, 1:].rename(columns = {'schoolcode':'mergecode', 'totalenrolled':'totalenroll',\n",
    "              'dropout':'droprate'}).drop(columns = 'countycode')\n",
    "il['year'] = il['year'].map({2017:'17', 2018:'18', 2019:'19', 2021:'21'})\n",
    "il.set_index('year').to_csv('illinois_dropout.csv')"
   ]
  }
 ],
 "metadata": {
  "kernelspec": {
   "display_name": "Python 3 (ipykernel)",
   "language": "python",
   "name": "python3"
  },
  "language_info": {
   "codemirror_mode": {
    "name": "ipython",
    "version": 3
   },
   "file_extension": ".py",
   "mimetype": "text/x-python",
   "name": "python",
   "nbconvert_exporter": "python",
   "pygments_lexer": "ipython3",
   "version": "3.9.7"
  }
 },
 "nbformat": 4,
 "nbformat_minor": 5
}
