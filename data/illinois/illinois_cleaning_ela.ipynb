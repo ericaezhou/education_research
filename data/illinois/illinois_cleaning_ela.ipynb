{
 "cells": [
  {
   "cell_type": "code",
   "execution_count": 1,
   "id": "530d8495",
   "metadata": {},
   "outputs": [],
   "source": [
    "import pandas as pd"
   ]
  },
  {
   "cell_type": "markdown",
   "id": "abb750a6",
   "metadata": {},
   "source": [
    "## Year 2021"
   ]
  },
  {
   "cell_type": "markdown",
   "id": "ecc5c042",
   "metadata": {},
   "source": [
    "### Assessment Data"
   ]
  },
  {
   "cell_type": "markdown",
   "id": "09cf289b",
   "metadata": {},
   "source": [
    "https://www.isbe.net/_layouts/Download.aspx?SourceUrl=/Documents/2021-RC-Pub-Data-Set.xlsx"
   ]
  },
  {
   "cell_type": "code",
   "execution_count": 2,
   "id": "1ccab161",
   "metadata": {},
   "outputs": [],
   "source": [
    "data = pd.read_csv('sat21.csv')\n",
    "data = data[data['Type'] == 'School']"
   ]
  },
  {
   "cell_type": "code",
   "execution_count": 3,
   "id": "4ce52dd8",
   "metadata": {},
   "outputs": [],
   "source": [
    "col_name = ['RCDTS',\n",
    " 'SAT Reading Total Students Level 3 %',\n",
    " 'SAT Reading Total Students Level 4 %',\n",
    " '# Students SAT ELA Participation']"
   ]
  },
  {
   "cell_type": "code",
   "execution_count": 4,
   "id": "c2fae1b8",
   "metadata": {},
   "outputs": [
    {
     "data": {
      "text/html": [
       "<div>\n",
       "<style scoped>\n",
       "    .dataframe tbody tr th:only-of-type {\n",
       "        vertical-align: middle;\n",
       "    }\n",
       "\n",
       "    .dataframe tbody tr th {\n",
       "        vertical-align: top;\n",
       "    }\n",
       "\n",
       "    .dataframe thead th {\n",
       "        text-align: right;\n",
       "    }\n",
       "</style>\n",
       "<table border=\"1\" class=\"dataframe\">\n",
       "  <thead>\n",
       "    <tr style=\"text-align: right;\">\n",
       "      <th></th>\n",
       "      <th>schoolcode</th>\n",
       "      <th>totaltested</th>\n",
       "      <th>elapass</th>\n",
       "    </tr>\n",
       "  </thead>\n",
       "  <tbody>\n",
       "    <tr>\n",
       "      <th>1</th>\n",
       "      <td>010010010260001</td>\n",
       "      <td>41</td>\n",
       "      <td>22.0</td>\n",
       "    </tr>\n",
       "    <tr>\n",
       "      <th>4</th>\n",
       "      <td>010010020260001</td>\n",
       "      <td>45</td>\n",
       "      <td>26.6</td>\n",
       "    </tr>\n",
       "    <tr>\n",
       "      <th>7</th>\n",
       "      <td>010010030260001</td>\n",
       "      <td>49</td>\n",
       "      <td>26.5</td>\n",
       "    </tr>\n",
       "    <tr>\n",
       "      <th>12</th>\n",
       "      <td>010010040260001</td>\n",
       "      <td>39</td>\n",
       "      <td>20.5</td>\n",
       "    </tr>\n",
       "    <tr>\n",
       "      <th>16</th>\n",
       "      <td>010011720220003</td>\n",
       "      <td>425</td>\n",
       "      <td>28.5</td>\n",
       "    </tr>\n",
       "  </tbody>\n",
       "</table>\n",
       "</div>"
      ],
      "text/plain": [
       "         schoolcode  totaltested  elapass\n",
       "1   010010010260001           41     22.0\n",
       "4   010010020260001           45     26.6\n",
       "7   010010030260001           49     26.5\n",
       "12  010010040260001           39     20.5\n",
       "16  010011720220003          425     28.5"
      ]
     },
     "execution_count": 4,
     "metadata": {},
     "output_type": "execute_result"
    }
   ],
   "source": [
    "test_data = data.loc[data['# Students SAT ELA Participation'] > 0, col_name].rename(\n",
    "    columns = {'RCDTS':'schoolcode', '# Students SAT ELA Participation':'totaltested'})\n",
    "\n",
    "test_data['elapass'] = test_data['SAT Reading Total Students Level 3 %'] + test_data[\n",
    "    'SAT Reading Total Students Level 4 %']\n",
    "\n",
    "test_data = test_data.drop(columns = [\n",
    " 'SAT Reading Total Students Level 3 %',\n",
    " 'SAT Reading Total Students Level 4 %',])\n",
    "\n",
    "test_data['totaltested'] = test_data['totaltested'].astype('int')\n",
    "test_data['elapass'] = round(test_data['elapass'], 2)\n",
    "\n",
    "test_data.head()"
   ]
  },
  {
   "cell_type": "markdown",
   "id": "c2756cf7",
   "metadata": {},
   "source": [
    "### Demographics Data"
   ]
  },
  {
   "cell_type": "code",
   "execution_count": 5,
   "id": "ed391065",
   "metadata": {},
   "outputs": [
    {
     "name": "stderr",
     "output_type": "stream",
     "text": [
      "/opt/anaconda3/lib/python3.9/site-packages/IPython/core/interactiveshell.py:3444: DtypeWarning: Columns (766,767,780,781,794,795,808,809,816,817,822,823,824,825,826,827,828,829,830,831,832,833,834,835,836,837,838,839,840,841,842,843) have mixed types.Specify dtype option on import or set low_memory=False.\n",
      "  exec(code_obj, self.user_global_ns, self.user_ns)\n"
     ]
    }
   ],
   "source": [
    "data = pd.read_csv('enr21.csv')\n",
    "data = data[data['Type'] == 'School']"
   ]
  },
  {
   "cell_type": "code",
   "execution_count": 6,
   "id": "2da2e988",
   "metadata": {},
   "outputs": [],
   "source": [
    "col_name = ['RCDTS', '# Student Enrollment', \n",
    "            '% Student Enrollment - White', \n",
    "            '% Student Enrollment - Black or African American', \n",
    "            '% Student Enrollment - Hispanic or Latino',\n",
    "           '% Student Enrollment - Low Income']"
   ]
  },
  {
   "cell_type": "code",
   "execution_count": 7,
   "id": "ca7bd550",
   "metadata": {},
   "outputs": [
    {
     "data": {
      "text/html": [
       "<div>\n",
       "<style scoped>\n",
       "    .dataframe tbody tr th:only-of-type {\n",
       "        vertical-align: middle;\n",
       "    }\n",
       "\n",
       "    .dataframe tbody tr th {\n",
       "        vertical-align: top;\n",
       "    }\n",
       "\n",
       "    .dataframe thead th {\n",
       "        text-align: right;\n",
       "    }\n",
       "</style>\n",
       "<table border=\"1\" class=\"dataframe\">\n",
       "  <thead>\n",
       "    <tr style=\"text-align: right;\">\n",
       "      <th></th>\n",
       "      <th>schoolcode</th>\n",
       "      <th>totalenrolled</th>\n",
       "      <th>white</th>\n",
       "      <th>black</th>\n",
       "      <th>hispanic</th>\n",
       "      <th>lowincome</th>\n",
       "    </tr>\n",
       "  </thead>\n",
       "  <tbody>\n",
       "    <tr>\n",
       "      <th>1</th>\n",
       "      <td>010010010260001</td>\n",
       "      <td>241</td>\n",
       "      <td>96.3</td>\n",
       "      <td>0.0</td>\n",
       "      <td>0.0</td>\n",
       "      <td>36.9</td>\n",
       "    </tr>\n",
       "    <tr>\n",
       "      <th>2</th>\n",
       "      <td>010010010262002</td>\n",
       "      <td>263</td>\n",
       "      <td>94.7</td>\n",
       "      <td>0.0</td>\n",
       "      <td>0.0</td>\n",
       "      <td>47.9</td>\n",
       "    </tr>\n",
       "    <tr>\n",
       "      <th>4</th>\n",
       "      <td>010010020260001</td>\n",
       "      <td>270</td>\n",
       "      <td>95.2</td>\n",
       "      <td>0.0</td>\n",
       "      <td>0.0</td>\n",
       "      <td>22.2</td>\n",
       "    </tr>\n",
       "    <tr>\n",
       "      <th>5</th>\n",
       "      <td>010010020262002</td>\n",
       "      <td>355</td>\n",
       "      <td>97.5</td>\n",
       "      <td>0.0</td>\n",
       "      <td>0.0</td>\n",
       "      <td>27.6</td>\n",
       "    </tr>\n",
       "    <tr>\n",
       "      <th>7</th>\n",
       "      <td>010010030260001</td>\n",
       "      <td>257</td>\n",
       "      <td>96.9</td>\n",
       "      <td>0.0</td>\n",
       "      <td>0.0</td>\n",
       "      <td>39.3</td>\n",
       "    </tr>\n",
       "  </tbody>\n",
       "</table>\n",
       "</div>"
      ],
      "text/plain": [
       "        schoolcode  totalenrolled  white  black  hispanic  lowincome\n",
       "1  010010010260001            241   96.3    0.0       0.0       36.9\n",
       "2  010010010262002            263   94.7    0.0       0.0       47.9\n",
       "4  010010020260001            270   95.2    0.0       0.0       22.2\n",
       "5  010010020262002            355   97.5    0.0       0.0       27.6\n",
       "7  010010030260001            257   96.9    0.0       0.0       39.3"
      ]
     },
     "execution_count": 7,
     "metadata": {},
     "output_type": "execute_result"
    }
   ],
   "source": [
    "demo = data.loc[data['# Student Enrollment'] > 0, col_name].rename(\n",
    "    columns = {'RCDTS':'schoolcode', '# Student Enrollment':'totalenrolled', \n",
    "              '% Student Enrollment - White':'white',\n",
    "              '% Student Enrollment - Black or African American':'black',\n",
    "              '% Student Enrollment - Hispanic or Latino':'hispanic',\n",
    "              '% Student Enrollment - Low Income':'lowincome'}).fillna(0)\n",
    "\n",
    "demo.loc[:, ['white', 'black', 'hispanic', 'lowincome']] = round(demo.loc[:, \n",
    "['white', 'black', 'hispanic', 'lowincome']], 2)\n",
    "\n",
    "demo.head()"
   ]
  },
  {
   "cell_type": "code",
   "execution_count": 8,
   "id": "f7b5ae4f",
   "metadata": {},
   "outputs": [],
   "source": [
    "ela21 = test_data.merge(demo, on = 'schoolcode')\n",
    "ela21['year'] = '2021'"
   ]
  },
  {
   "cell_type": "markdown",
   "id": "0fd0cf8b",
   "metadata": {},
   "source": [
    "## Year 2019"
   ]
  },
  {
   "cell_type": "markdown",
   "id": "ead6e0f9",
   "metadata": {},
   "source": [
    "https://www.isbe.net/_layouts/Download.aspx?SourceUrl=/Documents/2019-Report-Card-Public-Data-Set.xlsx"
   ]
  },
  {
   "cell_type": "markdown",
   "id": "60e193ad",
   "metadata": {},
   "source": [
    "### Assessment Data"
   ]
  },
  {
   "cell_type": "code",
   "execution_count": 9,
   "id": "367945ec",
   "metadata": {},
   "outputs": [
    {
     "name": "stderr",
     "output_type": "stream",
     "text": [
      "/opt/anaconda3/lib/python3.9/site-packages/IPython/core/interactiveshell.py:3444: DtypeWarning: Columns (2,8,9) have mixed types.Specify dtype option on import or set low_memory=False.\n",
      "  exec(code_obj, self.user_global_ns, self.user_ns)\n"
     ]
    }
   ],
   "source": [
    "data = pd.read_csv('sat19.csv')\n",
    "data = data[data['Type'] == 'School']"
   ]
  },
  {
   "cell_type": "code",
   "execution_count": 10,
   "id": "556e3132",
   "metadata": {},
   "outputs": [],
   "source": [
    "col_name = ['RCDTS',\n",
    " 'SAT Reading Total Students Level 3 %',\n",
    " 'SAT Reading Total Students Level 4 %',\n",
    " '# Students SAT ELA Participation']"
   ]
  },
  {
   "cell_type": "code",
   "execution_count": 11,
   "id": "6bab7d3f",
   "metadata": {},
   "outputs": [
    {
     "data": {
      "text/html": [
       "<div>\n",
       "<style scoped>\n",
       "    .dataframe tbody tr th:only-of-type {\n",
       "        vertical-align: middle;\n",
       "    }\n",
       "\n",
       "    .dataframe tbody tr th {\n",
       "        vertical-align: top;\n",
       "    }\n",
       "\n",
       "    .dataframe thead th {\n",
       "        text-align: right;\n",
       "    }\n",
       "</style>\n",
       "<table border=\"1\" class=\"dataframe\">\n",
       "  <thead>\n",
       "    <tr style=\"text-align: right;\">\n",
       "      <th></th>\n",
       "      <th>schoolcode</th>\n",
       "      <th>totaltested</th>\n",
       "      <th>elapass</th>\n",
       "    </tr>\n",
       "  </thead>\n",
       "  <tbody>\n",
       "    <tr>\n",
       "      <th>9</th>\n",
       "      <td>150162990250849</td>\n",
       "      <td>75</td>\n",
       "      <td>18.6</td>\n",
       "    </tr>\n",
       "    <tr>\n",
       "      <th>11</th>\n",
       "      <td>040042000260003</td>\n",
       "      <td>123</td>\n",
       "      <td>30.9</td>\n",
       "    </tr>\n",
       "    <tr>\n",
       "      <th>15</th>\n",
       "      <td>540922250170001</td>\n",
       "      <td>33</td>\n",
       "      <td>22.6</td>\n",
       "    </tr>\n",
       "    <tr>\n",
       "      <th>17</th>\n",
       "      <td>170532300170001</td>\n",
       "      <td>55</td>\n",
       "      <td>41.8</td>\n",
       "    </tr>\n",
       "    <tr>\n",
       "      <th>23</th>\n",
       "      <td>210281030130001</td>\n",
       "      <td>139</td>\n",
       "      <td>21.9</td>\n",
       "    </tr>\n",
       "  </tbody>\n",
       "</table>\n",
       "</div>"
      ],
      "text/plain": [
       "         schoolcode  totaltested  elapass\n",
       "9   150162990250849           75     18.6\n",
       "11  040042000260003          123     30.9\n",
       "15  540922250170001           33     22.6\n",
       "17  170532300170001           55     41.8\n",
       "23  210281030130001          139     21.9"
      ]
     },
     "execution_count": 11,
     "metadata": {},
     "output_type": "execute_result"
    }
   ],
   "source": [
    "test_data = data.loc[data['# Students SAT ELA Participation'] > 0, col_name].rename(\n",
    "    columns = {'RCDTS':'schoolcode', '# Students SAT ELA Participation':'totaltested'})\n",
    "\n",
    "test_data['elapass'] = test_data['SAT Reading Total Students Level 3 %'] + test_data[\n",
    "    'SAT Reading Total Students Level 4 %']\n",
    "\n",
    "test_data = test_data.drop(columns = [\n",
    " 'SAT Reading Total Students Level 3 %',\n",
    " 'SAT Reading Total Students Level 4 %',])\n",
    "\n",
    "test_data['totaltested'] = test_data['totaltested'].astype('int')\n",
    "test_data['elapass'] = round(test_data['elapass'], 2)\n",
    "\n",
    "test_data.head()"
   ]
  },
  {
   "cell_type": "markdown",
   "id": "650ec0df",
   "metadata": {},
   "source": [
    "### Demographics Data"
   ]
  },
  {
   "cell_type": "code",
   "execution_count": 12,
   "id": "e41038f9",
   "metadata": {},
   "outputs": [
    {
     "name": "stderr",
     "output_type": "stream",
     "text": [
      "/opt/anaconda3/lib/python3.9/site-packages/IPython/core/interactiveshell.py:3444: DtypeWarning: Columns (2,8,9,10,11,12,773,774,787,788,801,802,815,816,823,824,825,826,827,828,829,830,831,832,833,834,835,836,837,838,839,840,841,843,844,845,846,847,848,849,850) have mixed types.Specify dtype option on import or set low_memory=False.\n",
      "  exec(code_obj, self.user_global_ns, self.user_ns)\n"
     ]
    }
   ],
   "source": [
    "data = pd.read_csv('enr19.csv')\n",
    "data = data[data['Type'] == 'School']"
   ]
  },
  {
   "cell_type": "code",
   "execution_count": 13,
   "id": "fd5f5483",
   "metadata": {},
   "outputs": [],
   "source": [
    "col_name = ['RCDTS', '# Student Enrollment', \n",
    "            '% Student Enrollment - White', \n",
    "            '% Student Enrollment - Black or African American', \n",
    "            '% Student Enrollment - Hispanic or Latino',\n",
    "           '% Student Enrollment - Low Income']"
   ]
  },
  {
   "cell_type": "code",
   "execution_count": 14,
   "id": "2db31ce4",
   "metadata": {},
   "outputs": [
    {
     "data": {
      "text/html": [
       "<div>\n",
       "<style scoped>\n",
       "    .dataframe tbody tr th:only-of-type {\n",
       "        vertical-align: middle;\n",
       "    }\n",
       "\n",
       "    .dataframe tbody tr th {\n",
       "        vertical-align: top;\n",
       "    }\n",
       "\n",
       "    .dataframe thead th {\n",
       "        text-align: right;\n",
       "    }\n",
       "</style>\n",
       "<table border=\"1\" class=\"dataframe\">\n",
       "  <thead>\n",
       "    <tr style=\"text-align: right;\">\n",
       "      <th></th>\n",
       "      <th>schoolcode</th>\n",
       "      <th>totalenrolled</th>\n",
       "      <th>white</th>\n",
       "      <th>black</th>\n",
       "      <th>hispanic</th>\n",
       "      <th>lowincome</th>\n",
       "    </tr>\n",
       "  </thead>\n",
       "  <tbody>\n",
       "    <tr>\n",
       "      <th>0</th>\n",
       "      <td>010010010260001</td>\n",
       "      <td>239</td>\n",
       "      <td>95.4</td>\n",
       "      <td>0.0</td>\n",
       "      <td>0.4</td>\n",
       "      <td>46.4</td>\n",
       "    </tr>\n",
       "    <tr>\n",
       "      <th>1</th>\n",
       "      <td>010010010262002</td>\n",
       "      <td>316</td>\n",
       "      <td>94.6</td>\n",
       "      <td>0.3</td>\n",
       "      <td>0.0</td>\n",
       "      <td>51.9</td>\n",
       "    </tr>\n",
       "    <tr>\n",
       "      <th>2</th>\n",
       "      <td>010010020260001</td>\n",
       "      <td>288</td>\n",
       "      <td>97.6</td>\n",
       "      <td>0.3</td>\n",
       "      <td>0.0</td>\n",
       "      <td>20.5</td>\n",
       "    </tr>\n",
       "    <tr>\n",
       "      <th>3</th>\n",
       "      <td>010010020262002</td>\n",
       "      <td>350</td>\n",
       "      <td>97.4</td>\n",
       "      <td>0.3</td>\n",
       "      <td>0.0</td>\n",
       "      <td>25.1</td>\n",
       "    </tr>\n",
       "    <tr>\n",
       "      <th>4</th>\n",
       "      <td>010010030260001</td>\n",
       "      <td>237</td>\n",
       "      <td>98.3</td>\n",
       "      <td>0.0</td>\n",
       "      <td>0.0</td>\n",
       "      <td>42.2</td>\n",
       "    </tr>\n",
       "  </tbody>\n",
       "</table>\n",
       "</div>"
      ],
      "text/plain": [
       "        schoolcode  totalenrolled  white  black  hispanic  lowincome\n",
       "0  010010010260001            239   95.4    0.0       0.4       46.4\n",
       "1  010010010262002            316   94.6    0.3       0.0       51.9\n",
       "2  010010020260001            288   97.6    0.3       0.0       20.5\n",
       "3  010010020262002            350   97.4    0.3       0.0       25.1\n",
       "4  010010030260001            237   98.3    0.0       0.0       42.2"
      ]
     },
     "execution_count": 14,
     "metadata": {},
     "output_type": "execute_result"
    }
   ],
   "source": [
    "demo = data.loc[data['# Student Enrollment'] > 0, col_name].rename(\n",
    "    columns = {'RCDTS':'schoolcode', '# Student Enrollment':'totalenrolled', \n",
    "              '% Student Enrollment - White':'white',\n",
    "              '% Student Enrollment - Black or African American':'black',\n",
    "              '% Student Enrollment - Hispanic or Latino':'hispanic',\n",
    "              '% Student Enrollment - Low Income':'lowincome'}).fillna(0)\n",
    "\n",
    "demo.loc[:, ['white', 'black', 'hispanic', 'lowincome']] = round(demo.loc[:, \n",
    "['white', 'black', 'hispanic', 'lowincome']], 2)\n",
    "\n",
    "demo.head()"
   ]
  },
  {
   "cell_type": "code",
   "execution_count": 15,
   "id": "6d65de26",
   "metadata": {},
   "outputs": [],
   "source": [
    "ela19 = test_data.merge(demo, on = 'schoolcode')\n",
    "ela19['year'] = '2019'"
   ]
  },
  {
   "cell_type": "markdown",
   "id": "34ff955d",
   "metadata": {},
   "source": [
    "## Year 2018"
   ]
  },
  {
   "cell_type": "markdown",
   "id": "e18d16b1",
   "metadata": {},
   "source": [
    "https://www.isbe.net/_layouts/Download.aspx?SourceUrl=/Documents/Report-Card-Public-Data-Set.xlsx"
   ]
  },
  {
   "cell_type": "markdown",
   "id": "9e955c47",
   "metadata": {},
   "source": [
    "### Assessment Data"
   ]
  },
  {
   "cell_type": "code",
   "execution_count": 16,
   "id": "2df4ee3a",
   "metadata": {},
   "outputs": [
    {
     "name": "stderr",
     "output_type": "stream",
     "text": [
      "/opt/anaconda3/lib/python3.9/site-packages/IPython/core/interactiveshell.py:3444: DtypeWarning: Columns (0) have mixed types.Specify dtype option on import or set low_memory=False.\n",
      "  exec(code_obj, self.user_global_ns, self.user_ns)\n"
     ]
    }
   ],
   "source": [
    "data = pd.read_csv('sat18.csv')\n",
    "data = data[data['Type'] == 'School']"
   ]
  },
  {
   "cell_type": "code",
   "execution_count": 17,
   "id": "47d79ec3",
   "metadata": {},
   "outputs": [],
   "source": [
    "col_name = ['RCDTS',\n",
    " 'SAT Reading Total Students Level 3 %',\n",
    " 'SAT Reading Total Students Level 4 %',\n",
    " 'Total Students SAT ELA Participation']"
   ]
  },
  {
   "cell_type": "code",
   "execution_count": 18,
   "id": "e4f216d0",
   "metadata": {},
   "outputs": [
    {
     "data": {
      "text/html": [
       "<div>\n",
       "<style scoped>\n",
       "    .dataframe tbody tr th:only-of-type {\n",
       "        vertical-align: middle;\n",
       "    }\n",
       "\n",
       "    .dataframe tbody tr th {\n",
       "        vertical-align: top;\n",
       "    }\n",
       "\n",
       "    .dataframe thead th {\n",
       "        text-align: right;\n",
       "    }\n",
       "</style>\n",
       "<table border=\"1\" class=\"dataframe\">\n",
       "  <thead>\n",
       "    <tr style=\"text-align: right;\">\n",
       "      <th></th>\n",
       "      <th>schoolcode</th>\n",
       "      <th>totaltested</th>\n",
       "      <th>elapass</th>\n",
       "    </tr>\n",
       "  </thead>\n",
       "  <tbody>\n",
       "    <tr>\n",
       "      <th>1</th>\n",
       "      <td>10010010260001</td>\n",
       "      <td>35</td>\n",
       "      <td>42.9</td>\n",
       "    </tr>\n",
       "    <tr>\n",
       "      <th>4</th>\n",
       "      <td>10010020260001</td>\n",
       "      <td>46</td>\n",
       "      <td>37.0</td>\n",
       "    </tr>\n",
       "    <tr>\n",
       "      <th>7</th>\n",
       "      <td>10010030260001</td>\n",
       "      <td>52</td>\n",
       "      <td>32.6</td>\n",
       "    </tr>\n",
       "    <tr>\n",
       "      <th>12</th>\n",
       "      <td>10010040260001</td>\n",
       "      <td>56</td>\n",
       "      <td>35.7</td>\n",
       "    </tr>\n",
       "    <tr>\n",
       "      <th>16</th>\n",
       "      <td>10011720220003</td>\n",
       "      <td>407</td>\n",
       "      <td>29.7</td>\n",
       "    </tr>\n",
       "  </tbody>\n",
       "</table>\n",
       "</div>"
      ],
      "text/plain": [
       "        schoolcode  totaltested  elapass\n",
       "1   10010010260001           35     42.9\n",
       "4   10010020260001           46     37.0\n",
       "7   10010030260001           52     32.6\n",
       "12  10010040260001           56     35.7\n",
       "16  10011720220003          407     29.7"
      ]
     },
     "execution_count": 18,
     "metadata": {},
     "output_type": "execute_result"
    }
   ],
   "source": [
    "test_data = data.loc[data['Total Students SAT ELA Participation'] > 0, col_name].rename(\n",
    "    columns = {'RCDTS':'schoolcode', 'Total Students SAT ELA Participation':'totaltested'})\n",
    "\n",
    "test_data['elapass'] = test_data['SAT Reading Total Students Level 3 %'] + test_data[\n",
    "    'SAT Reading Total Students Level 4 %']\n",
    "\n",
    "test_data = test_data.drop(columns = [\n",
    " 'SAT Reading Total Students Level 3 %',\n",
    " 'SAT Reading Total Students Level 4 %',])\n",
    "\n",
    "test_data['totaltested'] = test_data['totaltested'].astype('int')\n",
    "test_data['elapass'] = round(test_data['elapass'], 2)\n",
    "\n",
    "test_data.head()"
   ]
  },
  {
   "cell_type": "markdown",
   "id": "7bcbde5f",
   "metadata": {},
   "source": [
    "### Demographics Data"
   ]
  },
  {
   "cell_type": "code",
   "execution_count": 19,
   "id": "280d47ba",
   "metadata": {},
   "outputs": [
    {
     "name": "stderr",
     "output_type": "stream",
     "text": [
      "/opt/anaconda3/lib/python3.9/site-packages/IPython/core/interactiveshell.py:3444: DtypeWarning: Columns (0) have mixed types.Specify dtype option on import or set low_memory=False.\n",
      "  exec(code_obj, self.user_global_ns, self.user_ns)\n"
     ]
    }
   ],
   "source": [
    "data = pd.read_csv('enr18.csv')\n",
    "data = data[data['Type'] == 'School']"
   ]
  },
  {
   "cell_type": "code",
   "execution_count": 20,
   "id": "6b3de883",
   "metadata": {},
   "outputs": [],
   "source": [
    "col_name = ['RCDTS', 'Student Enrollment - Total', \n",
    "            'Student Enrollment - White %', \n",
    "            'Student Enrollment - Black or African American %', \n",
    "            'Student Enrollment - Hispanic or Latino %',\n",
    "           'Student Enrollment - Low Income %']"
   ]
  },
  {
   "cell_type": "code",
   "execution_count": 21,
   "id": "44c8abb4",
   "metadata": {},
   "outputs": [
    {
     "data": {
      "text/html": [
       "<div>\n",
       "<style scoped>\n",
       "    .dataframe tbody tr th:only-of-type {\n",
       "        vertical-align: middle;\n",
       "    }\n",
       "\n",
       "    .dataframe tbody tr th {\n",
       "        vertical-align: top;\n",
       "    }\n",
       "\n",
       "    .dataframe thead th {\n",
       "        text-align: right;\n",
       "    }\n",
       "</style>\n",
       "<table border=\"1\" class=\"dataframe\">\n",
       "  <thead>\n",
       "    <tr style=\"text-align: right;\">\n",
       "      <th></th>\n",
       "      <th>schoolcode</th>\n",
       "      <th>totalenrolled</th>\n",
       "      <th>white</th>\n",
       "      <th>black</th>\n",
       "      <th>hispanic</th>\n",
       "      <th>lowincome</th>\n",
       "    </tr>\n",
       "  </thead>\n",
       "  <tbody>\n",
       "    <tr>\n",
       "      <th>1</th>\n",
       "      <td>10010010260001</td>\n",
       "      <td>246.0</td>\n",
       "      <td>96.7</td>\n",
       "      <td>0.0</td>\n",
       "      <td>0.0</td>\n",
       "      <td>43.9</td>\n",
       "    </tr>\n",
       "    <tr>\n",
       "      <th>2</th>\n",
       "      <td>10010010262002</td>\n",
       "      <td>311.0</td>\n",
       "      <td>93.9</td>\n",
       "      <td>0.0</td>\n",
       "      <td>0.0</td>\n",
       "      <td>52.7</td>\n",
       "    </tr>\n",
       "    <tr>\n",
       "      <th>4</th>\n",
       "      <td>10010020260001</td>\n",
       "      <td>281.0</td>\n",
       "      <td>98.6</td>\n",
       "      <td>0.0</td>\n",
       "      <td>0.0</td>\n",
       "      <td>22.4</td>\n",
       "    </tr>\n",
       "    <tr>\n",
       "      <th>5</th>\n",
       "      <td>10010020262002</td>\n",
       "      <td>318.0</td>\n",
       "      <td>96.9</td>\n",
       "      <td>0.0</td>\n",
       "      <td>0.0</td>\n",
       "      <td>26.7</td>\n",
       "    </tr>\n",
       "    <tr>\n",
       "      <th>7</th>\n",
       "      <td>10010030260001</td>\n",
       "      <td>245.0</td>\n",
       "      <td>96.3</td>\n",
       "      <td>0.0</td>\n",
       "      <td>0.0</td>\n",
       "      <td>42.0</td>\n",
       "    </tr>\n",
       "  </tbody>\n",
       "</table>\n",
       "</div>"
      ],
      "text/plain": [
       "       schoolcode  totalenrolled  white  black  hispanic  lowincome\n",
       "1  10010010260001          246.0   96.7    0.0       0.0       43.9\n",
       "2  10010010262002          311.0   93.9    0.0       0.0       52.7\n",
       "4  10010020260001          281.0   98.6    0.0       0.0       22.4\n",
       "5  10010020262002          318.0   96.9    0.0       0.0       26.7\n",
       "7  10010030260001          245.0   96.3    0.0       0.0       42.0"
      ]
     },
     "execution_count": 21,
     "metadata": {},
     "output_type": "execute_result"
    }
   ],
   "source": [
    "demo = data.loc[data['Student Enrollment - Total'] > 0, col_name].rename(\n",
    "    columns = {'RCDTS':'schoolcode', 'Student Enrollment - Total':'totalenrolled', \n",
    "              'Student Enrollment - White %':'white',\n",
    "              'Student Enrollment - Black or African American %':'black',\n",
    "              'Student Enrollment - Hispanic or Latino %':'hispanic',\n",
    "              'Student Enrollment - Low Income %':'lowincome'}).fillna(0)\n",
    "\n",
    "demo.loc[:, ['white', 'black', 'hispanic', 'lowincome']] = round(demo.loc[:, \n",
    "['white', 'black', 'hispanic', 'lowincome']], 2)\n",
    "\n",
    "demo.head()"
   ]
  },
  {
   "cell_type": "code",
   "execution_count": 22,
   "id": "6d7416fc",
   "metadata": {},
   "outputs": [],
   "source": [
    "ela18 = test_data.merge(demo, on = 'schoolcode')\n",
    "        \n",
    "for i in list(ela18.schoolcode):\n",
    "    if len(str(i)) != 15:\n",
    "        ela18.loc[ela18.schoolcode == i, 'schoolcode'] = '0' + str(i)\n",
    "        \n",
    "ela18.schoolcode = ela18.schoolcode.astype('str')\n",
    "\n",
    "ela18['year'] = '2018'"
   ]
  },
  {
   "cell_type": "markdown",
   "id": "282ee06c",
   "metadata": {},
   "source": [
    "## Year 2017"
   ]
  },
  {
   "cell_type": "markdown",
   "id": "13f03633",
   "metadata": {},
   "source": [
    "https://www.isbe.net/_layouts/Download.aspx?SourceUrl=/Documents/2017_PARCC_SAT_ACT_enrollment.xlsx"
   ]
  },
  {
   "cell_type": "markdown",
   "id": "225348c0",
   "metadata": {},
   "source": [
    "### Assessment Data"
   ]
  },
  {
   "cell_type": "code",
   "execution_count": 23,
   "id": "186baf1f",
   "metadata": {},
   "outputs": [],
   "source": [
    "data = pd.read_csv('sat17.csv').dropna()\n",
    "data = data.rename(columns = {'RCDTS':'schoolcode', \n",
    "                             'ELA':'elapass',\n",
    "                             ' totalenrolled ':'totalenrolled'}).loc[:, \n",
    "                            ['schoolcode', 'elapass', 'totalenrolled']]"
   ]
  },
  {
   "cell_type": "markdown",
   "id": "4b985ad0",
   "metadata": {},
   "source": [
    "### Demographics Data"
   ]
  },
  {
   "cell_type": "code",
   "execution_count": 24,
   "id": "975a875f",
   "metadata": {},
   "outputs": [],
   "source": [
    "demo = pd.read_csv('enr17.csv').drop(columns = 'dropout')\n",
    "totaltested = pd.read_csv('totaltest17.csv').loc[:, ['schoolcode', 'elatest']].rename(\n",
    "    columns = {'elatest':'totaltested'})\n",
    "ela17 = demo.merge(data, on = 'schoolcode').merge(totaltested, on ='schoolcode')\n",
    "ela17['year'] = '2017'\n"
   ]
  },
  {
   "cell_type": "markdown",
   "id": "b61fc8ad",
   "metadata": {},
   "source": [
    "## Merge Data (2017 - 2021)"
   ]
  },
  {
   "cell_type": "code",
   "execution_count": 25,
   "id": "bcce25c1",
   "metadata": {},
   "outputs": [],
   "source": [
    "mutual_school = list(set(ela17.schoolcode).intersection(set(ela18.schoolcode)).intersection(\n",
    "    set(ela19.schoolcode)).intersection(set(ela21.schoolcode)))\n",
    "\n",
    "mutual_ela17 = ela17.loc[ela17['schoolcode'].isin(mutual_school)]\n",
    "mutual_ela18 = ela18.loc[ela18['schoolcode'].isin(mutual_school)]\n",
    "mutual_ela19 = ela19.loc[ela19['schoolcode'].isin(mutual_school)]\n",
    "mutual_ela21 = ela21.loc[ela21['schoolcode'].isin(mutual_school)]"
   ]
  },
  {
   "cell_type": "code",
   "execution_count": 26,
   "id": "fe7c0932",
   "metadata": {},
   "outputs": [],
   "source": [
    "all_year = pd.concat([mutual_ela17,mutual_ela18,mutual_ela19,mutual_ela21])\n",
    "all_year.loc[:, ['totaltested', 'totalenrolled']] = all_year.loc[:, \n",
    "['totaltested', 'totalenrolled']].astype('int')\n",
    "\n",
    "all_year.to_csv('elapass_il_17_21.csv')"
   ]
  },
  {
   "cell_type": "markdown",
   "id": "2968abb5",
   "metadata": {},
   "source": [
    "### Pandemic Instruction Modality Data"
   ]
  },
  {
   "cell_type": "code",
   "execution_count": 3,
   "id": "f0ef987e",
   "metadata": {},
   "outputs": [],
   "source": [
    "mode = pd.read_csv('schoolmode_il.csv')"
   ]
  },
  {
   "cell_type": "code",
   "execution_count": 4,
   "id": "9f18abf4",
   "metadata": {},
   "outputs": [
    {
     "data": {
      "text/html": [
       "<div>\n",
       "<style scoped>\n",
       "    .dataframe tbody tr th:only-of-type {\n",
       "        vertical-align: middle;\n",
       "    }\n",
       "\n",
       "    .dataframe tbody tr th {\n",
       "        vertical-align: top;\n",
       "    }\n",
       "\n",
       "    .dataframe thead th {\n",
       "        text-align: right;\n",
       "    }\n",
       "</style>\n",
       "<table border=\"1\" class=\"dataframe\">\n",
       "  <thead>\n",
       "    <tr style=\"text-align: right;\">\n",
       "      <th></th>\n",
       "      <th>schoolcode</th>\n",
       "      <th>charter</th>\n",
       "    </tr>\n",
       "  </thead>\n",
       "  <tbody>\n",
       "    <tr>\n",
       "      <th>0</th>\n",
       "      <td>80432100260002</td>\n",
       "      <td>0</td>\n",
       "    </tr>\n",
       "    <tr>\n",
       "      <th>11</th>\n",
       "      <td>80432100261001</td>\n",
       "      <td>0</td>\n",
       "    </tr>\n",
       "    <tr>\n",
       "      <th>22</th>\n",
       "      <td>80432100262003</td>\n",
       "      <td>0</td>\n",
       "    </tr>\n",
       "    <tr>\n",
       "      <th>33</th>\n",
       "      <td>11012004C260001</td>\n",
       "      <td>0</td>\n",
       "    </tr>\n",
       "    <tr>\n",
       "      <th>44</th>\n",
       "      <td>11012004C262003</td>\n",
       "      <td>0</td>\n",
       "    </tr>\n",
       "  </tbody>\n",
       "</table>\n",
       "</div>"
      ],
      "text/plain": [
       "         schoolcode  charter\n",
       "0    80432100260002        0\n",
       "11   80432100261001        0\n",
       "22   80432100262003        0\n",
       "33  11012004C260001        0\n",
       "44  11012004C262003        0"
      ]
     },
     "execution_count": 4,
     "metadata": {},
     "output_type": "execute_result"
    }
   ],
   "source": [
    "charter_mode = mode.loc[:, ['StateAssignedSchoolID', 'Charter']].drop_duplicates().rename(columns = {'StateAssignedSchoolID':\n",
    "             'schoolcode', 'Charter':'charter'})\n",
    "charter_map = {'No':0, 'Yes':1}\n",
    "charter_mode['charter'] = charter_mode['charter'].map(charter_map)\n",
    "charter_mode.head()"
   ]
  },
  {
   "cell_type": "code",
   "execution_count": 5,
   "id": "0ef6aed0",
   "metadata": {},
   "outputs": [
    {
     "data": {
      "text/html": [
       "<div>\n",
       "<style scoped>\n",
       "    .dataframe tbody tr th:only-of-type {\n",
       "        vertical-align: middle;\n",
       "    }\n",
       "\n",
       "    .dataframe tbody tr th {\n",
       "        vertical-align: top;\n",
       "    }\n",
       "\n",
       "    .dataframe thead th {\n",
       "        text-align: right;\n",
       "    }\n",
       "</style>\n",
       "<table border=\"1\" class=\"dataframe\">\n",
       "  <thead>\n",
       "    <tr style=\"text-align: right;\">\n",
       "      <th></th>\n",
       "      <th>schoolcode</th>\n",
       "      <th>NCESSchoolID</th>\n",
       "      <th>hybridper</th>\n",
       "      <th>virtualper</th>\n",
       "      <th>inpersonper</th>\n",
       "      <th>schoolmode</th>\n",
       "      <th>charter</th>\n",
       "    </tr>\n",
       "  </thead>\n",
       "  <tbody>\n",
       "    <tr>\n",
       "      <th>0</th>\n",
       "      <td>04101205025201C</td>\n",
       "      <td>173451006077</td>\n",
       "      <td>0.00</td>\n",
       "      <td>0.00</td>\n",
       "      <td>1.00</td>\n",
       "      <td>0.00</td>\n",
       "      <td>1</td>\n",
       "    </tr>\n",
       "    <tr>\n",
       "      <th>1</th>\n",
       "      <td>04101205025202C</td>\n",
       "      <td>173451006044</td>\n",
       "      <td>0.18</td>\n",
       "      <td>0.09</td>\n",
       "      <td>0.73</td>\n",
       "      <td>0.18</td>\n",
       "      <td>1</td>\n",
       "    </tr>\n",
       "    <tr>\n",
       "      <th>2</th>\n",
       "      <td>04101205025203C</td>\n",
       "      <td>173451006154</td>\n",
       "      <td>0.00</td>\n",
       "      <td>0.00</td>\n",
       "      <td>1.00</td>\n",
       "      <td>0.00</td>\n",
       "      <td>1</td>\n",
       "    </tr>\n",
       "    <tr>\n",
       "      <th>3</th>\n",
       "      <td>07016113A021002</td>\n",
       "      <td>170729001933</td>\n",
       "      <td>0.70</td>\n",
       "      <td>0.00</td>\n",
       "      <td>0.30</td>\n",
       "      <td>0.35</td>\n",
       "      <td>0</td>\n",
       "    </tr>\n",
       "    <tr>\n",
       "      <th>4</th>\n",
       "      <td>07016113A022002</td>\n",
       "      <td>170729002507</td>\n",
       "      <td>0.50</td>\n",
       "      <td>0.20</td>\n",
       "      <td>0.30</td>\n",
       "      <td>0.45</td>\n",
       "      <td>0</td>\n",
       "    </tr>\n",
       "  </tbody>\n",
       "</table>\n",
       "</div>"
      ],
      "text/plain": [
       "        schoolcode  NCESSchoolID  hybridper  virtualper  inpersonper  \\\n",
       "0  04101205025201C  173451006077       0.00        0.00         1.00   \n",
       "1  04101205025202C  173451006044       0.18        0.09         0.73   \n",
       "2  04101205025203C  173451006154       0.00        0.00         1.00   \n",
       "3  07016113A021002  170729001933       0.70        0.00         0.30   \n",
       "4  07016113A022002  170729002507       0.50        0.20         0.30   \n",
       "\n",
       "   schoolmode  charter  \n",
       "0        0.00        1  \n",
       "1        0.18        1  \n",
       "2        0.00        1  \n",
       "3        0.35        0  \n",
       "4        0.45        0  "
      ]
     },
     "execution_count": 5,
     "metadata": {},
     "output_type": "execute_result"
    }
   ],
   "source": [
    "mode = mode[mode['LearningModel']!='Closed']\n",
    "\n",
    "il_mode = mode.groupby(['StateAssignedSchoolID', 'NCESSchoolID'])['LearningModel'].value_counts(\n",
    "    normalize = True).to_frame().rename(columns = {'LearningModel':'normalized'}).reset_index().rename(\n",
    "columns = {'StateAssignedSchoolID':'schoolcode'})\n",
    "\n",
    "il_mode = il_mode.pivot(columns = 'LearningModel', values = 'normalized', \n",
    "index = ['schoolcode','NCESSchoolID']).reset_index().fillna(0).loc[:, \n",
    "        ['schoolcode', 'NCESSchoolID', 'Hybrid', 'Virtual', 'In-person']].rename(\n",
    "columns = {'Hybrid':'hybridper', 'Virtual':'virtualper', 'In-person':'inpersonper'})\n",
    "\n",
    "il_mode['schoolmode'] = 1 * il_mode['virtualper'] + 0.5 * il_mode['hybridper']\n",
    "\n",
    "il_mode.loc[:, ['hybridper', 'virtualper', 'inpersonper', 'schoolmode']] = round(\n",
    "    il_mode.loc[:, ['hybridper', 'virtualper', 'inpersonper', 'schoolmode']], 2)\n",
    "\n",
    "il_mode = il_mode.merge(charter_mode, on = 'schoolcode')\n",
    "\n",
    "for i in list(il_mode.schoolcode):\n",
    "    if len(str(i)) != 15:\n",
    "        il_mode.loc[il_mode.schoolcode == i, 'schoolcode'] = '0' + str(i)\n",
    "        \n",
    "il_mode['schoolcode'] = il_mode['schoolcode'].astype('str')\n",
    "\n",
    "il_mode.head()"
   ]
  },
  {
   "cell_type": "code",
   "execution_count": 6,
   "id": "055f573b",
   "metadata": {},
   "outputs": [],
   "source": [
    "test_mode = pd.read_csv('elapass_il_17_21.csv').iloc[:, 1:].merge(il_mode, \n",
    "on = 'schoolcode')\n",
    "\n",
    "test_mode['countycode'] = test_mode['schoolcode'].apply(lambda x: x[:4]) + 'il'\n",
    "test_mode['districtcode'] = test_mode['schoolcode'].apply(lambda x: x[:-4]) + 'il'\n",
    "test_mode['state'] = 'il'\n",
    "\n",
    "test_mode.year = test_mode.year.astype('str')\n",
    "\n",
    "test_mode.loc[test_mode['year'] != '2021', ['hybridper', 'virtualper', 'schoolmode']] = 0\n",
    "test_mode.loc[test_mode['year'] != '2021', ['inpersonper']] = 1\n",
    "test_mode['year_21'] = 1\n",
    "test_mode.loc[test_mode['year'] != '2021', 'year_21'] = 0\n",
    "\n",
    "il = test_mode.rename(columns = {'schoolcode':'mergecode', 'totaltested':'totaltest',\n",
    "              'totalenrolled':'totalenroll'}).drop(columns = 'countycode')\n",
    "il['year'] = il['year'].map({2017:'17', 2018:'18', 2019:'19', 2021:'21'})\n",
    "il.set_index('year').to_csv('illinois_elapass.csv')"
   ]
  }
 ],
 "metadata": {
  "kernelspec": {
   "display_name": "Python 3 (ipykernel)",
   "language": "python",
   "name": "python3"
  },
  "language_info": {
   "codemirror_mode": {
    "name": "ipython",
    "version": 3
   },
   "file_extension": ".py",
   "mimetype": "text/x-python",
   "name": "python",
   "nbconvert_exporter": "python",
   "pygments_lexer": "ipython3",
   "version": "3.9.7"
  }
 },
 "nbformat": 4,
 "nbformat_minor": 5
}
