{
 "cells": [
  {
   "cell_type": "code",
   "execution_count": 9,
   "id": "5a773d1c",
   "metadata": {},
   "outputs": [],
   "source": [
    "import pandas as pd"
   ]
  },
  {
   "cell_type": "markdown",
   "id": "92242183",
   "metadata": {},
   "source": [
    "# Data: https://www.in.gov/doe/it/data-center-and-reports/"
   ]
  },
  {
   "cell_type": "code",
   "execution_count": 10,
   "id": "e2595d17",
   "metadata": {},
   "outputs": [],
   "source": [
    "year = ['17', '18', '19', '21']"
   ]
  },
  {
   "cell_type": "code",
   "execution_count": 11,
   "id": "ac350ea7",
   "metadata": {},
   "outputs": [],
   "source": [
    "def enrollment_clean(x, year):\n",
    "    data = pd.read_csv(x).rename(columns = {'Corp ID':'districtcode', 'Schl ID':'schoolcode',\n",
    "                                           'Grand Total':'totalenroll'}).fillna(0)\n",
    "    data.loc[:, ['districtcode', 'schoolcode']] = data.loc[:, ['districtcode', \n",
    "                                                               'schoolcode']].astype('str')\n",
    "    data['mergecode'] = data['districtcode'] + '-' + data['schoolcode']\n",
    "    data.loc[:, ['Black', 'Hispanic', 'White', 'Free/Reduced price meals', \n",
    "                 'totalenroll']] = data.loc[:, ['Black', 'Hispanic', \n",
    "                 'White', 'Free/Reduced price meals', 'totalenroll']].astype('int')\n",
    "    data['white'] = round((data['White'] / data['totalenroll']) * 100, 2)\n",
    "    data['black'] = round((data['Black'] / data['totalenroll']) * 100, 2)\n",
    "    data['hispanic'] = round((data['Hispanic'] / data['totalenroll']) * 100, 2)\n",
    "    data['lowincome'] = round((data['Free/Reduced price meals'] / data['totalenroll']) * 100, 2)\n",
    "    data['year'] = year\n",
    "    data.loc[:, ['year', 'mergecode', 'districtcode', 'white', 'black', 'hispanic', \n",
    "                 'lowincome', 'totalenroll']].set_index('year').to_csv(f'enrollment_clean_{year}.csv')"
   ]
  },
  {
   "cell_type": "code",
   "execution_count": 12,
   "id": "100d247d",
   "metadata": {},
   "outputs": [],
   "source": [
    "for i in year:\n",
    "    enrollment_clean(f'enrollment{i}.csv', i)"
   ]
  },
  {
   "cell_type": "code",
   "execution_count": 13,
   "id": "413c10ec",
   "metadata": {},
   "outputs": [],
   "source": [
    "data21 = set(list(pd.read_csv('enrollment_clean_21.csv').mergecode))\n",
    "data19 = set(list(pd.read_csv('enrollment_clean_19.csv').mergecode))\n",
    "data18 = set(list(pd.read_csv('enrollment_clean_18.csv').mergecode))\n",
    "data17 = set(list(pd.read_csv('enrollment_clean_17.csv').mergecode))\n",
    "mutual_code = list(data21.intersection(data19).intersection(data18).intersection(data17))"
   ]
  },
  {
   "cell_type": "code",
   "execution_count": 14,
   "id": "f5eb7961",
   "metadata": {},
   "outputs": [],
   "source": [
    "all_data_enroll = pd.DataFrame()\n",
    "for i in year:\n",
    "    data = pd.read_csv(f'enrollment_clean_{i}.csv')\n",
    "    data = data.loc[data['mergecode'].isin(mutual_code)]\n",
    "    all_data_enroll = pd.concat([all_data_enroll, data])"
   ]
  },
  {
   "cell_type": "code",
   "execution_count": 15,
   "id": "89900a23",
   "metadata": {},
   "outputs": [],
   "source": [
    "def test_clean(x, year):\n",
    "    data = pd.read_csv(x).rename(columns = {'Corp ID':'districtcode', 'School ID':'schoolcode',\n",
    "                                           'ELA Percent Pass':'elapass', 'Math Percent Pass':'mathpass'})\n",
    "    data = data.loc[:, ['districtcode', 'schoolcode', 'Math Test N', 'ELA Test N', 'elapass',\n",
    "                       'mathpass']].dropna()\n",
    "    data['districtcode'] = data['districtcode'].astype('int').astype('str')\n",
    "    data['schoolcode'] = data['schoolcode'].astype('str')\n",
    "    data['mergecode'] = data['districtcode'] + '-' + data['schoolcode']\n",
    "    data['year'] = year\n",
    "    math = data.loc[:, ['year', 'mergecode', 'Math Test N', 'mathpass']].rename(columns = {'Math Test N':\n",
    "                                                                                          'totaltest'})\n",
    "    math = math[((math['totaltest']!= '***') & (math['mathpass']!='***'))]\n",
    "    ela = data.loc[:, ['year', 'mergecode', 'ELA Test N', 'elapass']].rename(columns = {'ELA Test N':\n",
    "                                                                                          'totaltest'})\n",
    "    ela = ela[((ela['totaltest']!= '***') & (ela['elapass']!='***'))]\n",
    "    math['totaltest'] = math['totaltest'].astype('int')\n",
    "    ela['totaltest'] = ela['totaltest'].astype('int')\n",
    "    math['mathpass'] = round((math['mathpass'].astype('float') * 100), 2)\n",
    "    ela['elapass'] = round((ela['elapass'].astype('float') * 100), 2)\n",
    "    math.set_index('year').to_csv(f'math_clean_{year}.csv')\n",
    "    ela.set_index('year').to_csv(f'ela_clean_{year}.csv')"
   ]
  },
  {
   "cell_type": "code",
   "execution_count": 16,
   "id": "a1813fdc",
   "metadata": {},
   "outputs": [],
   "source": [
    "for i in year:\n",
    "    test_clean(f'test{i}.csv', i)"
   ]
  },
  {
   "cell_type": "code",
   "execution_count": 17,
   "id": "33b26dcf",
   "metadata": {},
   "outputs": [],
   "source": [
    "data21 = set(list(pd.read_csv('ela_clean_21.csv').mergecode))\n",
    "data19 = set(list(pd.read_csv('ela_clean_19.csv').mergecode))\n",
    "data18 = set(list(pd.read_csv('ela_clean_18.csv').mergecode))\n",
    "data17 = set(list(pd.read_csv('ela_clean_17.csv').mergecode))\n",
    "mutual_code = list(data21.intersection(data19).intersection(data18).intersection(data17))"
   ]
  },
  {
   "cell_type": "code",
   "execution_count": 18,
   "id": "ef868e27",
   "metadata": {},
   "outputs": [],
   "source": [
    "all_data_ela = pd.DataFrame()\n",
    "for i in year:\n",
    "    data = pd.read_csv(f'ela_clean_{i}.csv')\n",
    "    data = data.loc[data['mergecode'].isin(mutual_code)]\n",
    "    all_data_ela = pd.concat([all_data_ela, data])"
   ]
  },
  {
   "cell_type": "code",
   "execution_count": 19,
   "id": "ff5a75ff",
   "metadata": {},
   "outputs": [],
   "source": [
    "data21 = set(list(pd.read_csv('math_clean_21.csv').mergecode))\n",
    "data19 = set(list(pd.read_csv('math_clean_19.csv').mergecode))\n",
    "data18 = set(list(pd.read_csv('math_clean_18.csv').mergecode))\n",
    "data17 = set(list(pd.read_csv('math_clean_17.csv').mergecode))\n",
    "mutual_code = list(data21.intersection(data19).intersection(data18).intersection(data17))"
   ]
  },
  {
   "cell_type": "code",
   "execution_count": 20,
   "id": "6c4b40e0",
   "metadata": {},
   "outputs": [],
   "source": [
    "all_data_math = pd.DataFrame()\n",
    "for i in year:\n",
    "    data = pd.read_csv(f'math_clean_{i}.csv')\n",
    "    data = data.loc[data['mergecode'].isin(mutual_code)]\n",
    "    all_data_math = pd.concat([all_data_math, data])"
   ]
  },
  {
   "cell_type": "code",
   "execution_count": 21,
   "id": "c6ca9d61",
   "metadata": {},
   "outputs": [],
   "source": [
    "all_data_ela = all_data_ela.merge(all_data_math[['year', 'mergecode']], on = ['year', 'mergecode'])"
   ]
  },
  {
   "cell_type": "code",
   "execution_count": 22,
   "id": "3a331caf",
   "metadata": {},
   "outputs": [],
   "source": [
    "mode = pd.read_csv('learning_mode.csv').rename(columns = {\n",
    "    'StateAssignedSchoolID':'schoolcode', 'StateAssignedDistrictID':'districtcode'\n",
    "})\n",
    "\n",
    "mode.loc[:, ['schoolcode', 'districtcode']] = mode.loc[:, \n",
    "            ['schoolcode', 'districtcode']].astype('int').astype('str')\n",
    "\n",
    "mode['mergecode'] = mode['districtcode'] + '-' + mode['schoolcode']\n",
    "\n",
    "mode = mode[mode['LearningModel']!='Closed']\n",
    "\n",
    "charter = mode.loc[:, ['mergecode', 'Charter']].drop_duplicates().rename(\n",
    "    columns = {'Charter':'charter'})\n",
    "charter_map = {'No':0, 'Yes':1}\n",
    "charter['charter'] = charter['charter'].map(charter_map)\n",
    "\n",
    "mode = mode.groupby(['mergecode', 'NCESSchoolID'])['LearningModel'].value_counts(\n",
    "    normalize = True).to_frame().rename(columns = {'LearningModel':'normalized'}).reset_index()\n",
    "\n",
    "mode = mode.pivot(columns = 'LearningModel', values = 'normalized', \n",
    "index = ['mergecode', 'NCESSchoolID']).reset_index().fillna(0).loc[:, ['mergecode', 'NCESSchoolID',\n",
    "                                                               'Hybrid', 'Virtual', 'In-person']].rename(\n",
    "columns = {'Hybrid':'hybridper', 'Virtual':'virtualper', 'In-person':'inpersonper'})\n",
    "\n",
    "mode['schoolmode'] = 1 * mode['virtualper'] + 0.5 * mode['hybridper']\n",
    "\n",
    "mode.loc[:, ['hybridper', 'virtualper', 'inpersonper', 'schoolmode']] = round(\n",
    "    mode.loc[:, ['hybridper', 'virtualper', 'inpersonper', 'schoolmode']], 2)\n",
    "\n",
    "mode['NCESSchoolID'] = mode['NCESSchoolID'].astype('str')\n"
   ]
  },
  {
   "cell_type": "code",
   "execution_count": 23,
   "id": "c28418f2",
   "metadata": {},
   "outputs": [],
   "source": [
    "math = all_data_math.merge(mode, on='mergecode').merge(charter, on='mergecode').merge(\n",
    "    all_data_enroll, on=['year', 'mergecode'])\n",
    "math.loc[math['year'] != 21, ['virtualper', 'hybridper', 'schoolmode']] = 0\n",
    "math.loc[math['year'] != 21, ['inpersonper']] = 1\n",
    "math['year_21'] = 1\n",
    "math.loc[math['year'] != 21, ['year_21']] = 0\n",
    "math.loc[:, ['year', 'districtcode']] = math.loc[:, ['year', 'districtcode']].astype('str')\n",
    "math['charter'] = math['charter'].astype('int')\n",
    "math['state'] = 'indiana'\n",
    "math['mergecode'] = math['mergecode'] + math['state']\n",
    "math['districtcode'] = math['districtcode'] + math['state']\n",
    "math.set_index('year').to_csv('indiana_mathpass.csv')"
   ]
  },
  {
   "cell_type": "code",
   "execution_count": 24,
   "id": "23175082",
   "metadata": {},
   "outputs": [],
   "source": [
    "ela = all_data_ela.merge(all_data_math.loc[:, ['year', 'mergecode']], \n",
    "    on = ['year', 'mergecode']).merge(mode, on='mergecode').merge(charter, on='mergecode').merge(\n",
    "    all_data_enroll, on=['year', 'mergecode'])\n",
    "ela.loc[ela['year'] != 21, ['virtualper', 'hybridper', 'schoolmode']] = 0\n",
    "ela.loc[ela['year'] != 21, ['inpersonper']] = 1\n",
    "ela['year_21'] = 1\n",
    "ela.loc[ela['year'] != 21, ['year_21']] = 0\n",
    "ela.loc[:, ['year', 'districtcode']] = ela.loc[:, ['year', 'districtcode']].astype('str')\n",
    "ela['charter'] = ela['charter'].astype('int')\n",
    "ela['state'] = 'indiana'\n",
    "ela['mergecode'] = ela['mergecode'] + ela['state']\n",
    "ela['districtcode'] = ela['districtcode'] + ela['state']\n",
    "ela.set_index('year').to_csv('indiana_elapass.csv')"
   ]
  }
 ],
 "metadata": {
  "kernelspec": {
   "display_name": "Python 3 (ipykernel)",
   "language": "python",
   "name": "python3"
  },
  "language_info": {
   "codemirror_mode": {
    "name": "ipython",
    "version": 3
   },
   "file_extension": ".py",
   "mimetype": "text/x-python",
   "name": "python",
   "nbconvert_exporter": "python",
   "pygments_lexer": "ipython3",
   "version": "3.9.7"
  }
 },
 "nbformat": 4,
 "nbformat_minor": 5
}
