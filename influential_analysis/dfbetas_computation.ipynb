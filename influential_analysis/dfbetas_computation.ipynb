{
  "cells": [
    {
      "cell_type": "code",
      "execution_count": 3,
      "metadata": {
        "colab": {
          "base_uri": "https://localhost:8080/"
        },
        "id": "Ixrkov_GITrG",
        "outputId": "ca772a51-c718-41bb-d698-ff5c6770f5bb"
      },
      "outputs": [
        {
          "output_type": "stream",
          "name": "stdout",
          "text": [
            "Collecting linearmodels\n",
            "  Downloading linearmodels-6.0-cp310-cp310-manylinux_2_17_x86_64.manylinux2014_x86_64.whl (1.5 MB)\n",
            "\u001b[2K     \u001b[90m━━━━━━━━━━━━━━━━━━━━━━━━━━━━━━━━━━━━━━━━\u001b[0m \u001b[32m1.5/1.5 MB\u001b[0m \u001b[31m5.0 MB/s\u001b[0m eta \u001b[36m0:00:00\u001b[0m\n",
            "\u001b[?25hRequirement already satisfied: numpy<3,>=1.22.3 in /usr/local/lib/python3.10/dist-packages (from linearmodels) (1.25.2)\n",
            "Requirement already satisfied: pandas>=1.4.0 in /usr/local/lib/python3.10/dist-packages (from linearmodels) (2.0.3)\n",
            "Requirement already satisfied: scipy>=1.8.0 in /usr/local/lib/python3.10/dist-packages (from linearmodels) (1.11.4)\n",
            "Requirement already satisfied: statsmodels>=0.13.0 in /usr/local/lib/python3.10/dist-packages (from linearmodels) (0.14.2)\n",
            "Collecting mypy-extensions>=0.4 (from linearmodels)\n",
            "  Downloading mypy_extensions-1.0.0-py3-none-any.whl (4.7 kB)\n",
            "Requirement already satisfied: Cython>=3.0.10 in /usr/local/lib/python3.10/dist-packages (from linearmodels) (3.0.10)\n",
            "Collecting pyhdfe>=0.1 (from linearmodels)\n",
            "  Downloading pyhdfe-0.2.0-py3-none-any.whl (19 kB)\n",
            "Collecting formulaic>=1.0.0 (from linearmodels)\n",
            "  Downloading formulaic-1.0.1-py3-none-any.whl (94 kB)\n",
            "\u001b[2K     \u001b[90m━━━━━━━━━━━━━━━━━━━━━━━━━━━━━━━━━━━━━━━━\u001b[0m \u001b[32m94.2/94.2 kB\u001b[0m \u001b[31m6.0 MB/s\u001b[0m eta \u001b[36m0:00:00\u001b[0m\n",
            "\u001b[?25hCollecting setuptools-scm[toml]<9.0.0,>=8.0.0 (from linearmodels)\n",
            "  Downloading setuptools_scm-8.0.4-py3-none-any.whl (42 kB)\n",
            "\u001b[2K     \u001b[90m━━━━━━━━━━━━━━━━━━━━━━━━━━━━━━━━━━━━━━━━\u001b[0m \u001b[32m42.1/42.1 kB\u001b[0m \u001b[31m2.2 MB/s\u001b[0m eta \u001b[36m0:00:00\u001b[0m\n",
            "\u001b[?25hCollecting interface-meta>=1.2.0 (from formulaic>=1.0.0->linearmodels)\n",
            "  Downloading interface_meta-1.3.0-py3-none-any.whl (14 kB)\n",
            "Requirement already satisfied: typing-extensions>=4.2.0 in /usr/local/lib/python3.10/dist-packages (from formulaic>=1.0.0->linearmodels) (4.11.0)\n",
            "Requirement already satisfied: wrapt>=1.0 in /usr/local/lib/python3.10/dist-packages (from formulaic>=1.0.0->linearmodels) (1.14.1)\n",
            "Requirement already satisfied: python-dateutil>=2.8.2 in /usr/local/lib/python3.10/dist-packages (from pandas>=1.4.0->linearmodels) (2.8.2)\n",
            "Requirement already satisfied: pytz>=2020.1 in /usr/local/lib/python3.10/dist-packages (from pandas>=1.4.0->linearmodels) (2023.4)\n",
            "Requirement already satisfied: tzdata>=2022.1 in /usr/local/lib/python3.10/dist-packages (from pandas>=1.4.0->linearmodels) (2024.1)\n",
            "Requirement already satisfied: packaging>=20 in /usr/local/lib/python3.10/dist-packages (from setuptools-scm[toml]<9.0.0,>=8.0.0->linearmodels) (24.0)\n",
            "Requirement already satisfied: setuptools in /usr/local/lib/python3.10/dist-packages (from setuptools-scm[toml]<9.0.0,>=8.0.0->linearmodels) (67.7.2)\n",
            "Requirement already satisfied: tomli>=1 in /usr/local/lib/python3.10/dist-packages (from setuptools-scm[toml]<9.0.0,>=8.0.0->linearmodels) (2.0.1)\n",
            "Requirement already satisfied: patsy>=0.5.6 in /usr/local/lib/python3.10/dist-packages (from statsmodels>=0.13.0->linearmodels) (0.5.6)\n",
            "Requirement already satisfied: six in /usr/local/lib/python3.10/dist-packages (from patsy>=0.5.6->statsmodels>=0.13.0->linearmodels) (1.16.0)\n",
            "Installing collected packages: setuptools-scm, mypy-extensions, interface-meta, pyhdfe, formulaic, linearmodels\n",
            "Successfully installed formulaic-1.0.1 interface-meta-1.3.0 linearmodels-6.0 mypy-extensions-1.0.0 pyhdfe-0.2.0 setuptools-scm-8.0.4\n"
          ]
        }
      ],
      "source": [
        "!pip install linearmodels\n",
        "import pandas as pd\n",
        "import numpy as np\n",
        "import seaborn as sns\n",
        "import matplotlib.pyplot as plt\n",
        "import statsmodels.api as sm\n",
        "import statsmodels.stats.api as sms\n",
        "from sklearn.metrics import mean_squared_error\n",
        "from scipy import stats\n",
        "from linearmodels.panel import PanelOLS, RandomEffects\n",
        "from scipy.stats import chi2\n",
        "from statsmodels.stats.outliers_influence import variance_inflation_factor\n",
        "from statsmodels.stats.diagnostic import het_breuschpagan\n",
        "from google.colab import files"
      ]
    },
    {
      "cell_type": "code",
      "source": [
        "def dfbetas(y, X, w, coef_index, ckk):\n",
        "    fe = PanelOLS(y, X, weights = w, entity_effects = True, time_effects = True).fit()\n",
        "    og_params = fe.params[coef_index]\n",
        "    dfbetas = [None] * X.shape[0]\n",
        "\n",
        "    for i in X.index:\n",
        "        X_removed = X.drop(i)\n",
        "        y_removed = y.drop(i)\n",
        "        w_removed = w.drop(i)\n",
        "\n",
        "        model_removed = PanelOLS(y_removed, X_removed, weights = w_removed,\n",
        "                                 entity_effects = True, time_effects = True).fit()\n",
        "        new_params = model_removed.params[coef_index]\n",
        "        diff = og_params - new_params\n",
        "        mse_removed = mean_squared_error(y_removed, model_removed.predict().fitted_values)\n",
        "        loc = X.index.get_loc(i)\n",
        "        dfbetas[loc] = (diff / np.sqrt(mse_removed * ckk))\n",
        "    return dfbetas"
      ],
      "metadata": {
        "id": "0ZDJe_uuOSQa"
      },
      "execution_count": 4,
      "outputs": []
    },
    {
      "cell_type": "markdown",
      "source": [
        "# Before Removal"
      ],
      "metadata": {
        "id": "pVnIuK2oPqWP"
      }
    },
    {
      "cell_type": "markdown",
      "source": [
        "# Math Proficiency Rate"
      ],
      "metadata": {
        "id": "k80s_dX-vInN"
      }
    },
    {
      "cell_type": "code",
      "execution_count": 10,
      "metadata": {
        "id": "4W9WluPFKL_c"
      },
      "outputs": [],
      "source": [
        "# compute C_kk\n",
        "in_math = pd.read_csv('indiana_mathpass.csv')\n",
        "il = pd.read_csv('illinois_all.csv')\n",
        "wi = pd.read_csv('wisconsin_all.csv')\n",
        "data = pd.concat([in_math, il, wi]).loc[:, ['year', 'mergecode', 'state', 'totaltest', 'mathpass',\n",
        "                                            'virtualper', 'hybridper', 'black', 'hispanic',\n",
        "                                            'white', 'lowincome']].reset_index().drop(columns = 'index')\n",
        "data['year'] = data['year'].astype('str')\n",
        "data['black_virtual'] = data['black'] * data['virtualper']\n",
        "data['black_hybrid'] = data['black'] * data['hybridper']\n",
        "data['hispanic_virtual'] = data['hispanic'] * data['virtualper']\n",
        "data['hispanic_hybrid'] = data['hispanic'] * data['hybridper']\n",
        "data['lowincome_virtual'] = data['lowincome'] * data['virtualper']\n",
        "data['lowincome_hybrid'] = data['lowincome'] * data['hybridper']\n",
        "\n",
        "dummy_variables = pd.get_dummies(data[['mergecode', 'year', 'state']], drop_first = True, dtype = 'int')\n",
        "data = pd.concat([data, dummy_variables], axis=1).drop(columns = ['year', 'mergecode', 'state'])\n",
        "\n",
        "data['in_virtual'] = data['state_indiana'] * data['virtualper']\n",
        "data['wi_virtual'] = data['state_wisconsin'] * data['virtualper']\n",
        "data['in_hybrid'] = data['state_indiana'] * data['hybridper']\n",
        "data['wi_hybrid'] = data['state_wisconsin'] * data['hybridper']\n",
        "\n",
        "exog = sm.add_constant(data.drop(columns = ['mathpass', 'totaltest', 'state_indiana', 'state_wisconsin']))\n",
        "\n",
        "XtX_inv = np.linalg.inv(np.dot(exog.T, exog))\n",
        "ckk = np.diag(XtX_inv)\n",
        "\n",
        "# critical value\n",
        "critical_val = 2 / np.sqrt(data.shape[0])"
      ]
    },
    {
      "cell_type": "code",
      "execution_count": 13,
      "metadata": {
        "id": "AOY0SsIJbcQZ"
      },
      "outputs": [],
      "source": [
        "in_math = pd.read_csv('indiana_mathpass.csv')\n",
        "il = pd.read_csv('illinois_all.csv')\n",
        "wi = pd.read_csv('wisconsin_all.csv')\n",
        "data = pd.concat([in_math, il, wi]).loc[:, ['year', 'mergecode', 'state', 'totaltest', 'mathpass',\n",
        "                                            'virtualper', 'hybridper', 'black', 'hispanic',\n",
        "                                            'white', 'lowincome']].reset_index().drop(columns = 'index')\n",
        "\n",
        "dummy_variables = pd.get_dummies(data[['state']], drop_first = True, dtype = 'int')\n",
        "data = pd.concat([data, dummy_variables], axis=1).drop(columns = ['state'])\n",
        "data['in_virtual'] = data['state_indiana'] * data['virtualper']\n",
        "data['wi_virtual'] = data['state_wisconsin'] * data['virtualper']\n",
        "data['in_hybrid'] = data['state_indiana'] * data['hybridper']\n",
        "data['wi_hybrid'] = data['state_wisconsin'] * data['hybridper']\n",
        "\n",
        "data['year'] = pd.to_datetime(data['year'], format='%y')\n",
        "data = data.drop(columns = ['state_indiana', 'state_wisconsin']).set_index(['mergecode', 'year'])\n",
        "\n",
        "data['black_virtual'] = data['black'] * data['virtualper']\n",
        "data['black_hybrid'] = data['black'] * data['hybridper']\n",
        "data['hispanic_virtual'] = data['hispanic'] * data['virtualper']\n",
        "data['hispanic_hybrid'] = data['hispanic'] * data['hybridper']\n",
        "data['lowincome_virtual'] = data['lowincome'] * data['virtualper']\n",
        "data['lowincome_hybrid'] = data['lowincome'] * data['hybridper']\n",
        "\n",
        "exog = data.drop(columns = ['totaltest', 'mathpass'])\n",
        "exog = sm.add_constant(exog)"
      ]
    },
    {
      "cell_type": "code",
      "source": [
        "virtualper_inf = dfbetas(data.mathpass, exog, data.totaltest, 1, ckk = ckk[1])\n",
        "df = pd.DataFrame()\n",
        "df['mathpass_virtualper_inf'] = virtualper_inf\n",
        "df.to_csv('mathpass_virtualper_influence.csv')\n",
        "files.download(f\"./mathpass_virtualper_influence.csv\")"
      ],
      "metadata": {
        "id": "nt-XbEwJuhRA"
      },
      "execution_count": null,
      "outputs": []
    },
    {
      "cell_type": "code",
      "execution_count": null,
      "metadata": {
        "colab": {
          "base_uri": "https://localhost:8080/",
          "height": 17
        },
        "id": "5j2akB5vcdn2",
        "outputId": "4ddd754a-3480-4f59-e600-e4c70a5b8451"
      },
      "outputs": [
        {
          "data": {
            "application/javascript": [
              "\n",
              "    async function download(id, filename, size) {\n",
              "      if (!google.colab.kernel.accessAllowed) {\n",
              "        return;\n",
              "      }\n",
              "      const div = document.createElement('div');\n",
              "      const label = document.createElement('label');\n",
              "      label.textContent = `Downloading \"${filename}\": `;\n",
              "      div.appendChild(label);\n",
              "      const progress = document.createElement('progress');\n",
              "      progress.max = size;\n",
              "      div.appendChild(progress);\n",
              "      document.body.appendChild(div);\n",
              "\n",
              "      const buffers = [];\n",
              "      let downloaded = 0;\n",
              "\n",
              "      const channel = await google.colab.kernel.comms.open(id);\n",
              "      // Send a message to notify the kernel that we're ready.\n",
              "      channel.send({})\n",
              "\n",
              "      for await (const message of channel.messages) {\n",
              "        // Send a message to notify the kernel that we're ready.\n",
              "        channel.send({})\n",
              "        if (message.buffers) {\n",
              "          for (const buffer of message.buffers) {\n",
              "            buffers.push(buffer);\n",
              "            downloaded += buffer.byteLength;\n",
              "            progress.value = downloaded;\n",
              "          }\n",
              "        }\n",
              "      }\n",
              "      const blob = new Blob(buffers, {type: 'application/binary'});\n",
              "      const a = document.createElement('a');\n",
              "      a.href = window.URL.createObjectURL(blob);\n",
              "      a.download = filename;\n",
              "      div.appendChild(a);\n",
              "      a.click();\n",
              "      div.remove();\n",
              "    }\n",
              "  "
            ],
            "text/plain": [
              "<IPython.core.display.Javascript object>"
            ]
          },
          "metadata": {},
          "output_type": "display_data"
        },
        {
          "data": {
            "application/javascript": [
              "download(\"download_95431d37-aa68-48e4-afb3-0ca681da02c1\", \"mathpass_hybridper_influence.csv\", 156043)"
            ],
            "text/plain": [
              "<IPython.core.display.Javascript object>"
            ]
          },
          "metadata": {},
          "output_type": "display_data"
        }
      ],
      "source": [
        "hybridper_inf = dfbetas(data.mathpass, exog, data.totaltest, 2, ckk = ckk[2])\n",
        "df = pd.DataFrame()\n",
        "df['mathpass_hybridper_inf'] = hybridper_inf\n",
        "df.to_csv('mathpass_hybridper_influence.csv')\n",
        "files.download(f\"./mathpass_hybridper_influence.csv\")"
      ]
    },
    {
      "cell_type": "code",
      "execution_count": null,
      "metadata": {
        "colab": {
          "base_uri": "https://localhost:8080/",
          "height": 17
        },
        "id": "gR1b0Lct8O5N",
        "outputId": "c140a3d5-b109-455b-80a6-f11803d7cb2a"
      },
      "outputs": [
        {
          "data": {
            "application/javascript": [
              "\n",
              "    async function download(id, filename, size) {\n",
              "      if (!google.colab.kernel.accessAllowed) {\n",
              "        return;\n",
              "      }\n",
              "      const div = document.createElement('div');\n",
              "      const label = document.createElement('label');\n",
              "      label.textContent = `Downloading \"${filename}\": `;\n",
              "      div.appendChild(label);\n",
              "      const progress = document.createElement('progress');\n",
              "      progress.max = size;\n",
              "      div.appendChild(progress);\n",
              "      document.body.appendChild(div);\n",
              "\n",
              "      const buffers = [];\n",
              "      let downloaded = 0;\n",
              "\n",
              "      const channel = await google.colab.kernel.comms.open(id);\n",
              "      // Send a message to notify the kernel that we're ready.\n",
              "      channel.send({})\n",
              "\n",
              "      for await (const message of channel.messages) {\n",
              "        // Send a message to notify the kernel that we're ready.\n",
              "        channel.send({})\n",
              "        if (message.buffers) {\n",
              "          for (const buffer of message.buffers) {\n",
              "            buffers.push(buffer);\n",
              "            downloaded += buffer.byteLength;\n",
              "            progress.value = downloaded;\n",
              "          }\n",
              "        }\n",
              "      }\n",
              "      const blob = new Blob(buffers, {type: 'application/binary'});\n",
              "      const a = document.createElement('a');\n",
              "      a.href = window.URL.createObjectURL(blob);\n",
              "      a.download = filename;\n",
              "      div.appendChild(a);\n",
              "      a.click();\n",
              "      div.remove();\n",
              "    }\n",
              "  "
            ],
            "text/plain": [
              "<IPython.core.display.Javascript object>"
            ]
          },
          "metadata": {},
          "output_type": "display_data"
        },
        {
          "data": {
            "application/javascript": [
              "download(\"download_5ea00c8f-8bd8-4fb0-a6c3-00467d2966d0\", \"mathpass_in_virtualper_influence.csv\", 156986)"
            ],
            "text/plain": [
              "<IPython.core.display.Javascript object>"
            ]
          },
          "metadata": {},
          "output_type": "display_data"
        }
      ],
      "source": [
        "in_virtualper_inf = dfbetas(data.mathpass, exog, data.totaltest, 7, ckk = ckk[1446])\n",
        "df = pd.DataFrame()\n",
        "df['mathpass_in_virtualper_inf'] = in_virtualper_inf\n",
        "files.download(f\"./mathpass_in_virtualper_influence.csv\")"
      ]
    },
    {
      "cell_type": "code",
      "execution_count": null,
      "metadata": {
        "colab": {
          "base_uri": "https://localhost:8080/",
          "height": 17
        },
        "id": "C7zcte7x8O-F",
        "outputId": "b3d40eb5-9ef9-4d4f-bb34-b8294219bda6"
      },
      "outputs": [
        {
          "data": {
            "application/javascript": [
              "\n",
              "    async function download(id, filename, size) {\n",
              "      if (!google.colab.kernel.accessAllowed) {\n",
              "        return;\n",
              "      }\n",
              "      const div = document.createElement('div');\n",
              "      const label = document.createElement('label');\n",
              "      label.textContent = `Downloading \"${filename}\": `;\n",
              "      div.appendChild(label);\n",
              "      const progress = document.createElement('progress');\n",
              "      progress.max = size;\n",
              "      div.appendChild(progress);\n",
              "      document.body.appendChild(div);\n",
              "\n",
              "      const buffers = [];\n",
              "      let downloaded = 0;\n",
              "\n",
              "      const channel = await google.colab.kernel.comms.open(id);\n",
              "      // Send a message to notify the kernel that we're ready.\n",
              "      channel.send({})\n",
              "\n",
              "      for await (const message of channel.messages) {\n",
              "        // Send a message to notify the kernel that we're ready.\n",
              "        channel.send({})\n",
              "        if (message.buffers) {\n",
              "          for (const buffer of message.buffers) {\n",
              "            buffers.push(buffer);\n",
              "            downloaded += buffer.byteLength;\n",
              "            progress.value = downloaded;\n",
              "          }\n",
              "        }\n",
              "      }\n",
              "      const blob = new Blob(buffers, {type: 'application/binary'});\n",
              "      const a = document.createElement('a');\n",
              "      a.href = window.URL.createObjectURL(blob);\n",
              "      a.download = filename;\n",
              "      div.appendChild(a);\n",
              "      a.click();\n",
              "      div.remove();\n",
              "    }\n",
              "  "
            ],
            "text/plain": [
              "<IPython.core.display.Javascript object>"
            ]
          },
          "metadata": {},
          "output_type": "display_data"
        },
        {
          "data": {
            "application/javascript": [
              "download(\"download_26711d9d-9b62-4d1a-abf6-fe1209713423\", \"mathpass_wi_virtualper_influence.csv\", 156616)"
            ],
            "text/plain": [
              "<IPython.core.display.Javascript object>"
            ]
          },
          "metadata": {},
          "output_type": "display_data"
        }
      ],
      "source": [
        "wi_virtualper_inf = dfbetas(data.mathpass, exog, data.totaltest, 8, ckk = ckk[1447])\n",
        "df = pd.DataFrame()\n",
        "df['mathpass_wi_virtualper_inf'] = wi_virtualper_inf\n",
        "df.to_csv('mathpass_wi_virtualper_influence.csv')\n",
        "files.download(f\"./mathpass_wi_virtualper_influence.csv\")"
      ]
    },
    {
      "cell_type": "code",
      "execution_count": null,
      "metadata": {
        "colab": {
          "base_uri": "https://localhost:8080/",
          "height": 17
        },
        "id": "w05TlMhn8PC3",
        "outputId": "aede18eb-8b0c-4786-cac1-3c8e041f03f7"
      },
      "outputs": [
        {
          "data": {
            "application/javascript": [
              "\n",
              "    async function download(id, filename, size) {\n",
              "      if (!google.colab.kernel.accessAllowed) {\n",
              "        return;\n",
              "      }\n",
              "      const div = document.createElement('div');\n",
              "      const label = document.createElement('label');\n",
              "      label.textContent = `Downloading \"${filename}\": `;\n",
              "      div.appendChild(label);\n",
              "      const progress = document.createElement('progress');\n",
              "      progress.max = size;\n",
              "      div.appendChild(progress);\n",
              "      document.body.appendChild(div);\n",
              "\n",
              "      const buffers = [];\n",
              "      let downloaded = 0;\n",
              "\n",
              "      const channel = await google.colab.kernel.comms.open(id);\n",
              "      // Send a message to notify the kernel that we're ready.\n",
              "      channel.send({})\n",
              "\n",
              "      for await (const message of channel.messages) {\n",
              "        // Send a message to notify the kernel that we're ready.\n",
              "        channel.send({})\n",
              "        if (message.buffers) {\n",
              "          for (const buffer of message.buffers) {\n",
              "            buffers.push(buffer);\n",
              "            downloaded += buffer.byteLength;\n",
              "            progress.value = downloaded;\n",
              "          }\n",
              "        }\n",
              "      }\n",
              "      const blob = new Blob(buffers, {type: 'application/binary'});\n",
              "      const a = document.createElement('a');\n",
              "      a.href = window.URL.createObjectURL(blob);\n",
              "      a.download = filename;\n",
              "      div.appendChild(a);\n",
              "      a.click();\n",
              "      div.remove();\n",
              "    }\n",
              "  "
            ],
            "text/plain": [
              "<IPython.core.display.Javascript object>"
            ]
          },
          "metadata": {},
          "output_type": "display_data"
        },
        {
          "data": {
            "application/javascript": [
              "download(\"download_694136b4-eab6-46be-9cff-dfaad0907f04\", \"mathpass_in_hybridper_influence.csv\", 157463)"
            ],
            "text/plain": [
              "<IPython.core.display.Javascript object>"
            ]
          },
          "metadata": {},
          "output_type": "display_data"
        }
      ],
      "source": [
        "in_hybridper_inf = dfbetas(data.mathpass, exog, data.totaltest, 9, ckk = ckk[1448])\n",
        "df = pd.DataFrame()\n",
        "df['mathpass_in_hybridper_inf'] = in_hybridper_inf\n",
        "df.to_csv('mathpass_in_hybridper_influence.csv')\n",
        "files.download(f\"./mathpass_in_hybridper_influence.csv\")"
      ]
    },
    {
      "cell_type": "code",
      "execution_count": null,
      "metadata": {
        "colab": {
          "base_uri": "https://localhost:8080/",
          "height": 17
        },
        "id": "0gO66eVP8PIC",
        "outputId": "e8408fd2-4f1f-432b-b0f0-d601a85caec3"
      },
      "outputs": [
        {
          "data": {
            "application/javascript": [
              "\n",
              "    async function download(id, filename, size) {\n",
              "      if (!google.colab.kernel.accessAllowed) {\n",
              "        return;\n",
              "      }\n",
              "      const div = document.createElement('div');\n",
              "      const label = document.createElement('label');\n",
              "      label.textContent = `Downloading \"${filename}\": `;\n",
              "      div.appendChild(label);\n",
              "      const progress = document.createElement('progress');\n",
              "      progress.max = size;\n",
              "      div.appendChild(progress);\n",
              "      document.body.appendChild(div);\n",
              "\n",
              "      const buffers = [];\n",
              "      let downloaded = 0;\n",
              "\n",
              "      const channel = await google.colab.kernel.comms.open(id);\n",
              "      // Send a message to notify the kernel that we're ready.\n",
              "      channel.send({})\n",
              "\n",
              "      for await (const message of channel.messages) {\n",
              "        // Send a message to notify the kernel that we're ready.\n",
              "        channel.send({})\n",
              "        if (message.buffers) {\n",
              "          for (const buffer of message.buffers) {\n",
              "            buffers.push(buffer);\n",
              "            downloaded += buffer.byteLength;\n",
              "            progress.value = downloaded;\n",
              "          }\n",
              "        }\n",
              "      }\n",
              "      const blob = new Blob(buffers, {type: 'application/binary'});\n",
              "      const a = document.createElement('a');\n",
              "      a.href = window.URL.createObjectURL(blob);\n",
              "      a.download = filename;\n",
              "      div.appendChild(a);\n",
              "      a.click();\n",
              "      div.remove();\n",
              "    }\n",
              "  "
            ],
            "text/plain": [
              "<IPython.core.display.Javascript object>"
            ]
          },
          "metadata": {},
          "output_type": "display_data"
        },
        {
          "data": {
            "application/javascript": [
              "download(\"download_4b43a941-3e73-448a-8082-9e9719d6b69d\", \"mathpass_wi_hybridper_influence.csv\", 156226)"
            ],
            "text/plain": [
              "<IPython.core.display.Javascript object>"
            ]
          },
          "metadata": {},
          "output_type": "display_data"
        }
      ],
      "source": [
        "wi_hybridper_inf = dfbetas(data.mathpass, exog, data.totaltest, 10, ckk = ckk[1449])\n",
        "df = pd.DataFrame()\n",
        "df['mathpass_wi_hybridper_inf'] = wi_hybridper_inf\n",
        "df.to_csv('mathpass_wi_hybridper_influence.csv')\n",
        "files.download(f\"./mathpass_wi_hybridper_influence.csv\")"
      ]
    },
    {
      "cell_type": "code",
      "execution_count": null,
      "metadata": {
        "colab": {
          "base_uri": "https://localhost:8080/",
          "height": 17
        },
        "id": "oP1I9xiq8PMZ",
        "outputId": "00ecc01a-8203-4885-aa4d-0eb0236245ff"
      },
      "outputs": [
        {
          "data": {
            "application/javascript": [
              "\n",
              "    async function download(id, filename, size) {\n",
              "      if (!google.colab.kernel.accessAllowed) {\n",
              "        return;\n",
              "      }\n",
              "      const div = document.createElement('div');\n",
              "      const label = document.createElement('label');\n",
              "      label.textContent = `Downloading \"${filename}\": `;\n",
              "      div.appendChild(label);\n",
              "      const progress = document.createElement('progress');\n",
              "      progress.max = size;\n",
              "      div.appendChild(progress);\n",
              "      document.body.appendChild(div);\n",
              "\n",
              "      const buffers = [];\n",
              "      let downloaded = 0;\n",
              "\n",
              "      const channel = await google.colab.kernel.comms.open(id);\n",
              "      // Send a message to notify the kernel that we're ready.\n",
              "      channel.send({})\n",
              "\n",
              "      for await (const message of channel.messages) {\n",
              "        // Send a message to notify the kernel that we're ready.\n",
              "        channel.send({})\n",
              "        if (message.buffers) {\n",
              "          for (const buffer of message.buffers) {\n",
              "            buffers.push(buffer);\n",
              "            downloaded += buffer.byteLength;\n",
              "            progress.value = downloaded;\n",
              "          }\n",
              "        }\n",
              "      }\n",
              "      const blob = new Blob(buffers, {type: 'application/binary'});\n",
              "      const a = document.createElement('a');\n",
              "      a.href = window.URL.createObjectURL(blob);\n",
              "      a.download = filename;\n",
              "      div.appendChild(a);\n",
              "      a.click();\n",
              "      div.remove();\n",
              "    }\n",
              "  "
            ],
            "text/plain": [
              "<IPython.core.display.Javascript object>"
            ]
          },
          "metadata": {},
          "output_type": "display_data"
        },
        {
          "data": {
            "application/javascript": [
              "download(\"download_035244a6-0008-41cb-a2cb-7a22db2614fc\", \"mathpass_black_virtualper_influence.csv\", 156671)"
            ],
            "text/plain": [
              "<IPython.core.display.Javascript object>"
            ]
          },
          "metadata": {},
          "output_type": "display_data"
        }
      ],
      "source": [
        "black_virtualper_inf = dfbetas(data.mathpass, exog, data.totaltest, 11, ckk = ckk[7])\n",
        "df = pd.DataFrame()\n",
        "df['mathpass_black_virtualper_inf'] = black_virtualper_inf\n",
        "df.to_csv('mathpass_black_virtualper_influence.csv')\n",
        "files.download(f\"./mathpass_black_virtualper_influence.csv\")"
      ]
    },
    {
      "cell_type": "code",
      "execution_count": null,
      "metadata": {
        "colab": {
          "base_uri": "https://localhost:8080/",
          "height": 17
        },
        "id": "XcHh1A58861u",
        "outputId": "3e56bdff-8ea3-487b-f22a-88e589cd76c1"
      },
      "outputs": [
        {
          "data": {
            "application/javascript": [
              "\n",
              "    async function download(id, filename, size) {\n",
              "      if (!google.colab.kernel.accessAllowed) {\n",
              "        return;\n",
              "      }\n",
              "      const div = document.createElement('div');\n",
              "      const label = document.createElement('label');\n",
              "      label.textContent = `Downloading \"${filename}\": `;\n",
              "      div.appendChild(label);\n",
              "      const progress = document.createElement('progress');\n",
              "      progress.max = size;\n",
              "      div.appendChild(progress);\n",
              "      document.body.appendChild(div);\n",
              "\n",
              "      const buffers = [];\n",
              "      let downloaded = 0;\n",
              "\n",
              "      const channel = await google.colab.kernel.comms.open(id);\n",
              "      // Send a message to notify the kernel that we're ready.\n",
              "      channel.send({})\n",
              "\n",
              "      for await (const message of channel.messages) {\n",
              "        // Send a message to notify the kernel that we're ready.\n",
              "        channel.send({})\n",
              "        if (message.buffers) {\n",
              "          for (const buffer of message.buffers) {\n",
              "            buffers.push(buffer);\n",
              "            downloaded += buffer.byteLength;\n",
              "            progress.value = downloaded;\n",
              "          }\n",
              "        }\n",
              "      }\n",
              "      const blob = new Blob(buffers, {type: 'application/binary'});\n",
              "      const a = document.createElement('a');\n",
              "      a.href = window.URL.createObjectURL(blob);\n",
              "      a.download = filename;\n",
              "      div.appendChild(a);\n",
              "      a.click();\n",
              "      div.remove();\n",
              "    }\n",
              "  "
            ],
            "text/plain": [
              "<IPython.core.display.Javascript object>"
            ]
          },
          "metadata": {},
          "output_type": "display_data"
        },
        {
          "data": {
            "application/javascript": [
              "download(\"download_ead249aa-238e-421b-8031-6c1908715243\", \"mathpass_black_hybridper_influence.csv\", 156686)"
            ],
            "text/plain": [
              "<IPython.core.display.Javascript object>"
            ]
          },
          "metadata": {},
          "output_type": "display_data"
        }
      ],
      "source": [
        "black_hybridper_inf = dfbetas(data.mathpass, exog, data.totaltest, 12, ckk = ckk[8])\n",
        "df = pd.DataFrame()\n",
        "df['mathpass_black_hybridper_inf'] = black_hybridper_inf\n",
        "df.to_csv('mathpass_black_hybridper_influence.csv')\n",
        "files.download(f\"./mathpass_black_hybridper_influence.csv\")"
      ]
    },
    {
      "cell_type": "code",
      "execution_count": null,
      "metadata": {
        "colab": {
          "base_uri": "https://localhost:8080/",
          "height": 17
        },
        "id": "bLW-LmwA867o",
        "outputId": "179c2610-eee1-4964-b53a-06c48697f2a2"
      },
      "outputs": [
        {
          "data": {
            "application/javascript": [
              "\n",
              "    async function download(id, filename, size) {\n",
              "      if (!google.colab.kernel.accessAllowed) {\n",
              "        return;\n",
              "      }\n",
              "      const div = document.createElement('div');\n",
              "      const label = document.createElement('label');\n",
              "      label.textContent = `Downloading \"${filename}\": `;\n",
              "      div.appendChild(label);\n",
              "      const progress = document.createElement('progress');\n",
              "      progress.max = size;\n",
              "      div.appendChild(progress);\n",
              "      document.body.appendChild(div);\n",
              "\n",
              "      const buffers = [];\n",
              "      let downloaded = 0;\n",
              "\n",
              "      const channel = await google.colab.kernel.comms.open(id);\n",
              "      // Send a message to notify the kernel that we're ready.\n",
              "      channel.send({})\n",
              "\n",
              "      for await (const message of channel.messages) {\n",
              "        // Send a message to notify the kernel that we're ready.\n",
              "        channel.send({})\n",
              "        if (message.buffers) {\n",
              "          for (const buffer of message.buffers) {\n",
              "            buffers.push(buffer);\n",
              "            downloaded += buffer.byteLength;\n",
              "            progress.value = downloaded;\n",
              "          }\n",
              "        }\n",
              "      }\n",
              "      const blob = new Blob(buffers, {type: 'application/binary'});\n",
              "      const a = document.createElement('a');\n",
              "      a.href = window.URL.createObjectURL(blob);\n",
              "      a.download = filename;\n",
              "      div.appendChild(a);\n",
              "      a.click();\n",
              "      div.remove();\n",
              "    }\n",
              "  "
            ],
            "text/plain": [
              "<IPython.core.display.Javascript object>"
            ]
          },
          "metadata": {},
          "output_type": "display_data"
        },
        {
          "data": {
            "application/javascript": [
              "download(\"download_4d3bc64a-c4cf-440a-9fed-4444f4436fa5\", \"mathpass_hispanic_virtualper_influence.csv\", 156500)"
            ],
            "text/plain": [
              "<IPython.core.display.Javascript object>"
            ]
          },
          "metadata": {},
          "output_type": "display_data"
        }
      ],
      "source": [
        "hispanic_virtualper_inf = dfbetas(data.mathpass, exog, data.totaltest, 13, ckk = ckk[9])\n",
        "df = pd.DataFrame()\n",
        "df['mathpass_hispanic_virtualper_inf'] = hispanic_virtualper_inf\n",
        "df.to_csv('mathpass_hispanic_virtualper_influence.csv')\n",
        "files.download(f\"./mathpass_hispanic_virtualper_influence.csv\")"
      ]
    },
    {
      "cell_type": "code",
      "execution_count": null,
      "metadata": {
        "colab": {
          "base_uri": "https://localhost:8080/",
          "height": 17
        },
        "id": "jOt1d7VFN1F4",
        "outputId": "cda572e4-caf5-497b-f079-198128550177"
      },
      "outputs": [
        {
          "data": {
            "application/javascript": [
              "\n",
              "    async function download(id, filename, size) {\n",
              "      if (!google.colab.kernel.accessAllowed) {\n",
              "        return;\n",
              "      }\n",
              "      const div = document.createElement('div');\n",
              "      const label = document.createElement('label');\n",
              "      label.textContent = `Downloading \"${filename}\": `;\n",
              "      div.appendChild(label);\n",
              "      const progress = document.createElement('progress');\n",
              "      progress.max = size;\n",
              "      div.appendChild(progress);\n",
              "      document.body.appendChild(div);\n",
              "\n",
              "      const buffers = [];\n",
              "      let downloaded = 0;\n",
              "\n",
              "      const channel = await google.colab.kernel.comms.open(id);\n",
              "      // Send a message to notify the kernel that we're ready.\n",
              "      channel.send({})\n",
              "\n",
              "      for await (const message of channel.messages) {\n",
              "        // Send a message to notify the kernel that we're ready.\n",
              "        channel.send({})\n",
              "        if (message.buffers) {\n",
              "          for (const buffer of message.buffers) {\n",
              "            buffers.push(buffer);\n",
              "            downloaded += buffer.byteLength;\n",
              "            progress.value = downloaded;\n",
              "          }\n",
              "        }\n",
              "      }\n",
              "      const blob = new Blob(buffers, {type: 'application/binary'});\n",
              "      const a = document.createElement('a');\n",
              "      a.href = window.URL.createObjectURL(blob);\n",
              "      a.download = filename;\n",
              "      div.appendChild(a);\n",
              "      a.click();\n",
              "      div.remove();\n",
              "    }\n",
              "  "
            ],
            "text/plain": [
              "<IPython.core.display.Javascript object>"
            ]
          },
          "metadata": {},
          "output_type": "display_data"
        },
        {
          "data": {
            "application/javascript": [
              "download(\"download_c90ebc37-ba7c-4181-a3d6-230a3cf5f084\", \"mathpass_hispanic_hybridper_influence.csv\", 156706)"
            ],
            "text/plain": [
              "<IPython.core.display.Javascript object>"
            ]
          },
          "metadata": {},
          "output_type": "display_data"
        }
      ],
      "source": [
        "hispanic_hybridper_inf = dfbetas(data.mathpass, exog, data.totaltest, 14, ckk = ckk[10])\n",
        "df = pd.DataFrame()\n",
        "df['mathpass_hispanic_hybridper_inf'] = hispanic_hybridper_inf\n",
        "df.to_csv('mathpass_hispanic_hybridper_influence.csv')\n",
        "files.download(f\"./mathpass_hispanic_hybridper_influence.csv\")"
      ]
    },
    {
      "cell_type": "code",
      "execution_count": null,
      "metadata": {
        "colab": {
          "base_uri": "https://localhost:8080/",
          "height": 17
        },
        "id": "nUkb7_GAN1UG",
        "outputId": "0f14d517-1d15-4113-e201-594f791dfe2b"
      },
      "outputs": [
        {
          "data": {
            "application/javascript": [
              "\n",
              "    async function download(id, filename, size) {\n",
              "      if (!google.colab.kernel.accessAllowed) {\n",
              "        return;\n",
              "      }\n",
              "      const div = document.createElement('div');\n",
              "      const label = document.createElement('label');\n",
              "      label.textContent = `Downloading \"${filename}\": `;\n",
              "      div.appendChild(label);\n",
              "      const progress = document.createElement('progress');\n",
              "      progress.max = size;\n",
              "      div.appendChild(progress);\n",
              "      document.body.appendChild(div);\n",
              "\n",
              "      const buffers = [];\n",
              "      let downloaded = 0;\n",
              "\n",
              "      const channel = await google.colab.kernel.comms.open(id);\n",
              "      // Send a message to notify the kernel that we're ready.\n",
              "      channel.send({})\n",
              "\n",
              "      for await (const message of channel.messages) {\n",
              "        // Send a message to notify the kernel that we're ready.\n",
              "        channel.send({})\n",
              "        if (message.buffers) {\n",
              "          for (const buffer of message.buffers) {\n",
              "            buffers.push(buffer);\n",
              "            downloaded += buffer.byteLength;\n",
              "            progress.value = downloaded;\n",
              "          }\n",
              "        }\n",
              "      }\n",
              "      const blob = new Blob(buffers, {type: 'application/binary'});\n",
              "      const a = document.createElement('a');\n",
              "      a.href = window.URL.createObjectURL(blob);\n",
              "      a.download = filename;\n",
              "      div.appendChild(a);\n",
              "      a.click();\n",
              "      div.remove();\n",
              "    }\n",
              "  "
            ],
            "text/plain": [
              "<IPython.core.display.Javascript object>"
            ]
          },
          "metadata": {},
          "output_type": "display_data"
        },
        {
          "data": {
            "application/javascript": [
              "download(\"download_0f446c47-ebfb-4917-a444-7556df83b55d\", \"mathpass_ed_virtualper_influence.csv\", 156787)"
            ],
            "text/plain": [
              "<IPython.core.display.Javascript object>"
            ]
          },
          "metadata": {},
          "output_type": "display_data"
        }
      ],
      "source": [
        "ed_virtualper_inf = dfbetas(data.mathpass, exog, data.totaltest, 15, ckk = ckk[11])\n",
        "df = pd.DataFrame()\n",
        "df['mathpass_ed_virtualper_inf'] = ed_virtualper_inf\n",
        "df.to_csv('mathpass_ed_virtualper_influence.csv')\n",
        "files.download(f\"./mathpass_ed_virtualper_influence.csv\")"
      ]
    },
    {
      "cell_type": "code",
      "execution_count": null,
      "metadata": {
        "colab": {
          "base_uri": "https://localhost:8080/",
          "height": 17
        },
        "id": "zb0y8y4H87AP",
        "outputId": "d84b98b5-66a5-4390-9847-c5f5f43e4783"
      },
      "outputs": [
        {
          "data": {
            "application/javascript": [
              "\n",
              "    async function download(id, filename, size) {\n",
              "      if (!google.colab.kernel.accessAllowed) {\n",
              "        return;\n",
              "      }\n",
              "      const div = document.createElement('div');\n",
              "      const label = document.createElement('label');\n",
              "      label.textContent = `Downloading \"${filename}\": `;\n",
              "      div.appendChild(label);\n",
              "      const progress = document.createElement('progress');\n",
              "      progress.max = size;\n",
              "      div.appendChild(progress);\n",
              "      document.body.appendChild(div);\n",
              "\n",
              "      const buffers = [];\n",
              "      let downloaded = 0;\n",
              "\n",
              "      const channel = await google.colab.kernel.comms.open(id);\n",
              "      // Send a message to notify the kernel that we're ready.\n",
              "      channel.send({})\n",
              "\n",
              "      for await (const message of channel.messages) {\n",
              "        // Send a message to notify the kernel that we're ready.\n",
              "        channel.send({})\n",
              "        if (message.buffers) {\n",
              "          for (const buffer of message.buffers) {\n",
              "            buffers.push(buffer);\n",
              "            downloaded += buffer.byteLength;\n",
              "            progress.value = downloaded;\n",
              "          }\n",
              "        }\n",
              "      }\n",
              "      const blob = new Blob(buffers, {type: 'application/binary'});\n",
              "      const a = document.createElement('a');\n",
              "      a.href = window.URL.createObjectURL(blob);\n",
              "      a.download = filename;\n",
              "      div.appendChild(a);\n",
              "      a.click();\n",
              "      div.remove();\n",
              "    }\n",
              "  "
            ],
            "text/plain": [
              "<IPython.core.display.Javascript object>"
            ]
          },
          "metadata": {},
          "output_type": "display_data"
        },
        {
          "data": {
            "application/javascript": [
              "download(\"download_2179c9be-63d2-4183-91f7-ab646fa61d24\", \"mathpass_ed_hybridper_influence.csv\", 156374)"
            ],
            "text/plain": [
              "<IPython.core.display.Javascript object>"
            ]
          },
          "metadata": {},
          "output_type": "display_data"
        }
      ],
      "source": [
        "ed_hybridper_inf = dfbetas(data.mathpass, exog, data.totaltest, 16, ckk = ckk[12])\n",
        "df = pd.DataFrame()\n",
        "df['mathpass_ed_hybridper_inf'] = ed_hybridper_inf\n",
        "df.to_csv('mathpass_ed_hybridper_influence.csv')\n",
        "files.download(f\"./mathpass_ed_hybridper_influence.csv\")"
      ]
    },
    {
      "cell_type": "markdown",
      "source": [
        "# ELA Proficiency Rate"
      ],
      "metadata": {
        "id": "91oGIZiWvOG0"
      }
    },
    {
      "cell_type": "code",
      "execution_count": null,
      "metadata": {
        "id": "iLRrn_c8FEeg"
      },
      "outputs": [],
      "source": [
        "# compute C_kk\n",
        "in_ela = pd.read_csv('indiana_elapass.csv')\n",
        "il = pd.read_csv('illinois_all.csv')\n",
        "wi = pd.read_csv('wisconsin_all.csv')\n",
        "data = pd.concat([in_ela, il, wi]).loc[:, ['year', 'mergecode', 'state', 'totaltest', 'elapass',\n",
        "                                            'virtualper', 'hybridper', 'black', 'hispanic',\n",
        "                                            'white', 'lowincome']].reset_index().drop(columns = 'index')\n",
        "data['year'] = data['year'].astype('str')\n",
        "data['black_virtual'] = data['black'] * data['virtualper']\n",
        "data['black_hybrid'] = data['black'] * data['hybridper']\n",
        "data['hispanic_virtual'] = data['hispanic'] * data['virtualper']\n",
        "data['hispanic_hybrid'] = data['hispanic'] * data['hybridper']\n",
        "data['lowincome_virtual'] = data['lowincome'] * data['virtualper']\n",
        "data['lowincome_hybrid'] = data['lowincome'] * data['hybridper']\n",
        "\n",
        "dummy_variables = pd.get_dummies(data[['mergecode', 'year', 'state']], drop_first = True, dtype = 'int')\n",
        "data = pd.concat([data, dummy_variables], axis=1).drop(columns = ['year', 'mergecode', 'state'])\n",
        "\n",
        "data['in_virtual'] = data['state_indiana'] * data['virtualper']\n",
        "data['wi_virtual'] = data['state_wisconsin'] * data['virtualper']\n",
        "data['in_hybrid'] = data['state_indiana'] * data['hybridper']\n",
        "data['wi_hybrid'] = data['state_wisconsin'] * data['hybridper']\n",
        "\n",
        "exog = sm.add_constant(data.drop(columns = ['elapass', 'totaltest', 'state_indiana', 'state_wisconsin']))\n",
        "\n",
        "XtX_inv = np.linalg.inv(np.dot(exog.T, exog))\n",
        "ckk = np.diag(XtX_inv)\n",
        "\n",
        "# critical value\n",
        "critical_val = 2 / np.sqrt(data.shape[0])\n",
        "critical_val"
      ]
    },
    {
      "cell_type": "code",
      "execution_count": null,
      "metadata": {
        "id": "sLs6rJFoFEpP"
      },
      "outputs": [],
      "source": [
        "in_ela = pd.read_csv('new_indiana_elapass.csv')\n",
        "il = pd.read_csv('illinois_all.csv')\n",
        "wi = pd.read_csv('wisconsin_all.csv')\n",
        "data = pd.concat([in_ela, il, wi]).loc[:, ['year', 'mergecode', 'state', 'totaltest', 'elapass',\n",
        "                                            'virtualper', 'hybridper', 'black', 'hispanic',\n",
        "                                            'white', 'lowincome']]\n",
        "dummy_variables = pd.get_dummies(data[['state']], drop_first = True, dtype = 'int')\n",
        "data = pd.concat([data, dummy_variables], axis=1).drop(columns = ['state'])\n",
        "data['in_virtual'] = data['state_indiana'] * data['virtualper']\n",
        "data['wi_virtual'] = data['state_wisconsin'] * data['virtualper']\n",
        "data['in_hybrid'] = data['state_indiana'] * data['hybridper']\n",
        "data['wi_hybrid'] = data['state_wisconsin'] * data['hybridper']\n",
        "\n",
        "data['year'] = pd.to_datetime(data['year'], format='%y')\n",
        "data = data.drop(columns = ['state_indiana', 'state_wisconsin']).set_index(['mergecode', 'year'])\n",
        "\n",
        "data['black_virtual'] = data['black'] * data['virtualper']\n",
        "data['black_hybrid'] = data['black'] * data['hybridper']\n",
        "data['hispanic_virtual'] = data['hispanic'] * data['virtualper']\n",
        "data['hispanic_hybrid'] = data['hispanic'] * data['hybridper']\n",
        "data['lowincome_virtual'] = data['lowincome'] * data['virtualper']\n",
        "data['lowincome_hybrid'] = data['lowincome'] * data['hybridper']\n",
        "\n",
        "exog = data.drop(columns = ['totaltest', 'elapass'])\n",
        "exog = sm.add_constant(exog)"
      ]
    },
    {
      "cell_type": "code",
      "source": [
        "virtualper_inf = dfbetas(data.elapass, exog, data.totaltest, 1, ckk = ckk[1])\n",
        "df = pd.DataFrame()\n",
        "df['elapass_virtualper_inf'] = virtualper_inf\n",
        "df.to_csv('elapass_virtualper_influence.csv')\n",
        "files.download(f\"./elapass_virtualper_influence.csv\")"
      ],
      "metadata": {
        "id": "Y6iLWQT-uw_N"
      },
      "execution_count": null,
      "outputs": []
    },
    {
      "cell_type": "code",
      "source": [
        "hybridper_inf = dfbetas(data.elapass, exog, data.totaltest, 2, ckk = ckk[2])\n",
        "df = pd.DataFrame()\n",
        "df['elapass_hybridper_inf'] = hybridper_inf\n",
        "df.to_csv('elapass_hybridper_influence.csv')\n",
        "files.download(f\"./elapass_hybridper_influence.csv\")"
      ],
      "metadata": {
        "id": "ZyfyR058vcYC"
      },
      "execution_count": null,
      "outputs": []
    },
    {
      "cell_type": "code",
      "source": [
        "in_virtualper_inf = dfbetas(data.elapass, exog, data.totaltest, 7, ckk = ckk[1446])\n",
        "df = pd.DataFrame()\n",
        "df['elapass_in_virtualper_inf'] = in_virtualper_inf\n",
        "df.to_csv('elapass_in_virtualper_influence.csv')\n",
        "from google.colab import files\n",
        "files.download(f\"./elapass_in_virtualper_influence.csv\")"
      ],
      "metadata": {
        "id": "0ZXXoF2QvgQZ"
      },
      "execution_count": null,
      "outputs": []
    },
    {
      "cell_type": "code",
      "source": [
        "wi_virtualper_inf = dfbetas(data.elapass, exog, data.totaltest, 8, ckk = ckk[1447])\n",
        "df = pd.DataFrame()\n",
        "df['elapass_wi_virtualper_inf'] = wi_virtualper_inf\n",
        "df.to_csv('elapass_wi_virtualper_influence.csv')\n",
        "files.download(f\"./elapass_wi_virtualper_influence.csv\")"
      ],
      "metadata": {
        "id": "BpkAdUJfvh-2"
      },
      "execution_count": null,
      "outputs": []
    },
    {
      "cell_type": "code",
      "source": [
        "in_hybridper_inf = dfbetas(data.elapass, exog, data.totaltest, 9, ckk = ckk[1448])\n",
        "df = pd.DataFrame()\n",
        "df['elapass_in_hybridper_inf'] = in_hybridper_inf\n",
        "df.to_csv('elapass_in_hybridper_influence.csv')\n",
        "files.download(f\"./elapass_in_hybridper_influence.csv\")"
      ],
      "metadata": {
        "id": "8miZR9GPvjuA"
      },
      "execution_count": null,
      "outputs": []
    },
    {
      "cell_type": "code",
      "source": [
        "wi_hybridper_inf = dfbetas(data.elapass, exog, data.totaltest, 10, ckk = ckk[1449])\n",
        "df = pd.DataFrame()\n",
        "df['wi_elapass_hybridper_inf'] = wi_hybridper_inf\n",
        "df.to_csv('elapass_wi_hybridper_influence.csv')\n",
        "files.download(f\"./elapass_wi_hybridper_influence.csv\")"
      ],
      "metadata": {
        "id": "DWQBNkVyvlkf"
      },
      "execution_count": null,
      "outputs": []
    },
    {
      "cell_type": "code",
      "source": [
        "black_virtualper_inf = dfbetas(data.elapass, exog, data.totaltest, 11, ckk = ckk[7])\n",
        "df = pd.DataFrame()\n",
        "df['elapass_black_virtualper_inf'] = black_virtualper_inf\n",
        "df.to_csv('elapass_black_virtualper_influence.csv')\n",
        "files.download(f\"./elapass_black_virtualper_influence.csv\")"
      ],
      "metadata": {
        "id": "757CKn4svnd3"
      },
      "execution_count": null,
      "outputs": []
    },
    {
      "cell_type": "code",
      "source": [
        "black_hybridper_inf = dfbetas(data.elapass, exog, data.totaltest, 12, ckk = ckk[8])\n",
        "df = pd.DataFrame()\n",
        "df['black_elapass_hybridper_inf'] = black_hybridper_inf\n",
        "df.to_csv('elapass_black_hybridper_influence.csv')\n",
        "from google.colab import files\n",
        "files.download(f\"./elapass_black_hybridper_influence.csv\")"
      ],
      "metadata": {
        "id": "G3__lsCJvpf0"
      },
      "execution_count": null,
      "outputs": []
    },
    {
      "cell_type": "code",
      "source": [
        "hispanic_virtualper_inf = dfbetas(data.elapass, exog, data.totaltest, 13, ckk = ckk[9])\n",
        "df = pd.DataFrame()\n",
        "df['elapass_hispanic_virtualper_inf'] = hispanic_virtualper_inf\n",
        "df.to_csv('elapass_hispanic_virtualper_influence.csv')\n",
        "files.download(f\"./elapass_hispanic_virtualper_influence.csv\")"
      ],
      "metadata": {
        "id": "zwxkXsRvvrGK"
      },
      "execution_count": null,
      "outputs": []
    },
    {
      "cell_type": "code",
      "source": [
        "hispanic_hybridper_inf = dfbetas(data.elapass, exog, data.totaltest, 14, ckk = ckk[10])\n",
        "df = pd.DataFrame()\n",
        "df['hispanic_elapass_hybridper_inf'] = hispanic_hybridper_inf\n",
        "df.to_csv('elapass_hispanic_hybridper_influence.csv')\n",
        "files.download(f\"./elapass_hispanic_hybridper_influence.csv\")"
      ],
      "metadata": {
        "id": "mu2FkHJDvs8n"
      },
      "execution_count": null,
      "outputs": []
    },
    {
      "cell_type": "code",
      "source": [
        "ed_virtualper_inf = dfbetas(data.elapass, exog, data.totaltest, 15, ckk = ckk[11])\n",
        "df = pd.DataFrame()\n",
        "df['elapass_ed_virtualper_inf'] = ed_virtualper_inf\n",
        "df.to_csv('elapass_ed_virtualper_influence.csv')\n",
        "files.download(f\"./elapass_ed_virtualper_influence.csv\")"
      ],
      "metadata": {
        "id": "1asH7ItVvuqB"
      },
      "execution_count": null,
      "outputs": []
    },
    {
      "cell_type": "markdown",
      "source": [
        "# Dropout Rate"
      ],
      "metadata": {
        "id": "qPfwBN7Pv1Yy"
      }
    },
    {
      "cell_type": "code",
      "source": [
        "az = pd.read_csv('arizona_dropout.csv')\n",
        "co = pd.read_csv('colorado_dropout.csv')\n",
        "ga = pd.read_csv('georgia_dropout.csv')\n",
        "wi = pd.read_csv('wisconsin_all.csv')\n",
        "data = pd.concat([az, co, ga, wi]).loc[:, ['year', 'mergecode', 'state', 'totalenroll', 'droprate',\n",
        "                                            'virtualper', 'hybridper', 'black', 'hispanic',\n",
        "                                            'white', 'lowincome']].reset_index().drop(columns = 'index')\n",
        "\n",
        "data['year'] = data['year'].astype('str')\n",
        "data['black_virtual'] = data['black'] * data['virtualper']\n",
        "data['black_hybrid'] = data['black'] * data['hybridper']\n",
        "data['hispanic_virtual'] = data['hispanic'] * data['virtualper']\n",
        "data['hispanic_hybrid'] = data['hispanic'] * data['hybridper']\n",
        "data['lowincome_virtual'] = data['lowincome'] * data['virtualper']\n",
        "data['lowincome_hybrid'] = data['lowincome'] * data['hybridper']\n",
        "\n",
        "dummy_variables = pd.get_dummies(data[['mergecode', 'year', 'state']], drop_first = True, dtype = 'int')\n",
        "data = pd.concat([data, dummy_variables], axis=1).drop(columns = ['year', 'mergecode', 'state'])\n",
        "\n",
        "data['co_virtual'] = data['state_colorado'] * data['virtualper']\n",
        "data['ga_virtual'] = data['state_georgia'] * data['virtualper']\n",
        "data['wi_virtual'] = data['state_wisconsin'] * data['virtualper']\n",
        "data['co_hybrid'] = data['state_colorado'] * data['hybridper']\n",
        "data['ga_hybrid'] = data['state_georgia'] * data['hybridper']\n",
        "data['wi_hybrid'] = data['state_wisconsin'] * data['hybridper']\n",
        "\n",
        "exog = sm.add_constant(data.drop(columns = ['droprate', 'totalenroll', 'state_colorado', 'state_georgia', 'state_wisconsin']))\n",
        "\n",
        "XtX_inv = np.linalg.inv(np.dot(exog.T, exog))\n",
        "ckk = np.diag(XtX_inv)\n",
        "\n",
        "# critical value\n",
        "critical_val = 2 / np.sqrt(data.shape[0])"
      ],
      "metadata": {
        "id": "dsopLRh3v2zu"
      },
      "execution_count": 18,
      "outputs": []
    },
    {
      "cell_type": "code",
      "source": [
        "az = pd.read_csv('arizona_dropout.csv')\n",
        "co = pd.read_csv('colorado_dropout.csv')\n",
        "ga = pd.read_csv('georgia_dropout.csv')\n",
        "wi = pd.read_csv('wisconsin_all.csv')\n",
        "data = pd.concat([az, co, ga, wi]).loc[:, ['year', 'mergecode', 'state', 'totalenroll', 'droprate',\n",
        "                                            'virtualper', 'hybridper', 'black', 'hispanic',\n",
        "                                            'white', 'lowincome']].reset_index().drop(columns = 'index')\n",
        "\n",
        "dummy_variables = pd.get_dummies(data[['state']], drop_first = True, dtype = 'int')\n",
        "data = pd.concat([data, dummy_variables], axis=1).drop(columns = ['state'])\n",
        "data['co_virtual'] = data['state_colorado'] * data['virtualper']\n",
        "data['wi_virtual'] = data['state_wisconsin'] * data['virtualper']\n",
        "data['co_hybrid'] = data['state_colorado'] * data['hybridper']\n",
        "data['ga_hybrid'] = data['state_georgia'] * data['hybridper']\n",
        "data['wi_hybrid'] = data['state_wisconsin'] * data['hybridper']\n",
        "\n",
        "data['year'] = pd.to_datetime(data['year'], format='%y')\n",
        "data = data.drop(columns = ['state_colorado', 'state_georgia',\n",
        "                            'state_wisconsin']).set_index(['mergecode', 'year'])\n",
        "\n",
        "data['black_virtual'] = data['black'] * data['virtualper']\n",
        "data['black_hybrid'] = data['black'] * data['hybridper']\n",
        "data['hispanic_virtual'] = data['hispanic'] * data['virtualper']\n",
        "data['hispanic_hybrid'] = data['hispanic'] * data['hybridper']\n",
        "data['lowincome_virtual'] = data['lowincome'] * data['virtualper']\n",
        "data['lowincome_hybrid'] = data['lowincome'] * data['hybridper']\n",
        "\n",
        "exog = sm.add_constant(data.drop(columns = ['droprate', 'totalenroll']))"
      ],
      "metadata": {
        "id": "K0xaYr1PzNLR"
      },
      "execution_count": null,
      "outputs": []
    },
    {
      "cell_type": "code",
      "source": [
        "virtualper_inf = dfbetas(data.droprate, exog, data.totalenroll, 1, ckk = ckk[1])\n",
        "df = pd.DataFrame()\n",
        "df['drop_virtual'] = virtualper_inf\n",
        "df.to_csv('drop_virtual.csv')\n",
        "from google.colab import files\n",
        "files.download(f\"./drop_virtual.csv\")"
      ],
      "metadata": {
        "colab": {
          "base_uri": "https://localhost:8080/",
          "height": 17
        },
        "id": "2GmvBMcs0ugU",
        "outputId": "e154ea54-e2c2-4634-b7d0-8705e4ba1e4c"
      },
      "execution_count": null,
      "outputs": [
        {
          "output_type": "display_data",
          "data": {
            "text/plain": [
              "<IPython.core.display.Javascript object>"
            ],
            "application/javascript": [
              "\n",
              "    async function download(id, filename, size) {\n",
              "      if (!google.colab.kernel.accessAllowed) {\n",
              "        return;\n",
              "      }\n",
              "      const div = document.createElement('div');\n",
              "      const label = document.createElement('label');\n",
              "      label.textContent = `Downloading \"${filename}\": `;\n",
              "      div.appendChild(label);\n",
              "      const progress = document.createElement('progress');\n",
              "      progress.max = size;\n",
              "      div.appendChild(progress);\n",
              "      document.body.appendChild(div);\n",
              "\n",
              "      const buffers = [];\n",
              "      let downloaded = 0;\n",
              "\n",
              "      const channel = await google.colab.kernel.comms.open(id);\n",
              "      // Send a message to notify the kernel that we're ready.\n",
              "      channel.send({})\n",
              "\n",
              "      for await (const message of channel.messages) {\n",
              "        // Send a message to notify the kernel that we're ready.\n",
              "        channel.send({})\n",
              "        if (message.buffers) {\n",
              "          for (const buffer of message.buffers) {\n",
              "            buffers.push(buffer);\n",
              "            downloaded += buffer.byteLength;\n",
              "            progress.value = downloaded;\n",
              "          }\n",
              "        }\n",
              "      }\n",
              "      const blob = new Blob(buffers, {type: 'application/binary'});\n",
              "      const a = document.createElement('a');\n",
              "      a.href = window.URL.createObjectURL(blob);\n",
              "      a.download = filename;\n",
              "      div.appendChild(a);\n",
              "      a.click();\n",
              "      div.remove();\n",
              "    }\n",
              "  "
            ]
          },
          "metadata": {}
        },
        {
          "output_type": "display_data",
          "data": {
            "text/plain": [
              "<IPython.core.display.Javascript object>"
            ],
            "application/javascript": [
              "download(\"download_a8f48619-4d22-402d-8c19-1917fdae507b\", \"drop_virtualper.csv\", 228154)"
            ]
          },
          "metadata": {}
        }
      ]
    },
    {
      "cell_type": "code",
      "source": [
        "hybridper_inf = dfbetas(data.droprate, exog, data.totalenroll, 2, ckk = ckk[2])\n",
        "df = pd.DataFrame()\n",
        "df['drop_hybrid'] = hybridper_inf\n",
        "df.to_csv('drop_hybrid.csv')\n",
        "files.download(f\"./drop_hybrid.csv\")"
      ],
      "metadata": {
        "id": "l9gPTotkJGk2",
        "colab": {
          "base_uri": "https://localhost:8080/",
          "height": 17
        },
        "outputId": "180b5f0f-b1f5-4ff6-a90c-ce8a1ea6303a"
      },
      "execution_count": null,
      "outputs": [
        {
          "output_type": "display_data",
          "data": {
            "text/plain": [
              "<IPython.core.display.Javascript object>"
            ],
            "application/javascript": [
              "\n",
              "    async function download(id, filename, size) {\n",
              "      if (!google.colab.kernel.accessAllowed) {\n",
              "        return;\n",
              "      }\n",
              "      const div = document.createElement('div');\n",
              "      const label = document.createElement('label');\n",
              "      label.textContent = `Downloading \"${filename}\": `;\n",
              "      div.appendChild(label);\n",
              "      const progress = document.createElement('progress');\n",
              "      progress.max = size;\n",
              "      div.appendChild(progress);\n",
              "      document.body.appendChild(div);\n",
              "\n",
              "      const buffers = [];\n",
              "      let downloaded = 0;\n",
              "\n",
              "      const channel = await google.colab.kernel.comms.open(id);\n",
              "      // Send a message to notify the kernel that we're ready.\n",
              "      channel.send({})\n",
              "\n",
              "      for await (const message of channel.messages) {\n",
              "        // Send a message to notify the kernel that we're ready.\n",
              "        channel.send({})\n",
              "        if (message.buffers) {\n",
              "          for (const buffer of message.buffers) {\n",
              "            buffers.push(buffer);\n",
              "            downloaded += buffer.byteLength;\n",
              "            progress.value = downloaded;\n",
              "          }\n",
              "        }\n",
              "      }\n",
              "      const blob = new Blob(buffers, {type: 'application/binary'});\n",
              "      const a = document.createElement('a');\n",
              "      a.href = window.URL.createObjectURL(blob);\n",
              "      a.download = filename;\n",
              "      div.appendChild(a);\n",
              "      a.click();\n",
              "      div.remove();\n",
              "    }\n",
              "  "
            ]
          },
          "metadata": {}
        },
        {
          "output_type": "display_data",
          "data": {
            "text/plain": [
              "<IPython.core.display.Javascript object>"
            ],
            "application/javascript": [
              "download(\"download_3d8f863e-6a5b-4484-8bc9-1dfe4595bff3\", \"drop_hybridper.csv\", 228697)"
            ]
          },
          "metadata": {}
        }
      ]
    },
    {
      "cell_type": "code",
      "source": [
        "co_virtualper_inf = dfbetas(data.elapass, exog, data.totaltest, 7, ckk = ckk[1413])\n",
        "df = pd.DataFrame()\n",
        "df['drop_co_virtual'] = co_virtualper_inf\n",
        "df.to_csv('drop_co_virtual.csv')\n",
        "files.download(f\"./drop_co_virtual.csv\")"
      ],
      "metadata": {
        "id": "fEVYSr8lR_L-"
      },
      "execution_count": null,
      "outputs": []
    },
    {
      "cell_type": "code",
      "source": [
        "ga_virtualper_inf = dfbetas(data.elapass, exog, data.totaltest, 8, ckk = ckk[1414])\n",
        "df = pd.DataFrame()\n",
        "df['drop_ga_virtual'] = ga_virtualper_inf\n",
        "df.to_csv('drop_ga_virtual.csv')\n",
        "files.download(f\"./drop_ga_virtual.csv\")"
      ],
      "metadata": {
        "colab": {
          "base_uri": "https://localhost:8080/",
          "height": 17
        },
        "id": "f9JInCJq-Fao",
        "outputId": "fd3a62d1-8ade-4f8a-fadd-b62ad063b5ed"
      },
      "execution_count": null,
      "outputs": [
        {
          "output_type": "display_data",
          "data": {
            "text/plain": [
              "<IPython.core.display.Javascript object>"
            ],
            "application/javascript": [
              "\n",
              "    async function download(id, filename, size) {\n",
              "      if (!google.colab.kernel.accessAllowed) {\n",
              "        return;\n",
              "      }\n",
              "      const div = document.createElement('div');\n",
              "      const label = document.createElement('label');\n",
              "      label.textContent = `Downloading \"${filename}\": `;\n",
              "      div.appendChild(label);\n",
              "      const progress = document.createElement('progress');\n",
              "      progress.max = size;\n",
              "      div.appendChild(progress);\n",
              "      document.body.appendChild(div);\n",
              "\n",
              "      const buffers = [];\n",
              "      let downloaded = 0;\n",
              "\n",
              "      const channel = await google.colab.kernel.comms.open(id);\n",
              "      // Send a message to notify the kernel that we're ready.\n",
              "      channel.send({})\n",
              "\n",
              "      for await (const message of channel.messages) {\n",
              "        // Send a message to notify the kernel that we're ready.\n",
              "        channel.send({})\n",
              "        if (message.buffers) {\n",
              "          for (const buffer of message.buffers) {\n",
              "            buffers.push(buffer);\n",
              "            downloaded += buffer.byteLength;\n",
              "            progress.value = downloaded;\n",
              "          }\n",
              "        }\n",
              "      }\n",
              "      const blob = new Blob(buffers, {type: 'application/binary'});\n",
              "      const a = document.createElement('a');\n",
              "      a.href = window.URL.createObjectURL(blob);\n",
              "      a.download = filename;\n",
              "      div.appendChild(a);\n",
              "      a.click();\n",
              "      div.remove();\n",
              "    }\n",
              "  "
            ]
          },
          "metadata": {}
        },
        {
          "output_type": "display_data",
          "data": {
            "text/plain": [
              "<IPython.core.display.Javascript object>"
            ],
            "application/javascript": [
              "download(\"download_11b49318-568c-4f33-9b86-fac441247a33\", \"drop_co_virtual.csv\", 228584)"
            ]
          },
          "metadata": {}
        }
      ]
    },
    {
      "cell_type": "code",
      "source": [
        "wi_virtualper_inf = dfbetas(data.elapass, exog, data.totaltest, 9, ckk = ckk[1415])\n",
        "df = pd.DataFrame()\n",
        "df['drop_wi_virtual'] = wi_virtualper_inf\n",
        "df.to_csv('drop_wi_virtual.csv')\n",
        "files.download(f\"./drop_wi_virtual.csv\")"
      ],
      "metadata": {
        "id": "MksMqyaWTV9s"
      },
      "execution_count": null,
      "outputs": []
    },
    {
      "cell_type": "code",
      "source": [
        "co_hybridper_inf = dfbetas(data.droprate, exog, data.totalenroll, 10, ckk = ckk[1416])\n",
        "df = pd.DataFrame()\n",
        "df['drop_co_hybrid'] = co_hybridper_inf\n",
        "df.to_csv('drop_co_hybrid.csv')\n",
        "files.download(f\"./drop_co_hybrid.csv\")"
      ],
      "metadata": {
        "id": "TXAZZEhzTbJy"
      },
      "execution_count": null,
      "outputs": []
    },
    {
      "cell_type": "code",
      "source": [
        "ga_hybridper_inf = dfbetas(data.droprate, exog, data.totalenroll, 11, ckk = ckk[1417])\n",
        "df = pd.DataFrame()\n",
        "df['drop_ga_hybrid'] = ga_hybridper_inf\n",
        "df.to_csv('drop_ga_hybrid.csv')\n",
        "files.download(f\"./drop_ga_hybrid.csv\")"
      ],
      "metadata": {
        "id": "40WNhP61TYim"
      },
      "execution_count": null,
      "outputs": []
    },
    {
      "cell_type": "code",
      "source": [
        "wi_hybridper_inf = dfbetas(data.droprate, exog, data.totalenroll, 12, ckk = ckk[1418])\n",
        "df = pd.DataFrame()\n",
        "df['drop_wi_hybrid'] = wi_hybridper_inf\n",
        "df.to_csv('drop_wi_hybrid.csv')\n",
        "files.download(f\"./drop_wi_hybrid.csv\")"
      ],
      "metadata": {
        "id": "rL6IcDTGTbl2"
      },
      "execution_count": null,
      "outputs": []
    },
    {
      "cell_type": "code",
      "source": [
        "black_virtualper_inf = dfbetas(data.droprate, exog, data.totalenroll, 13, ckk = ckk[7])\n",
        "df = pd.DataFrame()\n",
        "df['drop_black_virtual'] = black_virtualper_inf\n",
        "df.to_csv('drop_black_virtual.csv')\n",
        "files.download(f\"./drop_black_virtual.csv\")"
      ],
      "metadata": {
        "id": "Q_aoiwjpT1Fo"
      },
      "execution_count": null,
      "outputs": []
    },
    {
      "cell_type": "code",
      "source": [
        "black_hybridper_inf = dfbetas(data.droprate, exog, data.totalenroll, 14, ckk = ckk[8])\n",
        "df = pd.DataFrame()\n",
        "df['drop_black_hybrid'] = black_hybridper_inf\n",
        "df.to_csv('drop_black_hybrid.csv')\n",
        "files.download(f\"./drop_black_hybrid.csv\")"
      ],
      "metadata": {
        "id": "Cn5eAQ8VTxBX"
      },
      "execution_count": null,
      "outputs": []
    },
    {
      "cell_type": "code",
      "source": [
        "his_virtualper_inf = dfbetas(data.droprate, exog, data.totalenroll, 15, ckk = ckk[9])\n",
        "df = pd.DataFrame()\n",
        "df['drop_his_virtual'] = his_virtualper_inf\n",
        "df.to_csv('drop_his_virtual.csv')\n",
        "files.download(f\"./drop_his_virtual.csv\")"
      ],
      "metadata": {
        "id": "6uRX416PT_cW"
      },
      "execution_count": null,
      "outputs": []
    },
    {
      "cell_type": "code",
      "source": [
        "his_hybridper_inf = dfbetas(data.droprate, exog, data.totalenroll, 16, ckk = ckk[10])\n",
        "df = pd.DataFrame()\n",
        "df['drop_his_hybrid'] = his_hybridper_inf\n",
        "df.to_csv('drop_his_hybrid.csv')\n",
        "files.download(f\"./drop_his_hybrid.csv\")"
      ],
      "metadata": {
        "id": "7zAq1qU9UCYE"
      },
      "execution_count": null,
      "outputs": []
    },
    {
      "cell_type": "code",
      "source": [
        "ed_virtualper_inf = dfbetas(data.droprate, exog, data.totalenroll, 17, ckk = ckk[11])\n",
        "df = pd.DataFrame()\n",
        "df['drop_ed_virtual'] = ed_virtualper_inf\n",
        "df.to_csv('drop_ed_virtual.csv')\n",
        "files.download(f\"./drop_ed_virtual.csv\")"
      ],
      "metadata": {
        "id": "WLZPHQxlUCpk"
      },
      "execution_count": null,
      "outputs": []
    },
    {
      "cell_type": "code",
      "source": [
        "ed_hybridper_inf = dfbetas(data.droprate, exog, data.totalenroll, 18, ckk = ckk[12])\n",
        "df = pd.DataFrame()\n",
        "df['drop_ed_hybrid'] = ed_hybridper_inf\n",
        "df.to_csv('drop_ed_hybrid.csv')\n",
        "files.download(f\"./drop_ed_hybrid.csv\")"
      ],
      "metadata": {
        "id": "51602dvZUCuy"
      },
      "execution_count": null,
      "outputs": []
    },
    {
      "cell_type": "markdown",
      "source": [
        "# After Removal"
      ],
      "metadata": {
        "id": "i7H_tGcHVFVs"
      }
    },
    {
      "cell_type": "markdown",
      "source": [
        "# Math Proficiency Rate"
      ],
      "metadata": {
        "id": "w9WyT_OQzedG"
      }
    },
    {
      "cell_type": "code",
      "source": [
        "drop = pd.read_csv('math_drop.csv').math_drop.to_list()\n",
        "\n",
        "# compute C_kk\n",
        "in_math = pd.read_csv('indiana_mathpass.csv')\n",
        "il = pd.read_csv('illinois_all.csv')\n",
        "wi = pd.read_csv('wisconsin_all.csv')\n",
        "data = pd.concat([in_math, il, wi]).loc[:, ['year', 'mergecode', 'state', 'totaltest', 'mathpass',\n",
        "                                            'virtualper', 'hybridper', 'black', 'hispanic',\n",
        "                                            'white', 'lowincome']].reset_index().drop(columns = 'index')\n",
        "\n",
        "data = data.loc[~data['mergecode'].isin(drop), :]\n",
        "data['year'] = data['year'].astype('str')\n",
        "data['black_virtual'] = data['black'] * data['virtualper']\n",
        "data['black_hybrid'] = data['black'] * data['hybridper']\n",
        "data['hispanic_virtual'] = data['hispanic'] * data['virtualper']\n",
        "data['hispanic_hybrid'] = data['hispanic'] * data['hybridper']\n",
        "data['lowincome_virtual'] = data['lowincome'] * data['virtualper']\n",
        "data['lowincome_hybrid'] = data['lowincome'] * data['hybridper']\n",
        "\n",
        "dummy_variables = pd.get_dummies(data[['mergecode', 'year', 'state']], drop_first = True, dtype = 'int')\n",
        "data = pd.concat([data, dummy_variables], axis=1).drop(columns = ['year', 'mergecode', 'state'])\n",
        "\n",
        "data['in_virtual'] = data['state_indiana'] * data['virtualper']\n",
        "data['wi_virtual'] = data['state_wisconsin'] * data['virtualper']\n",
        "data['in_hybrid'] = data['state_indiana'] * data['hybridper']\n",
        "data['wi_hybrid'] = data['state_wisconsin'] * data['hybridper']\n",
        "\n",
        "exog = sm.add_constant(data.drop(columns = ['mathpass', 'totaltest', 'state_indiana', 'state_wisconsin']))\n",
        "\n",
        "XtX_inv = np.linalg.inv(np.dot(exog.T, exog))\n",
        "ckk = np.diag(XtX_inv)\n",
        "\n",
        "# critical value\n",
        "critical_val = 2 / np.sqrt(data.shape[0])"
      ],
      "metadata": {
        "id": "2l87Q9kUVHcL"
      },
      "execution_count": 21,
      "outputs": []
    },
    {
      "cell_type": "code",
      "source": [
        "in_math = pd.read_csv('indiana_mathpass.csv')\n",
        "il = pd.read_csv('illinois_all.csv')\n",
        "wi = pd.read_csv('wisconsin_all.csv')\n",
        "data = pd.concat([in_math, il, wi]).loc[:, ['year', 'mergecode', 'state', 'totaltest', 'mathpass',\n",
        "                                            'virtualper', 'hybridper', 'black', 'hispanic',\n",
        "                                            'white', 'lowincome']].reset_index().drop(columns = 'index')\n",
        "\n",
        "data = data.loc[~data['mergecode'].isin(drop), :]\n",
        "\n",
        "dummy_variables = pd.get_dummies(data[['state']], drop_first = True, dtype = 'int')\n",
        "data = pd.concat([data, dummy_variables], axis=1).drop(columns = ['state'])\n",
        "data['in_virtual'] = data['state_indiana'] * data['virtualper']\n",
        "data['wi_virtual'] = data['state_wisconsin'] * data['virtualper']\n",
        "data['in_hybrid'] = data['state_indiana'] * data['hybridper']\n",
        "data['wi_hybrid'] = data['state_wisconsin'] * data['hybridper']\n",
        "\n",
        "data['year'] = pd.to_datetime(data['year'], format='%y')\n",
        "data = data.drop(columns = ['state_indiana', 'state_wisconsin']).set_index(['mergecode', 'year'])\n",
        "\n",
        "data['black_virtual'] = data['black'] * data['virtualper']\n",
        "data['black_hybrid'] = data['black'] * data['hybridper']\n",
        "data['hispanic_virtual'] = data['hispanic'] * data['virtualper']\n",
        "data['hispanic_hybrid'] = data['hispanic'] * data['hybridper']\n",
        "data['lowincome_virtual'] = data['lowincome'] * data['virtualper']\n",
        "data['lowincome_hybrid'] = data['lowincome'] * data['hybridper']\n",
        "\n",
        "exog = data.drop(columns = ['totaltest', 'mathpass'])\n",
        "exog = sm.add_constant(exog)"
      ],
      "metadata": {
        "id": "nmobFc24WqnD"
      },
      "execution_count": null,
      "outputs": []
    },
    {
      "cell_type": "code",
      "source": [
        "virtualper_inf = dfbetas(data.mathpass, exog, data.totaltest, 1, ckk = ckk[1])\n",
        "df = pd.DataFrame()\n",
        "df['mathpass_virtualper_inf'] = virtualper_inf\n",
        "df.to_csv('mathpass_virtualper_influence.csv')\n",
        "files.download(f\"./mathpass_virtualper_influence.csv\")"
      ],
      "metadata": {
        "id": "xO5RfPavW70H"
      },
      "execution_count": null,
      "outputs": []
    },
    {
      "cell_type": "code",
      "source": [
        "hybridper_inf = dfbetas(data.mathpass, exog, data.totaltest, 2, ckk = ckk[2])\n",
        "df = pd.DataFrame()\n",
        "df['mathpass_hybridper_inf'] = hybridper_inf\n",
        "df.to_csv('mathpass_hybridper_influence.csv')\n",
        "files.download(f\"./mathpass_hybridper_influence.csv\")"
      ],
      "metadata": {
        "id": "ZuSkwqALW_7E"
      },
      "execution_count": null,
      "outputs": []
    },
    {
      "cell_type": "code",
      "source": [
        "in_virtualper_inf = dfbetas(data.mathpass, exog, data.totaltest, 7, ckk = ckk[1283])\n",
        "df = pd.DataFrame()\n",
        "df['mathpass_in_virtualper_inf'] = in_virtualper_inf\n",
        "df.to_csv('mathpass_in_virtualper_influence.csv')\n",
        "files.download(f\"./mathpass_in_virtualper_influence.csv\")"
      ],
      "metadata": {
        "id": "IeMf7-VsXKbW"
      },
      "execution_count": null,
      "outputs": []
    },
    {
      "cell_type": "code",
      "source": [
        "wi_virtualper_inf = dfbetas(data.mathpass, exog, data.totaltest, 8, ckk = ckk[1284])\n",
        "df = pd.DataFrame()\n",
        "df['mathpass_wi_virtualper_inf'] = wi_virtualper_inf\n",
        "df.to_csv('mathpass_wi_virtualper_influence.csv')\n",
        "files.download(f\"./mathpass_wi_virtualper_influence.csv\")"
      ],
      "metadata": {
        "id": "EtjR6VSnXOBG"
      },
      "execution_count": null,
      "outputs": []
    },
    {
      "cell_type": "code",
      "source": [
        "in_hybridper_inf = dfbetas(data.mathpass, exog, data.totaltest, 9, ckk = ckk[1285])\n",
        "df = pd.DataFrame()\n",
        "df['mathpass_in_hybridper_inf'] = in_hybridper_inf\n",
        "df.to_csv('mathpass_in_hybridper_influence.csv')\n",
        "files.download(f\"./mathpass_in_hybridper_influence.csv\")"
      ],
      "metadata": {
        "id": "us3Wze9lXlEM"
      },
      "execution_count": null,
      "outputs": []
    },
    {
      "cell_type": "code",
      "source": [
        "wi_hybridper_inf = dfbetas(data.mathpass, exog, data.totaltest, 10, ckk = ckk[1286])\n",
        "df = pd.DataFrame()\n",
        "df['mathpass_wi_hybridper_inf'] = wi_hybridper_inf\n",
        "df.to_csv('mathpass_wi_hybridper_influence.csv')\n",
        "files.download(f\"./mathpass_wi_hybridper_influence.csv\")"
      ],
      "metadata": {
        "id": "AEwJ_dl2XodQ"
      },
      "execution_count": null,
      "outputs": []
    },
    {
      "cell_type": "code",
      "source": [
        "black_virtualper_inf = dfbetas(data.mathpass, exog, data.totaltest, 11, ckk = ckk[7])\n",
        "df = pd.DataFrame()\n",
        "df['mathpass_black_virtualper_inf'] = black_virtualper_inf\n",
        "df.to_csv('mathpass_black_virtualper_influence.csv')\n",
        "files.download(f\"./mathpass_black_virtualper_influence.csv\")"
      ],
      "metadata": {
        "id": "AZjWsicjXrCe"
      },
      "execution_count": null,
      "outputs": []
    },
    {
      "cell_type": "code",
      "source": [
        "black_hybridper_inf = dfbetas(data.mathpass, exog, data.totaltest, 12, ckk = ckk[8])\n",
        "df = pd.DataFrame()\n",
        "df['mathpass_black_hybridper_inf'] = black_hybridper_inf\n",
        "df.to_csv('mathpass_black_hybridper_influence.csv')\n",
        "files.download(f\"./mathpass_black_hybridper_influence.csv\")"
      ],
      "metadata": {
        "id": "NVk7eBWZXuJ2"
      },
      "execution_count": null,
      "outputs": []
    },
    {
      "cell_type": "code",
      "source": [
        "hispanic_virtualper_inf = dfbetas(data.mathpass, exog, data.totaltest, 13, ckk = ckk[9])\n",
        "df = pd.DataFrame()\n",
        "df['mathpass_hispanic_virtualper_inf'] = hispanic_virtualper_inf\n",
        "df.to_csv('mathpass_hispanic_virtualper_influence.csv')\n",
        "files.download(f\"./mathpass_hispanic_virtualper_influence.csv\")"
      ],
      "metadata": {
        "id": "mIdONF_bzTPs"
      },
      "execution_count": null,
      "outputs": []
    },
    {
      "cell_type": "code",
      "source": [
        "hispanic_hybridper_inf = dfbetas(data.mathpass, exog, data.totaltest, 14, ckk = ckk[10])\n",
        "df = pd.DataFrame()\n",
        "df['mathpass_hispanic_hybridper_inf'] = hispanic_hybridper_inf\n",
        "df.to_csv('mathpass_hispanic_hybridper_influence.csv')\n",
        "files.download(f\"./mathpass_hispanic_hybridper_influence.csv\")"
      ],
      "metadata": {
        "id": "QZutjHCTzVws"
      },
      "execution_count": null,
      "outputs": []
    },
    {
      "cell_type": "code",
      "source": [
        "ed_virtualper_inf = dfbetas(data.mathpass, exog, data.totaltest, 15, ckk = ckk[11])\n",
        "df = pd.DataFrame()\n",
        "df['mathpass_ed_virtualper_inf'] = ed_virtualper_inf\n",
        "df.to_csv('mathpass_ed_virtualper_influence.csv')\n",
        "files.download(f\"./mathpass_ed_virtualper_influence.csv\")"
      ],
      "metadata": {
        "id": "8jqzcyzZzYHK"
      },
      "execution_count": null,
      "outputs": []
    },
    {
      "cell_type": "code",
      "source": [
        "ed_hybridper_inf = dfbetas(data.mathpass, exog, data.totaltest, 16, ckk = ckk[12])\n",
        "df = pd.DataFrame()\n",
        "df['mathpass_ed_hybridper_inf'] = ed_hybridper_inf\n",
        "df.to_csv('mathpass_ed_hybridper_influence.csv')\n",
        "files.download(f\"./mathpass_ed_hybridper_influence.csv\")"
      ],
      "metadata": {
        "id": "vw06Aq8gzaiD"
      },
      "execution_count": null,
      "outputs": []
    },
    {
      "cell_type": "markdown",
      "source": [
        "# ELA Proficiency Rate"
      ],
      "metadata": {
        "id": "efOViSTfzh47"
      }
    },
    {
      "cell_type": "code",
      "source": [
        "drop = pd.read_csv('ela_inf_remove.csv').ela_drop.to_list()\n",
        "\n",
        "in_ela = pd.read_csv('indiana_elapass.csv')\n",
        "il = pd.read_csv('illinois_all.csv')\n",
        "wi = pd.read_csv('wisconsin_all.csv')\n",
        "data = pd.concat([in_ela, il, wi]).loc[:, ['year', 'mergecode', 'state', 'totaltest', 'elapass',\n",
        "                                            'virtualper', 'hybridper', 'black', 'hispanic',\n",
        "                                            'white', 'lowincome']]\n",
        "\n",
        "data = data.loc[~data['mergecode'].isin(drop), :].reset_index().drop(columns = 'index')\n",
        "\n",
        "data['year'] = data['year'].astype('str')\n",
        "data['black_virtual'] = data['black'] * data['virtualper']\n",
        "data['black_hybrid'] = data['black'] * data['hybridper']\n",
        "data['hispanic_virtual'] = data['hispanic'] * data['virtualper']\n",
        "data['hispanic_hybrid'] = data['hispanic'] * data['hybridper']\n",
        "data['lowincome_virtual'] = data['lowincome'] * data['virtualper']\n",
        "data['lowincome_hybrid'] = data['lowincome'] * data['hybridper']\n",
        "\n",
        "dummy_variables = pd.get_dummies(data[['mergecode', 'year', 'state']], drop_first = True, dtype = 'int')\n",
        "data = pd.concat([data, dummy_variables], axis=1).drop(columns = ['year', 'mergecode', 'state'])\n",
        "\n",
        "data['in_virtual'] = data['state_indiana'] * data['virtualper']\n",
        "data['wi_virtual'] = data['state_wisconsin'] * data['virtualper']\n",
        "data['in_hybrid'] = data['state_indiana'] * data['hybridper']\n",
        "data['wi_hybrid'] = data['state_wisconsin'] * data['hybridper']\n",
        "\n",
        "exog = sm.add_constant(data.drop(columns = ['elapass', 'totaltest', 'state_indiana', 'state_wisconsin']))\n",
        "\n",
        "XtX_inv = np.linalg.inv(np.dot(exog.T, exog))\n",
        "ckk = np.diag(XtX_inv)\n",
        "\n",
        "# critical value\n",
        "critical_val = 2 / np.sqrt(data.shape[0])"
      ],
      "metadata": {
        "id": "iFeqexdyzj2K"
      },
      "execution_count": null,
      "outputs": []
    },
    {
      "cell_type": "code",
      "source": [
        "in_ela = pd.read_csv('indiana_elapass.csv')\n",
        "il = pd.read_csv('illinois_all.csv')\n",
        "wi = pd.read_csv('wisconsin_all.csv')\n",
        "data = pd.concat([in_ela, il, wi]).loc[:, ['year', 'mergecode', 'state', 'totaltest', 'elapass',\n",
        "                                            'virtualper', 'hybridper', 'black', 'hispanic',\n",
        "                                            'white', 'lowincome']]\n",
        "\n",
        "data = data.loc[~data['mergecode'].isin(drop), :].reset_index().drop(columns = 'index')\n",
        "\n",
        "dummy_variables = pd.get_dummies(data[['state']], drop_first = True, dtype = 'int')\n",
        "data = pd.concat([data, dummy_variables], axis=1).drop(columns = ['state'])\n",
        "data['in_virtual'] = data['state_indiana'] * data['virtualper']\n",
        "data['wi_virtual'] = data['state_wisconsin'] * data['virtualper']\n",
        "data['in_hybrid'] = data['state_indiana'] * data['hybridper']\n",
        "data['wi_hybrid'] = data['state_wisconsin'] * data['hybridper']\n",
        "\n",
        "data['year'] = pd.to_datetime(data['year'], format='%y')\n",
        "data = data.drop(columns = ['state_indiana', 'state_wisconsin']).set_index(['mergecode', 'year'])\n",
        "\n",
        "data['black_virtual'] = data['black'] * data['virtualper']\n",
        "data['black_hybrid'] = data['black'] * data['hybridper']\n",
        "data['hispanic_virtual'] = data['hispanic'] * data['virtualper']\n",
        "data['hispanic_hybrid'] = data['hispanic'] * data['hybridper']\n",
        "data['lowincome_virtual'] = data['lowincome'] * data['virtualper']\n",
        "data['lowincome_hybrid'] = data['lowincome'] * data['hybridper']\n",
        "\n",
        "exog = data.drop(columns = ['totaltest', 'elapass'])\n",
        "exog = sm.add_constant(exog)"
      ],
      "metadata": {
        "id": "AprWYZn_0O_Y"
      },
      "execution_count": null,
      "outputs": []
    },
    {
      "cell_type": "code",
      "source": [
        "virtualper_inf = dfbetas(data.elapass, exog, data.totaltest, 1, ckk = ckk[1])\n",
        "df = pd.DataFrame()\n",
        "df['elapass_virtualper_inf'] = virtualper_inf\n",
        "df.to_csv('elapass_virtualper_influence.csv')\n",
        "files.download(f\"./elapass_virtualper_influence.csv\")"
      ],
      "metadata": {
        "id": "iBuxDKUI0UtV"
      },
      "execution_count": null,
      "outputs": []
    },
    {
      "cell_type": "code",
      "source": [
        "hybridper_inf = dfbetas(data.elapass, exog, data.totaltest, 2, ckk = ckk[2])\n",
        "df = pd.DataFrame()\n",
        "df['elapass_hybridper_inf'] = hybridper_inf\n",
        "df.to_csv('elapass_hybridper_influence.csv')\n",
        "files.download(f\"./elapass_hybridper_influence.csv\")"
      ],
      "metadata": {
        "id": "rpjVBL4F0bGC"
      },
      "execution_count": null,
      "outputs": []
    },
    {
      "cell_type": "code",
      "source": [
        "in_virtualper_inf = dfbetas(data.elapass, exog, data.totaltest, 7, ckk = ckk[1332])\n",
        "df = pd.DataFrame()\n",
        "df['elapass_in_virtualper_inf'] = in_virtualper_inf\n",
        "df.to_csv('elapass_in_virtualper_influence.csv')\n",
        "files.download(f\"./elapass_in_virtualper_influence.csv\")"
      ],
      "metadata": {
        "id": "Nz81NKhX0nLS"
      },
      "execution_count": null,
      "outputs": []
    },
    {
      "cell_type": "code",
      "source": [
        "wi_virtualper_inf = dfbetas(data.elapass, exog, data.totaltest, 8, ckk = ckk[1333])\n",
        "df = pd.DataFrame()\n",
        "df['elapass_wi_virtualper_inf'] = wi_virtualper_inf\n",
        "df.to_csv('elapass_wi_virtualper_influence.csv')\n",
        "files.download(f\"./elapass_wi_virtualper_influence.csv\")"
      ],
      "metadata": {
        "id": "47k2Z0c10qQ0"
      },
      "execution_count": null,
      "outputs": []
    },
    {
      "cell_type": "code",
      "source": [
        "in_hybridper_inf = dfbetas(data.elapass, exog, data.totaltest, 9, ckk = ckk[1334])\n",
        "df = pd.DataFrame()\n",
        "df['elapass_in_hybridper_inf'] = in_hybridper_inf\n",
        "df.to_csv('elapass_in_hybridper_influence.csv')\n",
        "files.download(f\"./elapass_in_hybridper_influence.csv\")"
      ],
      "metadata": {
        "id": "slBDF1vG1s7G"
      },
      "execution_count": null,
      "outputs": []
    },
    {
      "cell_type": "code",
      "source": [
        "wi_hybridper_inf = dfbetas(data.elapass, exog, data.totaltest, 10, ckk = ckk[1335])\n",
        "df = pd.DataFrame()\n",
        "df['elapass_wi_hybridper_inf'] = wi_hybridper_inf\n",
        "df.to_csv('elapass_wi_hybridper_influence.csv')\n",
        "files.download(f\"./elapass_wi_hybridper_influence.csv\")"
      ],
      "metadata": {
        "id": "61isfqIf1t6K"
      },
      "execution_count": null,
      "outputs": []
    },
    {
      "cell_type": "code",
      "source": [
        "black_virtualper_inf = dfbetas(data.elapass, exog, data.totaltest, 11, ckk = ckk[7])\n",
        "df = pd.DataFrame()\n",
        "df['elapass_black_virtualper_inf'] = black_virtualper_inf\n",
        "df.to_csv('elapass_black_virtualper_influence.csv')\n",
        "files.download(f\"./elapass_black_virtualper_influence.csv\")"
      ],
      "metadata": {
        "id": "GsTxCv1l2VqM"
      },
      "execution_count": null,
      "outputs": []
    },
    {
      "cell_type": "code",
      "source": [
        "black_hybridper_inf = dfbetas(data.elapass, exog, data.totaltest, 12, ckk = ckk[8])\n",
        "df = pd.DataFrame()\n",
        "df['black_elapass_hybridper_inf'] = black_hybridper_inf\n",
        "df.to_csv('elapass_black_hybridper_influence.csv')\n",
        "from google.colab import files\n",
        "files.download(f\"./elapass_black_hybridper_influence.csv\")"
      ],
      "metadata": {
        "id": "Z9AK8ZNk2mJX"
      },
      "execution_count": null,
      "outputs": []
    },
    {
      "cell_type": "code",
      "source": [
        "hispanic_virtualper_inf = dfbetas(data.elapass, exog, data.totaltest, 13, ckk = ckk[9])\n",
        "df = pd.DataFrame()\n",
        "df['elapass_hispanic_virtualper_inf'] = hispanic_virtualper_inf\n",
        "df.to_csv('elapass_hispanic_virtualper_influence.csv')\n",
        "files.download(f\"./elapass_hispanic_virtualper_influence.csv\")"
      ],
      "metadata": {
        "id": "MMsGcle82n1Q"
      },
      "execution_count": null,
      "outputs": []
    },
    {
      "cell_type": "code",
      "source": [
        "hispanic_hybridper_inf = dfbetas(data.elapass, exog, data.totaltest, 14, ckk = ckk[10])\n",
        "df = pd.DataFrame()\n",
        "df['hispanic_elapass_hybridper_inf'] = hispanic_hybridper_inf\n",
        "df.to_csv('elapass_hispanic_hybridper_influence.csv')\n",
        "files.download(f\"./elapass_hispanic_hybridper_influence.csv\")"
      ],
      "metadata": {
        "id": "Z3Hva0FF2qL-"
      },
      "execution_count": null,
      "outputs": []
    },
    {
      "cell_type": "code",
      "source": [
        "ed_virtualper_inf = dfbetas(data.elapass, exog, data.totaltest, 15, ckk = ckk[11])\n",
        "df = pd.DataFrame()\n",
        "df['elapass_ed_virtualper_inf'] = ed_virtualper_inf\n",
        "df.to_csv('elapass_ed_virtualper_influence.csv')\n",
        "files.download(f\"./elapass_ed_virtualper_influence.csv\")"
      ],
      "metadata": {
        "id": "tzRnADiE2r7q"
      },
      "execution_count": null,
      "outputs": []
    },
    {
      "cell_type": "code",
      "source": [
        "ed_hybridper_inf = dfbetas(data.elapass, exog, data.totaltest, 16, ckk = ckk[12])\n",
        "df = pd.DataFrame()\n",
        "df['ed_elapass_hybridper_inf'] = ed_hybridper_inf\n",
        "df.to_csv('elapass_ed_hybridper_influence.csv')\n",
        "files.download(f\"./elapass_ed_hybridper_influence.csv\")"
      ],
      "metadata": {
        "id": "NL_6g7292tjl"
      },
      "execution_count": null,
      "outputs": []
    },
    {
      "cell_type": "markdown",
      "source": [
        "# Dropout Rate"
      ],
      "metadata": {
        "id": "w5GTDHRR247x"
      }
    },
    {
      "cell_type": "code",
      "source": [
        "drop = pd.read_csv('drop_inf_remove.csv').drop_drop.to_list()\n",
        "\n",
        "# compute ckk\n",
        "az = pd.read_csv('arizona_dropout.csv')\n",
        "co = pd.read_csv('colorado_dropout.csv')\n",
        "ga = pd.read_csv('georgia_dropout.csv')\n",
        "wi = pd.read_csv('wisconsin_all.csv')\n",
        "data = pd.concat([az, co, ga, wi]).loc[:, ['year', 'mergecode', 'state', 'totalenroll', 'droprate',\n",
        "                                            'virtualper', 'hybridper', 'black', 'hispanic',\n",
        "                                            'white', 'lowincome']]\n",
        "\n",
        "data = data.loc[~data['mergecode'].isin(drop), :].reset_index().drop(columns = 'index')\n",
        "\n",
        "data['year'] = data['year'].astype('str')\n",
        "data['black_virtual'] = data['black'] * data['virtualper']\n",
        "data['black_hybrid'] = data['black'] * data['hybridper']\n",
        "data['hispanic_virtual'] = data['hispanic'] * data['virtualper']\n",
        "data['hispanic_hybrid'] = data['hispanic'] * data['hybridper']\n",
        "data['lowincome_virtual'] = data['lowincome'] * data['virtualper']\n",
        "data['lowincome_hybrid'] = data['lowincome'] * data['hybridper']\n",
        "\n",
        "dummy_variables = pd.get_dummies(data[['mergecode', 'year', 'state']], drop_first = True, dtype = 'int')\n",
        "data = pd.concat([data, dummy_variables], axis=1).drop(columns = ['year', 'mergecode', 'state'])\n",
        "\n",
        "data['co_virtual'] = data['state_colorado'] * data['virtualper']\n",
        "data['ga_virtual'] = data['state_georgia'] * data['virtualper']\n",
        "data['wi_virtual'] = data['state_wisconsin'] * data['virtualper']\n",
        "data['co_hybrid'] = data['state_colorado'] * data['hybridper']\n",
        "data['ga_hybrid'] = data['state_georgia'] * data['hybridper']\n",
        "data['wi_hybrid'] = data['state_wisconsin'] * data['hybridper']\n",
        "\n",
        "exog = sm.add_constant(data.drop(columns = ['droprate', 'totalenroll', 'state_colorado', 'state_georgia', 'state_wisconsin']))\n",
        "\n",
        "XtX_inv = np.linalg.inv(np.dot(exog.T, exog))\n",
        "ckk = np.diag(XtX_inv)"
      ],
      "metadata": {
        "id": "yPkyv65a4ckH"
      },
      "execution_count": null,
      "outputs": []
    },
    {
      "cell_type": "code",
      "source": [
        "virtualper_inf = dfbetas(data.droprate, exog, data.totalenroll, 1, ckk = ckk[1])\n",
        "df = pd.DataFrame()\n",
        "df['drop_virtual'] = virtualper_inf\n",
        "df.to_csv('drop_virtual.csv')\n",
        "files.download(f\"./drop_virtual.csv\")"
      ],
      "metadata": {
        "id": "QfQZLY8R26zZ"
      },
      "execution_count": null,
      "outputs": []
    },
    {
      "cell_type": "code",
      "source": [
        "hybridper_inf = dfbetas(data.droprate, exog, data.totalenroll, 2, ckk = ckk[2])\n",
        "df = pd.DataFrame()\n",
        "df['drop_hybrid'] = hybridper_inf\n",
        "df.to_csv('drop_hybrid.csv')\n",
        "files.download(f\"./drop_hybrid.csv\")"
      ],
      "metadata": {
        "id": "HZVMwwGA5CkL"
      },
      "execution_count": null,
      "outputs": []
    },
    {
      "cell_type": "code",
      "source": [
        "co_virtual_inf = dfbetas(data.droprate, exog, data.totalenroll, 7, ckk = ckk[1308])\n",
        "df = pd.DataFrame()\n",
        "df['drop_co_virtual'] = co_virtualper_inf\n",
        "df.to_csv('drop_co_virtual.csv')\n",
        "files.download(f\"./drop_co_virtual.csv\")"
      ],
      "metadata": {
        "id": "y5htjc1v5HhE"
      },
      "execution_count": null,
      "outputs": []
    },
    {
      "cell_type": "code",
      "source": [
        "ga_virtual_inf = dfbetas(data.droprate, exog, data.totalenroll, 8, ckk = ckk[1309])\n",
        "df = pd.DataFrame()\n",
        "df['drop_ga_virtual'] = ga_virtual_inf\n",
        "df.to_csv('drop_ga_virtual.csv')\n",
        "files.download(f\"./drop_ga_virtual.csv\")"
      ],
      "metadata": {
        "id": "oMffRrpW5Kkz"
      },
      "execution_count": null,
      "outputs": []
    },
    {
      "cell_type": "code",
      "source": [
        "wi_virtual_inf = dfbetas(data.droprate, exog, data.totalenroll, 9, ckk = ckk[1310])\n",
        "df = pd.DataFrame()\n",
        "df['drop_wi_virtual'] = wi_virtual_inf\n",
        "df.to_csv('drop_wi_virtual.csv')\n",
        "files.download(f\"./drop_wi_virtual.csv\")"
      ],
      "metadata": {
        "id": "XfhWZFF35NP7"
      },
      "execution_count": null,
      "outputs": []
    },
    {
      "cell_type": "code",
      "source": [
        "co_hybrid_inf = dfbetas(data.droprate, exog, data.totalenroll, 10, ckk = ckk[1311])\n",
        "df = pd.DataFrame()\n",
        "df['drop_co_hybrid'] = co_hybrid_inf\n",
        "df.to_csv('drop_co_hybrid.csv')\n",
        "files.download(f\"./drop_co_hybrid.csv\")"
      ],
      "metadata": {
        "id": "UC2YIjQ55P5h"
      },
      "execution_count": null,
      "outputs": []
    },
    {
      "cell_type": "code",
      "source": [
        "ga_hybrid_inf = dfbetas(data.droprate, exog, data.totalenroll, 11, ckk = ckk[1312])\n",
        "df = pd.DataFrame()\n",
        "df['drop_ga_hybrid'] = ga_hybrid_inf\n",
        "df.to_csv('drop_ga_hybrid.csv')\n",
        "files.download(f\"./drop_ga_hybrid.csv\")"
      ],
      "metadata": {
        "id": "WqJe3bp55SLl"
      },
      "execution_count": null,
      "outputs": []
    },
    {
      "cell_type": "code",
      "source": [
        "wi_hybrid_inf = dfbetas(data.droprate, exog, data.totalenroll, 12, ckk = ckk[1313])\n",
        "df = pd.DataFrame()\n",
        "df['drop_wi_hybrid'] = wi_hybrid_inf\n",
        "df.to_csv('drop_wi_hybrid.csv')\n",
        "files.download(f\"./drop_wi_hybrid.csv\")"
      ],
      "metadata": {
        "id": "7bxdP3ho5Ubf"
      },
      "execution_count": null,
      "outputs": []
    },
    {
      "cell_type": "code",
      "source": [
        "black_virtual_inf = dfbetas(data.droprate, exog, data.totalenroll, 13, ckk = ckk[7])\n",
        "df = pd.DataFrame()\n",
        "df['drop_black_virtual'] = black_virtual_inf\n",
        "df.to_csv('drop_black_virtual.csv')\n",
        "files.download(f\"./drop_black_virtual.csv\")"
      ],
      "metadata": {
        "id": "or_pgfKk5W73"
      },
      "execution_count": null,
      "outputs": []
    },
    {
      "cell_type": "code",
      "source": [
        "black_hybrid_inf = dfbetas(data.droprate, exog, data.totalenroll, 14, ckk = ckk[8])\n",
        "df = pd.DataFrame()\n",
        "df['drop_black_hybrid'] = black_hybrid_inf\n",
        "df.to_csv('drop_black_hybrid.csv')\n",
        "files.download(f\"./drop_black_hybrid.csv\")"
      ],
      "metadata": {
        "id": "JPWLyIqq5Zm2"
      },
      "execution_count": null,
      "outputs": []
    },
    {
      "cell_type": "code",
      "source": [
        "his_virtual_inf = dfbetas(data.droprate, exog, data.totalenroll, 15, ckk = ckk[9])\n",
        "df = pd.DataFrame()\n",
        "df['drop_his_virtual'] = his_virtual_inf\n",
        "df.to_csv('drop_his_virtual.csv')\n",
        "files.download(f\"./drop_his_virtual.csv\")"
      ],
      "metadata": {
        "id": "Jtxegv2P5b5o"
      },
      "execution_count": null,
      "outputs": []
    },
    {
      "cell_type": "code",
      "source": [
        "his_hybrid_inf = dfbetas(data.droprate, exog, data.totalenroll, 16, ckk = ckk[10])\n",
        "df = pd.DataFrame()\n",
        "df['drop_his_hybrid'] = his_hybrid_inf\n",
        "df.to_csv('drop_his_hybrid.csv')\n",
        "files.download(f\"./drop_his_hybrid.csv\")"
      ],
      "metadata": {
        "id": "SxqDTvez5eCS"
      },
      "execution_count": null,
      "outputs": []
    },
    {
      "cell_type": "code",
      "source": [
        "ed_virtual_inf = dfbetas(data.droprate, exog, data.totalenroll, 17, ckk = ckk[11])\n",
        "df = pd.DataFrame()\n",
        "df['drop_ed_virtual'] = ed_virtual_inf\n",
        "df.to_csv('drop_ed_virtual.csv')\n",
        "files.download(f\"./drop_ed_virtual.csv\")"
      ],
      "metadata": {
        "id": "3eVipiDV5gVv"
      },
      "execution_count": null,
      "outputs": []
    },
    {
      "cell_type": "code",
      "source": [
        "ed_hybrid_inf = dfbetas(data.droprate, exog, data.totalenroll, 18, ckk = ckk[12])\n",
        "df = pd.DataFrame()\n",
        "df['drop_ed_hybrid'] = ed_hybrid_inf\n",
        "df.to_csv('drop_ed_hybrid.csv')\n",
        "files.download(f\"./drop_ed_hybrid.csv\")"
      ],
      "metadata": {
        "id": "Me5Q5vwc5irS"
      },
      "execution_count": null,
      "outputs": []
    },
    {
      "cell_type": "code",
      "source": [],
      "metadata": {
        "id": "ovoF8QRy5nV8"
      },
      "execution_count": null,
      "outputs": []
    }
  ],
  "metadata": {
    "accelerator": "TPU",
    "colab": {
      "gpuType": "V28",
      "provenance": []
    },
    "kernelspec": {
      "display_name": "Python 3",
      "name": "python3"
    },
    "language_info": {
      "name": "python"
    }
  },
  "nbformat": 4,
  "nbformat_minor": 0
}